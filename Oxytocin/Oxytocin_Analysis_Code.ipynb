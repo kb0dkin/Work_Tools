{
 "cells": [
  {
   "cell_type": "markdown",
   "metadata": {},
   "source": [
    "# Oxytocin analysis code"
   ]
  },
  {
   "cell_type": "code",
   "execution_count": 1,
   "metadata": {},
   "outputs": [],
   "source": [
    "import utility_functions # loading and processing code\n",
    "\n",
    "# matplotlib stuff\n",
    "from matplotlib import pyplot as plt\n",
    "from matplotlib.patches import Polygon # errorbars and standard deviations\n",
    "%matplotlib qt\n",
    "\n",
    "# data analysis standards\n",
    "import numpy as np\n",
    "import pandas as pd\n",
    "from scipy import signal\n",
    "import os, re\n",
    "from pathlib import Path\n",
    "\n",
    "# csv writing for figure data etc\n",
    "import csv\n"
   ]
  },
  {
   "cell_type": "markdown",
   "metadata": {},
   "source": [
    "# Data import and cleaning\n",
    "\n",
    "Bring in the data, do some basic cleaning before sending it to Kilosort etc"
   ]
  },
  {
   "cell_type": "code",
   "execution_count": 2,
   "metadata": {},
   "outputs": [
    {
     "ename": "MemoryError",
     "evalue": "Unable to allocate 75.6 GiB for an array with shape (158575616, 64) and data type float64",
     "output_type": "error",
     "traceback": [
      "\u001b[1;31m---------------------------------------------------------------------------\u001b[0m",
      "\u001b[1;31mMemoryError\u001b[0m                               Traceback (most recent call last)",
      "Cell \u001b[1;32mIn[2], line 7\u001b[0m\n\u001b[0;32m      1\u001b[0m \u001b[38;5;66;03m# recording directory\u001b[39;00m\n\u001b[0;32m      2\u001b[0m \u001b[38;5;66;03m# assume all subdirectories are from the same session and to be concatenated\u001b[39;00m\n\u001b[0;32m      3\u001b[0m \u001b[38;5;66;03m# recording_dir = Path('Y:\\\\Sara\\\\in vivo phys\\\\open_ephys\\\\Mudd data\\\\awake\\\\oxt-cre_male_2505\\\\oxt-cre_m2505_2025-03-17_14-25-13')\u001b[39;00m\n\u001b[0;32m      4\u001b[0m recording_dir \u001b[38;5;241m=\u001b[39m \u001b[38;5;124m'\u001b[39m\u001b[38;5;124mY:\u001b[39m\u001b[38;5;130;01m\\\\\u001b[39;00m\u001b[38;5;124mSara\u001b[39m\u001b[38;5;130;01m\\\\\u001b[39;00m\u001b[38;5;124min vivo phys\u001b[39m\u001b[38;5;130;01m\\\\\u001b[39;00m\u001b[38;5;124mopen_ephys\u001b[39m\u001b[38;5;130;01m\\\\\u001b[39;00m\u001b[38;5;124mMudd data\u001b[39m\u001b[38;5;130;01m\\\\\u001b[39;00m\u001b[38;5;124mawake\u001b[39m\u001b[38;5;130;01m\\\\\u001b[39;00m\u001b[38;5;124moxt-cre_male_2506\u001b[39m\u001b[38;5;130;01m\\\\\u001b[39;00m\u001b[38;5;124moxt-cre_m2506_2025-03-20_14-18-47\u001b[39m\u001b[38;5;124m'\u001b[39m\n\u001b[1;32m----> 7\u001b[0m sig \u001b[38;5;241m=\u001b[39m \u001b[43mutility_functions\u001b[49m\u001b[38;5;241;43m.\u001b[39;49m\u001b[43mopen_raw\u001b[49m\u001b[43m(\u001b[49m\u001b[43mrecording_dir\u001b[49m\u001b[43m)\u001b[49m\n",
      "File \u001b[1;32mc:\\Users\\17204\\Documents\\git\\Work_Tools\\Oxytocin\\utility_functions.py:77\u001b[0m, in \u001b[0;36mopen_raw\u001b[1;34m(directory, verbose)\u001b[0m\n\u001b[0;32m     74\u001b[0m         \u001b[38;5;28mprint\u001b[39m(\u001b[38;5;124m'\u001b[39m\u001b[38;5;130;01m\\n\u001b[39;00m\u001b[38;5;124m'\u001b[39m)\n\u001b[0;32m     76\u001b[0m \u001b[38;5;66;03m# load the continuous data from the first recordnode/recording\u001b[39;00m\n\u001b[1;32m---> 77\u001b[0m recording \u001b[38;5;241m=\u001b[39m \u001b[43msession\u001b[49m\u001b[38;5;241;43m.\u001b[39;49m\u001b[43mrecordnodes\u001b[49m\u001b[43m[\u001b[49m\u001b[38;5;241;43m0\u001b[39;49m\u001b[43m]\u001b[49m\u001b[38;5;241;43m.\u001b[39;49m\u001b[43mrecordings\u001b[49m\u001b[43m[\u001b[49m\u001b[38;5;241;43m0\u001b[39;49m\u001b[43m]\u001b[49m\u001b[38;5;241;43m.\u001b[39;49m\u001b[43mcontinuous\u001b[49m[\u001b[38;5;241m0\u001b[39m]\n\u001b[0;32m     78\u001b[0m sig \u001b[38;5;241m=\u001b[39m recording\u001b[38;5;241m.\u001b[39msamples[:,:\u001b[38;5;241m64\u001b[39m] \u001b[38;5;241m*\u001b[39m recording\u001b[38;5;241m.\u001b[39mmetadata[\u001b[38;5;124m'\u001b[39m\u001b[38;5;124mbit_volts\u001b[39m\u001b[38;5;124m'\u001b[39m][\u001b[38;5;241m0\u001b[39m] \u001b[38;5;66;03m# convert to voltage\u001b[39;00m\n\u001b[0;32m     81\u001b[0m \u001b[38;5;66;03m# timestamps -- \u001b[39;00m\n\u001b[0;32m     82\u001b[0m \u001b[38;5;66;03m#   we'll be using \"sample numbers\" as the basis, which don't start at 0\u001b[39;00m\n",
      "File \u001b[1;32mc:\\Users\\17204\\miniconda3\\envs\\oxytocin_analysis\\lib\\site-packages\\open_ephys\\analysis\\recording.py:64\u001b[0m, in \u001b[0;36mRecording.continuous\u001b[1;34m(self)\u001b[0m\n\u001b[0;32m     61\u001b[0m \u001b[38;5;129m@property\u001b[39m\n\u001b[0;32m     62\u001b[0m \u001b[38;5;28;01mdef\u001b[39;00m\u001b[38;5;250m \u001b[39m\u001b[38;5;21mcontinuous\u001b[39m(\u001b[38;5;28mself\u001b[39m):\n\u001b[0;32m     63\u001b[0m     \u001b[38;5;28;01mif\u001b[39;00m \u001b[38;5;28mself\u001b[39m\u001b[38;5;241m.\u001b[39m_continuous \u001b[38;5;129;01mis\u001b[39;00m \u001b[38;5;28;01mNone\u001b[39;00m:\n\u001b[1;32m---> 64\u001b[0m         \u001b[38;5;28;43mself\u001b[39;49m\u001b[38;5;241;43m.\u001b[39;49m\u001b[43mload_continuous\u001b[49m\u001b[43m(\u001b[49m\u001b[43m)\u001b[49m\n\u001b[0;32m     65\u001b[0m     \u001b[38;5;28;01mreturn\u001b[39;00m \u001b[38;5;28mself\u001b[39m\u001b[38;5;241m.\u001b[39m_continuous\n",
      "File \u001b[1;32mc:\\Users\\17204\\miniconda3\\envs\\oxytocin_analysis\\lib\\site-packages\\open_ephys\\analysis\\formats\\OpenEphysRecording.py:120\u001b[0m, in \u001b[0;36mOpenEphysRecording.load_continuous\u001b[1;34m(self)\u001b[0m\n\u001b[0;32m    115\u001b[0m files \u001b[38;5;241m=\u001b[39m \u001b[38;5;28mself\u001b[39m\u001b[38;5;241m.\u001b[39mfind_continuous_files()\n\u001b[0;32m    117\u001b[0m processor_ids \u001b[38;5;241m=\u001b[39m np\u001b[38;5;241m.\u001b[39munique(np\u001b[38;5;241m.\u001b[39marray([os\u001b[38;5;241m.\u001b[39mpath\u001b[38;5;241m.\u001b[39mbasename(fname)\u001b[38;5;241m.\u001b[39msplit(\u001b[38;5;124m'\u001b[39m\u001b[38;5;124m_\u001b[39m\u001b[38;5;124m'\u001b[39m)[\u001b[38;5;241m0\u001b[39m]\n\u001b[0;32m    118\u001b[0m                                     \u001b[38;5;28;01mfor\u001b[39;00m fname \u001b[38;5;129;01min\u001b[39;00m files]))\n\u001b[1;32m--> 120\u001b[0m \u001b[38;5;28mself\u001b[39m\u001b[38;5;241m.\u001b[39m_continuous \u001b[38;5;241m=\u001b[39m [\u001b[38;5;28mself\u001b[39m\u001b[38;5;241m.\u001b[39mContinuous(files, processor_id, \u001b[38;5;28mself\u001b[39m\u001b[38;5;241m.\u001b[39mrecording_index)\n\u001b[0;32m    121\u001b[0m                     \u001b[38;5;28;01mfor\u001b[39;00m processor_id \u001b[38;5;129;01min\u001b[39;00m processor_ids]\n",
      "File \u001b[1;32mc:\\Users\\17204\\miniconda3\\envs\\oxytocin_analysis\\lib\\site-packages\\open_ephys\\analysis\\formats\\OpenEphysRecording.py:120\u001b[0m, in \u001b[0;36m<listcomp>\u001b[1;34m(.0)\u001b[0m\n\u001b[0;32m    115\u001b[0m files \u001b[38;5;241m=\u001b[39m \u001b[38;5;28mself\u001b[39m\u001b[38;5;241m.\u001b[39mfind_continuous_files()\n\u001b[0;32m    117\u001b[0m processor_ids \u001b[38;5;241m=\u001b[39m np\u001b[38;5;241m.\u001b[39munique(np\u001b[38;5;241m.\u001b[39marray([os\u001b[38;5;241m.\u001b[39mpath\u001b[38;5;241m.\u001b[39mbasename(fname)\u001b[38;5;241m.\u001b[39msplit(\u001b[38;5;124m'\u001b[39m\u001b[38;5;124m_\u001b[39m\u001b[38;5;124m'\u001b[39m)[\u001b[38;5;241m0\u001b[39m]\n\u001b[0;32m    118\u001b[0m                                     \u001b[38;5;28;01mfor\u001b[39;00m fname \u001b[38;5;129;01min\u001b[39;00m files]))\n\u001b[1;32m--> 120\u001b[0m \u001b[38;5;28mself\u001b[39m\u001b[38;5;241m.\u001b[39m_continuous \u001b[38;5;241m=\u001b[39m [\u001b[38;5;28;43mself\u001b[39;49m\u001b[38;5;241;43m.\u001b[39;49m\u001b[43mContinuous\u001b[49m\u001b[43m(\u001b[49m\u001b[43mfiles\u001b[49m\u001b[43m,\u001b[49m\u001b[43m \u001b[49m\u001b[43mprocessor_id\u001b[49m\u001b[43m,\u001b[49m\u001b[43m \u001b[49m\u001b[38;5;28;43mself\u001b[39;49m\u001b[38;5;241;43m.\u001b[39;49m\u001b[43mrecording_index\u001b[49m\u001b[43m)\u001b[49m\n\u001b[0;32m    121\u001b[0m                     \u001b[38;5;28;01mfor\u001b[39;00m processor_id \u001b[38;5;129;01min\u001b[39;00m processor_ids]\n",
      "File \u001b[1;32mc:\\Users\\17204\\miniconda3\\envs\\oxytocin_analysis\\lib\\site-packages\\open_ephys\\analysis\\formats\\OpenEphysRecording.py:49\u001b[0m, in \u001b[0;36mOpenEphysRecording.Continuous.__init__\u001b[1;34m(self, files, processor_id, recording_index)\u001b[0m\n\u001b[0;32m     46\u001b[0m \u001b[38;5;28mself\u001b[39m\u001b[38;5;241m.\u001b[39mtimestamps, _, _ \u001b[38;5;241m=\u001b[39m load(files[\u001b[38;5;241m0\u001b[39m], recording_index)\n\u001b[0;32m     47\u001b[0m \u001b[38;5;28mself\u001b[39m\u001b[38;5;241m.\u001b[39mglobal_timestamps \u001b[38;5;241m=\u001b[39m \u001b[38;5;28;01mNone\u001b[39;00m\n\u001b[1;32m---> 49\u001b[0m \u001b[38;5;28mself\u001b[39m\u001b[38;5;241m.\u001b[39msamples \u001b[38;5;241m=\u001b[39m \u001b[43mnp\u001b[49m\u001b[38;5;241;43m.\u001b[39;49m\u001b[43mzeros\u001b[49m\u001b[43m(\u001b[49m\u001b[43m(\u001b[49m\u001b[38;5;28;43mlen\u001b[39;49m\u001b[43m(\u001b[49m\u001b[38;5;28;43mself\u001b[39;49m\u001b[38;5;241;43m.\u001b[39;49m\u001b[43mtimestamps\u001b[49m\u001b[43m)\u001b[49m\u001b[43m,\u001b[49m\u001b[43m \u001b[49m\u001b[38;5;28;43mlen\u001b[39;49m\u001b[43m(\u001b[49m\u001b[43mfiles\u001b[49m\u001b[43m)\u001b[49m\u001b[43m)\u001b[49m\u001b[43m)\u001b[49m\n\u001b[0;32m     50\u001b[0m \u001b[38;5;28mself\u001b[39m\u001b[38;5;241m.\u001b[39mmetadata \u001b[38;5;241m=\u001b[39m {}\n\u001b[0;32m     51\u001b[0m \u001b[38;5;28mself\u001b[39m\u001b[38;5;241m.\u001b[39mmetadata[\u001b[38;5;124m'\u001b[39m\u001b[38;5;124mnames\u001b[39m\u001b[38;5;124m'\u001b[39m] \u001b[38;5;241m=\u001b[39m []\n",
      "\u001b[1;31mMemoryError\u001b[0m: Unable to allocate 75.6 GiB for an array with shape (158575616, 64) and data type float64"
     ]
    }
   ],
   "source": [
    "# recording directory\n",
    "# assume all subdirectories are from the same session and to be concatenated\n",
    "# recording_dir = Path('Y:\\\\Sara\\\\in vivo phys\\\\open_ephys\\\\Mudd data\\\\awake\\\\oxt-cre_male_2505\\\\oxt-cre_m2505_2025-03-17_14-25-13')\n",
    "recording_dir = 'Y:\\\\Sara\\\\in vivo phys\\\\open_ephys\\\\Mudd data\\\\awake\\\\oxt-cre_male_2506\\\\oxt-cre_m2506_2025-03-20_14-18-47'\n",
    "\n",
    "\n",
    "sig = utility_functions.open_raw(recording_dir)\n"
   ]
  },
  {
   "cell_type": "code",
   "execution_count": 4,
   "metadata": {},
   "outputs": [],
   "source": [
    "from open_ephys.analysis import Session\n",
    "\n",
    "session = Session(recording_dir)\n"
   ]
  },
  {
   "cell_type": "code",
   "execution_count": null,
   "metadata": {},
   "outputs": [
    {
     "ename": "MemoryError",
     "evalue": "Unable to allocate 75.6 GiB for an array with shape (158575616, 64) and data type float64",
     "output_type": "error",
     "traceback": [
      "\u001b[1;31m---------------------------------------------------------------------------\u001b[0m",
      "\u001b[1;31mMemoryError\u001b[0m                               Traceback (most recent call last)",
      "Cell \u001b[1;32mIn[20], line 1\u001b[0m\n\u001b[1;32m----> 1\u001b[0m \u001b[38;5;28mtype\u001b[39m(\u001b[43msession\u001b[49m\u001b[38;5;241;43m.\u001b[39;49m\u001b[43mrecordnodes\u001b[49m\u001b[43m[\u001b[49m\u001b[38;5;241;43m0\u001b[39;49m\u001b[43m]\u001b[49m\u001b[38;5;241;43m.\u001b[39;49m\u001b[43mrecordings\u001b[49m\u001b[43m[\u001b[49m\u001b[38;5;241;43m0\u001b[39;49m\u001b[43m]\u001b[49m\u001b[38;5;241;43m.\u001b[39;49m\u001b[43mcontinuous\u001b[49m)\n",
      "File \u001b[1;32mc:\\Users\\17204\\miniconda3\\envs\\oxytocin_analysis\\lib\\site-packages\\open_ephys\\analysis\\recording.py:64\u001b[0m, in \u001b[0;36mRecording.continuous\u001b[1;34m(self)\u001b[0m\n\u001b[0;32m     61\u001b[0m \u001b[38;5;129m@property\u001b[39m\n\u001b[0;32m     62\u001b[0m \u001b[38;5;28;01mdef\u001b[39;00m\u001b[38;5;250m \u001b[39m\u001b[38;5;21mcontinuous\u001b[39m(\u001b[38;5;28mself\u001b[39m):\n\u001b[0;32m     63\u001b[0m     \u001b[38;5;28;01mif\u001b[39;00m \u001b[38;5;28mself\u001b[39m\u001b[38;5;241m.\u001b[39m_continuous \u001b[38;5;129;01mis\u001b[39;00m \u001b[38;5;28;01mNone\u001b[39;00m:\n\u001b[1;32m---> 64\u001b[0m         \u001b[38;5;28;43mself\u001b[39;49m\u001b[38;5;241;43m.\u001b[39;49m\u001b[43mload_continuous\u001b[49m\u001b[43m(\u001b[49m\u001b[43m)\u001b[49m\n\u001b[0;32m     65\u001b[0m     \u001b[38;5;28;01mreturn\u001b[39;00m \u001b[38;5;28mself\u001b[39m\u001b[38;5;241m.\u001b[39m_continuous\n",
      "File \u001b[1;32mc:\\Users\\17204\\miniconda3\\envs\\oxytocin_analysis\\lib\\site-packages\\open_ephys\\analysis\\formats\\OpenEphysRecording.py:120\u001b[0m, in \u001b[0;36mOpenEphysRecording.load_continuous\u001b[1;34m(self)\u001b[0m\n\u001b[0;32m    115\u001b[0m files \u001b[38;5;241m=\u001b[39m \u001b[38;5;28mself\u001b[39m\u001b[38;5;241m.\u001b[39mfind_continuous_files()\n\u001b[0;32m    117\u001b[0m processor_ids \u001b[38;5;241m=\u001b[39m np\u001b[38;5;241m.\u001b[39munique(np\u001b[38;5;241m.\u001b[39marray([os\u001b[38;5;241m.\u001b[39mpath\u001b[38;5;241m.\u001b[39mbasename(fname)\u001b[38;5;241m.\u001b[39msplit(\u001b[38;5;124m'\u001b[39m\u001b[38;5;124m_\u001b[39m\u001b[38;5;124m'\u001b[39m)[\u001b[38;5;241m0\u001b[39m]\n\u001b[0;32m    118\u001b[0m                                     \u001b[38;5;28;01mfor\u001b[39;00m fname \u001b[38;5;129;01min\u001b[39;00m files]))\n\u001b[1;32m--> 120\u001b[0m \u001b[38;5;28mself\u001b[39m\u001b[38;5;241m.\u001b[39m_continuous \u001b[38;5;241m=\u001b[39m [\u001b[38;5;28mself\u001b[39m\u001b[38;5;241m.\u001b[39mContinuous(files, processor_id, \u001b[38;5;28mself\u001b[39m\u001b[38;5;241m.\u001b[39mrecording_index)\n\u001b[0;32m    121\u001b[0m                     \u001b[38;5;28;01mfor\u001b[39;00m processor_id \u001b[38;5;129;01min\u001b[39;00m processor_ids]\n",
      "File \u001b[1;32mc:\\Users\\17204\\miniconda3\\envs\\oxytocin_analysis\\lib\\site-packages\\open_ephys\\analysis\\formats\\OpenEphysRecording.py:120\u001b[0m, in \u001b[0;36m<listcomp>\u001b[1;34m(.0)\u001b[0m\n\u001b[0;32m    115\u001b[0m files \u001b[38;5;241m=\u001b[39m \u001b[38;5;28mself\u001b[39m\u001b[38;5;241m.\u001b[39mfind_continuous_files()\n\u001b[0;32m    117\u001b[0m processor_ids \u001b[38;5;241m=\u001b[39m np\u001b[38;5;241m.\u001b[39munique(np\u001b[38;5;241m.\u001b[39marray([os\u001b[38;5;241m.\u001b[39mpath\u001b[38;5;241m.\u001b[39mbasename(fname)\u001b[38;5;241m.\u001b[39msplit(\u001b[38;5;124m'\u001b[39m\u001b[38;5;124m_\u001b[39m\u001b[38;5;124m'\u001b[39m)[\u001b[38;5;241m0\u001b[39m]\n\u001b[0;32m    118\u001b[0m                                     \u001b[38;5;28;01mfor\u001b[39;00m fname \u001b[38;5;129;01min\u001b[39;00m files]))\n\u001b[1;32m--> 120\u001b[0m \u001b[38;5;28mself\u001b[39m\u001b[38;5;241m.\u001b[39m_continuous \u001b[38;5;241m=\u001b[39m [\u001b[38;5;28;43mself\u001b[39;49m\u001b[38;5;241;43m.\u001b[39;49m\u001b[43mContinuous\u001b[49m\u001b[43m(\u001b[49m\u001b[43mfiles\u001b[49m\u001b[43m,\u001b[49m\u001b[43m \u001b[49m\u001b[43mprocessor_id\u001b[49m\u001b[43m,\u001b[49m\u001b[43m \u001b[49m\u001b[38;5;28;43mself\u001b[39;49m\u001b[38;5;241;43m.\u001b[39;49m\u001b[43mrecording_index\u001b[49m\u001b[43m)\u001b[49m\n\u001b[0;32m    121\u001b[0m                     \u001b[38;5;28;01mfor\u001b[39;00m processor_id \u001b[38;5;129;01min\u001b[39;00m processor_ids]\n",
      "File \u001b[1;32mc:\\Users\\17204\\miniconda3\\envs\\oxytocin_analysis\\lib\\site-packages\\open_ephys\\analysis\\formats\\OpenEphysRecording.py:49\u001b[0m, in \u001b[0;36mOpenEphysRecording.Continuous.__init__\u001b[1;34m(self, files, processor_id, recording_index)\u001b[0m\n\u001b[0;32m     46\u001b[0m \u001b[38;5;28mself\u001b[39m\u001b[38;5;241m.\u001b[39mtimestamps, _, _ \u001b[38;5;241m=\u001b[39m load(files[\u001b[38;5;241m0\u001b[39m], recording_index)\n\u001b[0;32m     47\u001b[0m \u001b[38;5;28mself\u001b[39m\u001b[38;5;241m.\u001b[39mglobal_timestamps \u001b[38;5;241m=\u001b[39m \u001b[38;5;28;01mNone\u001b[39;00m\n\u001b[1;32m---> 49\u001b[0m \u001b[38;5;28mself\u001b[39m\u001b[38;5;241m.\u001b[39msamples \u001b[38;5;241m=\u001b[39m \u001b[43mnp\u001b[49m\u001b[38;5;241;43m.\u001b[39;49m\u001b[43mzeros\u001b[49m\u001b[43m(\u001b[49m\u001b[43m(\u001b[49m\u001b[38;5;28;43mlen\u001b[39;49m\u001b[43m(\u001b[49m\u001b[38;5;28;43mself\u001b[39;49m\u001b[38;5;241;43m.\u001b[39;49m\u001b[43mtimestamps\u001b[49m\u001b[43m)\u001b[49m\u001b[43m,\u001b[49m\u001b[43m \u001b[49m\u001b[38;5;28;43mlen\u001b[39;49m\u001b[43m(\u001b[49m\u001b[43mfiles\u001b[49m\u001b[43m)\u001b[49m\u001b[43m)\u001b[49m\u001b[43m)\u001b[49m\n\u001b[0;32m     50\u001b[0m \u001b[38;5;28mself\u001b[39m\u001b[38;5;241m.\u001b[39mmetadata \u001b[38;5;241m=\u001b[39m {}\n\u001b[0;32m     51\u001b[0m \u001b[38;5;28mself\u001b[39m\u001b[38;5;241m.\u001b[39mmetadata[\u001b[38;5;124m'\u001b[39m\u001b[38;5;124mnames\u001b[39m\u001b[38;5;124m'\u001b[39m] \u001b[38;5;241m=\u001b[39m []\n",
      "\u001b[1;31mMemoryError\u001b[0m: Unable to allocate 75.6 GiB for an array with shape (158575616, 64) and data type float64"
     ]
    }
   ],
   "source": [
    "session.recordnodes[0].recordings[0].continuous"
   ]
  }
 ],
 "metadata": {
  "kernelspec": {
   "display_name": "oxytocin_analysis",
   "language": "python",
   "name": "python3"
  },
  "language_info": {
   "codemirror_mode": {
    "name": "ipython",
    "version": 3
   },
   "file_extension": ".py",
   "mimetype": "text/x-python",
   "name": "python",
   "nbconvert_exporter": "python",
   "pygments_lexer": "ipython3",
   "version": "3.9.23"
  }
 },
 "nbformat": 4,
 "nbformat_minor": 2
}
