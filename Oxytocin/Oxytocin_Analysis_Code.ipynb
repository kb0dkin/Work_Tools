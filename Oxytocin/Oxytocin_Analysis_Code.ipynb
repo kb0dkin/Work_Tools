{
 "cells": [
  {
   "cell_type": "markdown",
   "metadata": {},
   "source": [
    "# Oxytocin analysis code"
   ]
  },
  {
   "cell_type": "code",
   "execution_count": null,
   "metadata": {},
   "outputs": [],
   "source": [
    "import utility_functions # loading and processing code\n",
    "\n",
    "# matplotlib stuff\n",
    "import ipympl\n",
    "from matplotlib import pyplot as plt\n",
    "from matplotlib.patches import Polygon # errorbars and standard deviations\n",
    "%matplotlib ipympl\n",
    "\n",
    "# data analysis standards\n",
    "import numpy as np\n",
    "import pandas as pd\n",
    "from scipy import signal\n",
    "import os, re\n",
    "from pathlib import Path\n",
    "\n",
    "# csv writing for figure data etc\n",
    "import csv\n",
    "import xmltodict"
   ]
  },
  {
   "cell_type": "markdown",
   "metadata": {},
   "source": [
    "# Data import and cleaning\n",
    "\n",
    "Bring in the data, do some basic cleaning before sending it to Kilosort etc"
   ]
  },
  {
   "cell_type": "code",
   "execution_count": null,
   "metadata": {},
   "outputs": [],
   "source": [
    "# recording directory\n",
    "# assume all subdirectories are from the same session and to be concatenated\n",
    "# recording_dir = Path('Y:\\\\Sara\\\\in vivo phys\\\\open_ephys\\\\Mudd data\\\\awake\\\\oxt-cre_male_2505\\\\oxt-cre_m2505_2025-03-17_14-25-13')\n",
    "recording_dir = 'Y:\\\\Sara\\\\in vivo phys\\\\open_ephys\\\\Mudd data\\\\awake\\\\oxt-cre_male_2506\\\\oxt-cre_m2506_2025-03-20_14-18-47'\n",
    "\n",
    "# sig, timestamps = utility_functions.open_raw(recording_dir)\n",
    "\n"
   ]
  },
  {
   "cell_type": "code",
   "execution_count": 3,
   "metadata": {},
   "outputs": [],
   "source": [
    "from sklearn.decomposition import PCA"
   ]
  },
  {
   "cell_type": "code",
   "execution_count": null,
   "metadata": {},
   "outputs": [],
   "source": [
    "time_window = 30000*60*5\n",
    "\n",
    "sos = signal.butter(N=2, Wn=10, fs=30000, btype='highpass', output='sos')\n",
    "filt_sig = signal.sosfiltfilt(sos, sig[:time_window,:], axis=0)\n",
    "\n",
    "pca = PCA(n_components=1)\n",
    "pca.fit(filt_sig)"
   ]
  },
  {
   "cell_type": "code",
   "execution_count": 20,
   "metadata": {},
   "outputs": [],
   "source": [
    "# across-channel artifacts\n",
    "sig_clean = np.empty_like(filt_sig) # make a copy for subtraction\n",
    "for channel in np.arange(sig.shape[1]):\n",
    "    Wnc = pca.components_.copy() # make a copy for the exclusionary projection matrix\n",
    "    Wcc = Wnc[:,channel].copy() # and the channel-specific reprojection\n",
    "    Wnc[:,channel] = 0 # exclude channel's contribution\n",
    "    Ac = np.matmul(filt_sig, Wnc.T)\n",
    "    ArtMat = np.linalg.lstsq(Ac,filt_sig[:,channel], rcond=None)[0]\n",
    "    sig_clean[:,channel] = filt_sig[:,channel] - np.matmul(Ac,ArtMat)"
   ]
  },
  {
   "cell_type": "code",
   "execution_count": null,
   "metadata": {},
   "outputs": [],
   "source": [
    "from matplotlib import pyplot as plt\n",
    "import ipympl\n",
    "# %matplotlib ipympl\n",
    "\n",
    "channels = [10,20,30,40]\n",
    "fig,ax = plt.subplots(nrows=2, sharex=True)\n",
    "\n",
    "ax[0].plot(timestamps[:time_window],sig[:time_window,channels])\n",
    "ax[1].plot(timestamps[:time_window],sig_clean[:,channels])\n",
    "\n",
    "# ax[0].set_xticks([0])\n",
    "ax[1].set_xlabel('Time (s)')\n",
    "ax[0].set_ylabel('Voltage (uV)')\n",
    "ax[1].set_ylabel('Voltage (uV)')"
   ]
  },
  {
   "cell_type": "code",
   "execution_count": 30,
   "metadata": {},
   "outputs": [],
   "source": [
    "for ax_ in ax:\n",
    "    for spine in ax_.spines:\n",
    "        ax_.spines[spine].set_visible(False)"
   ]
  },
  {
   "cell_type": "code",
   "execution_count": 31,
   "metadata": {},
   "outputs": [
    {
     "data": {
      "text/plain": [
       "Text(0.5, 1.0, 'Cleaned Recording')"
      ]
     },
     "execution_count": 31,
     "metadata": {},
     "output_type": "execute_result"
    }
   ],
   "source": [
    "ax[0].set_title('Raw Recording')\n",
    "ax[1].set_title('Cleaned Recording')"
   ]
  },
  {
   "cell_type": "code",
   "execution_count": 33,
   "metadata": {},
   "outputs": [
    {
     "data": {
      "text/plain": [
       "['.DS_Store',\n",
       " 'Figure_3.png',\n",
       " 'Isabelle',\n",
       " 'Janet',\n",
       " 'Old lab members',\n",
       " 'Sara',\n",
       " 'shared (striatum) (Z) - Shortcut.lnk',\n",
       " 'VS120_pre2023']"
      ]
     },
     "execution_count": 33,
     "metadata": {},
     "output_type": "execute_result"
    }
   ],
   "source": [
    "os.listdir('Y:')"
   ]
  },
  {
   "cell_type": "code",
   "execution_count": null,
   "metadata": {},
   "outputs": [],
   "source": [
    "# dir(session.recordnodes[0].recordings[0])\n",
    "# dir(session)\n",
    "# dir(session.recordnodes[0].recordings[0].continuous[0])\n",
    "session.recordnodes[0].recordings[0].continuous[0].metadata"
   ]
  },
  {
   "cell_type": "code",
   "execution_count": null,
   "metadata": {},
   "outputs": [],
   "source": [
    "# from glob import glob\n",
    "\n",
    "\n",
    "settings_file = glob(f'{recording_dir}{path.sep}**{path.sep}*settings.xml',recursive=True)\n",
    "\n",
    "if len(settings_file)!=1:\n",
    "    print('Cannot find a single settings file')\n",
    "\n",
    "\n",
    "with open(settings_file[0],'r', encoding='utf8') as fid:\n",
    "#     # settings = fid.readlines()\n",
    "    settings = xmltodict.parse(fid.read())['SETTINGS']\n",
    "# settings = xmltodict.parse(settings_file[0])"
   ]
  },
  {
   "cell_type": "code",
   "execution_count": 6,
   "metadata": {},
   "outputs": [
    {
     "ename": "MemoryError",
     "evalue": "Unable to allocate 75.6 GiB for an array with shape (64, 158575634) and data type float64",
     "output_type": "error",
     "traceback": [
      "\u001b[1;31m---------------------------------------------------------------------------\u001b[0m",
      "\u001b[1;31mMemoryError\u001b[0m                               Traceback (most recent call last)",
      "Cell \u001b[1;32mIn[6], line 3\u001b[0m\n\u001b[0;32m      1\u001b[0m \u001b[38;5;66;03m# from sklearn.decomposition import PCA\u001b[39;00m\n\u001b[1;32m----> 3\u001b[0m \u001b[43mutility_functions\u001b[49m\u001b[38;5;241;43m.\u001b[39;49m\u001b[43mERAASR\u001b[49m\u001b[43m(\u001b[49m\u001b[43msig\u001b[49m\u001b[43m[\u001b[49m\u001b[38;5;241;43m0\u001b[39;49m\u001b[43m]\u001b[49m\u001b[43m)\u001b[49m\n\u001b[0;32m      4\u001b[0m \u001b[38;5;66;03m# sig\u001b[39;00m\n",
      "File \u001b[1;32m~\\Documents\\git\\Work_Tools\\Oxytocin\\utility_functions.py:196\u001b[0m, in \u001b[0;36mERAASR\u001b[1;34m(sig, chan_map, num_surround, fs, mode, save, save_dir)\u001b[0m\n\u001b[0;32m    162\u001b[0m \u001b[38;5;250m\u001b[39m\u001b[38;5;124;03m'''\u001b[39;00m\n\u001b[0;32m    163\u001b[0m \u001b[38;5;124;03mERAASR\u001b[39;00m\n\u001b[0;32m    164\u001b[0m \u001b[38;5;124;03m    implementing a modified version of the\u001b[39;00m\n\u001b[1;32m   (...)\u001b[0m\n\u001b[0;32m    192\u001b[0m \u001b[38;5;124;03m    sig_clean:np.array  - TxC \"cleaned\" array. So far this is just looking at multi-channel, not multi-stimulus artifacts\u001b[39;00m\n\u001b[0;32m    193\u001b[0m \u001b[38;5;124;03m'''\u001b[39;00m\n\u001b[0;32m    195\u001b[0m sos_filt \u001b[38;5;241m=\u001b[39m signal\u001b[38;5;241m.\u001b[39mbutter(N \u001b[38;5;241m=\u001b[39m \u001b[38;5;241m2\u001b[39m, Wn \u001b[38;5;241m=\u001b[39m [\u001b[38;5;241m10\u001b[39m], fs \u001b[38;5;241m=\u001b[39m fs, btype\u001b[38;5;241m=\u001b[39m\u001b[38;5;124m'\u001b[39m\u001b[38;5;124mhigh\u001b[39m\u001b[38;5;124m'\u001b[39m, output\u001b[38;5;241m=\u001b[39m\u001b[38;5;124m'\u001b[39m\u001b[38;5;124msos\u001b[39m\u001b[38;5;124m'\u001b[39m) \u001b[38;5;66;03m# create filter\u001b[39;00m\n\u001b[1;32m--> 196\u001b[0m filt_sig \u001b[38;5;241m=\u001b[39m \u001b[43msignal\u001b[49m\u001b[38;5;241;43m.\u001b[39;49m\u001b[43msosfiltfilt\u001b[49m\u001b[43m(\u001b[49m\u001b[43msos_filt\u001b[49m\u001b[43m,\u001b[49m\u001b[43m \u001b[49m\u001b[43msig\u001b[49m\u001b[43m,\u001b[49m\u001b[43m \u001b[49m\u001b[43maxis\u001b[49m\u001b[38;5;241;43m=\u001b[39;49m\u001b[38;5;241;43m0\u001b[39;49m\u001b[43m)\u001b[49m \u001b[38;5;66;03m# filter it\u001b[39;00m\n\u001b[0;32m    198\u001b[0m \u001b[38;5;66;03m# fit the principal components -- only looking for the first 4 (per 2018 paper)\u001b[39;00m\n\u001b[0;32m    199\u001b[0m pca \u001b[38;5;241m=\u001b[39m PCA(n_components\u001b[38;5;241m=\u001b[39m\u001b[38;5;241m4\u001b[39m)\n",
      "File \u001b[1;32m~\\miniconda3\\envs\\oxytocin_analysis\\lib\\site-packages\\scipy\\signal\\_signaltools.py:4463\u001b[0m, in \u001b[0;36msosfiltfilt\u001b[1;34m(sos, x, axis, padtype, padlen)\u001b[0m\n\u001b[0;32m   4461\u001b[0m (y, zf) \u001b[38;5;241m=\u001b[39m sosfilt(sos, ext, axis\u001b[38;5;241m=\u001b[39maxis, zi\u001b[38;5;241m=\u001b[39mzi \u001b[38;5;241m*\u001b[39m x_0)\n\u001b[0;32m   4462\u001b[0m y_0 \u001b[38;5;241m=\u001b[39m axis_slice(y, start\u001b[38;5;241m=\u001b[39m\u001b[38;5;241m-\u001b[39m\u001b[38;5;241m1\u001b[39m, axis\u001b[38;5;241m=\u001b[39maxis)\n\u001b[1;32m-> 4463\u001b[0m (y, zf) \u001b[38;5;241m=\u001b[39m \u001b[43msosfilt\u001b[49m\u001b[43m(\u001b[49m\u001b[43msos\u001b[49m\u001b[43m,\u001b[49m\u001b[43m \u001b[49m\u001b[43maxis_reverse\u001b[49m\u001b[43m(\u001b[49m\u001b[43my\u001b[49m\u001b[43m,\u001b[49m\u001b[43m \u001b[49m\u001b[43maxis\u001b[49m\u001b[38;5;241;43m=\u001b[39;49m\u001b[43maxis\u001b[49m\u001b[43m)\u001b[49m\u001b[43m,\u001b[49m\u001b[43m \u001b[49m\u001b[43maxis\u001b[49m\u001b[38;5;241;43m=\u001b[39;49m\u001b[43maxis\u001b[49m\u001b[43m,\u001b[49m\u001b[43m \u001b[49m\u001b[43mzi\u001b[49m\u001b[38;5;241;43m=\u001b[39;49m\u001b[43mzi\u001b[49m\u001b[43m \u001b[49m\u001b[38;5;241;43m*\u001b[39;49m\u001b[43m \u001b[49m\u001b[43my_0\u001b[49m\u001b[43m)\u001b[49m\n\u001b[0;32m   4464\u001b[0m y \u001b[38;5;241m=\u001b[39m axis_reverse(y, axis\u001b[38;5;241m=\u001b[39maxis)\n\u001b[0;32m   4465\u001b[0m \u001b[38;5;28;01mif\u001b[39;00m edge \u001b[38;5;241m>\u001b[39m \u001b[38;5;241m0\u001b[39m:\n",
      "File \u001b[1;32m~\\miniconda3\\envs\\oxytocin_analysis\\lib\\site-packages\\scipy\\signal\\_signaltools.py:4342\u001b[0m, in \u001b[0;36msosfilt\u001b[1;34m(sos, x, axis, zi)\u001b[0m\n\u001b[0;32m   4340\u001b[0m x_shape, zi_shape \u001b[38;5;241m=\u001b[39m x\u001b[38;5;241m.\u001b[39mshape, zi\u001b[38;5;241m.\u001b[39mshape\n\u001b[0;32m   4341\u001b[0m x \u001b[38;5;241m=\u001b[39m np\u001b[38;5;241m.\u001b[39mreshape(x, (\u001b[38;5;241m-\u001b[39m\u001b[38;5;241m1\u001b[39m, x\u001b[38;5;241m.\u001b[39mshape[\u001b[38;5;241m-\u001b[39m\u001b[38;5;241m1\u001b[39m]))\n\u001b[1;32m-> 4342\u001b[0m x \u001b[38;5;241m=\u001b[39m \u001b[43mnp\u001b[49m\u001b[38;5;241;43m.\u001b[39;49m\u001b[43marray\u001b[49m\u001b[43m(\u001b[49m\u001b[43mx\u001b[49m\u001b[43m,\u001b[49m\u001b[43m \u001b[49m\u001b[43mdtype\u001b[49m\u001b[43m,\u001b[49m\u001b[43m \u001b[49m\u001b[43morder\u001b[49m\u001b[38;5;241;43m=\u001b[39;49m\u001b[38;5;124;43m'\u001b[39;49m\u001b[38;5;124;43mC\u001b[39;49m\u001b[38;5;124;43m'\u001b[39;49m\u001b[43m)\u001b[49m  \u001b[38;5;66;03m# make a copy, can modify in place\u001b[39;00m\n\u001b[0;32m   4343\u001b[0m zi \u001b[38;5;241m=\u001b[39m np\u001b[38;5;241m.\u001b[39mascontiguousarray(np\u001b[38;5;241m.\u001b[39mreshape(zi, (\u001b[38;5;241m-\u001b[39m\u001b[38;5;241m1\u001b[39m, n_sections, \u001b[38;5;241m2\u001b[39m)))\n\u001b[0;32m   4344\u001b[0m sos \u001b[38;5;241m=\u001b[39m sos\u001b[38;5;241m.\u001b[39mastype(dtype, copy\u001b[38;5;241m=\u001b[39m\u001b[38;5;28;01mFalse\u001b[39;00m)\n",
      "\u001b[1;31mMemoryError\u001b[0m: Unable to allocate 75.6 GiB for an array with shape (64, 158575634) and data type float64"
     ]
    }
   ],
   "source": [
    "# from sklearn.decomposition import PCA\n",
    "\n",
    "utility_functions.ERAASR(sig[0])\n",
    "# sig"
   ]
  }
 ],
 "metadata": {
  "kernelspec": {
   "display_name": "Python 3 (ipykernel)",
   "language": "python",
   "name": "python3"
  }
 },
 "nbformat": 4,
 "nbformat_minor": 4
}
