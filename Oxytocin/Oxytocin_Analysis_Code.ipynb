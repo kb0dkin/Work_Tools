{
 "cells": [
  {
   "cell_type": "markdown",
   "metadata": {},
   "source": [
    "# Oxytocin analysis code"
   ]
  },
  {
   "cell_type": "code",
   "execution_count": 47,
   "metadata": {},
   "outputs": [],
   "source": [
    "import utility_functions # loading and processing code\n",
    "\n",
    "# matplotlib stuff\n",
    "from matplotlib import pyplot as plt\n",
    "from matplotlib.patches import Polygon # errorbars and standard deviations\n",
    "%matplotlib qt\n",
    "\n",
    "# data analysis standards\n",
    "import numpy as np\n",
    "import pandas as pd\n",
    "from scipy import signal\n",
    "import os, re\n",
    "from pathlib import Path\n",
    "\n",
    "# csv writing for figure data etc\n",
    "import csv\n",
    "import xmltodict"
   ]
  },
  {
   "cell_type": "code",
   "execution_count": 45,
   "metadata": {},
   "outputs": [
    {
     "name": "stdout",
     "output_type": "stream",
     "text": [
      "Collecting xmltodict\n",
      "  Downloading xmltodict-0.14.2-py2.py3-none-any.whl.metadata (8.0 kB)\n",
      "Downloading xmltodict-0.14.2-py2.py3-none-any.whl (10.0 kB)\n",
      "Installing collected packages: xmltodict\n",
      "Successfully installed xmltodict-0.14.2\n"
     ]
    }
   ],
   "source": [
    "!pip install xmltodict"
   ]
  },
  {
   "cell_type": "markdown",
   "metadata": {},
   "source": [
    "# Data import and cleaning\n",
    "\n",
    "Bring in the data, do some basic cleaning before sending it to Kilosort etc"
   ]
  },
  {
   "cell_type": "code",
   "execution_count": 2,
   "metadata": {},
   "outputs": [
    {
     "ename": "NameError",
     "evalue": "name 'sig' is not defined",
     "output_type": "error",
     "traceback": [
      "\u001b[1;31m---------------------------------------------------------------------------\u001b[0m",
      "\u001b[1;31mNameError\u001b[0m                                 Traceback (most recent call last)",
      "Cell \u001b[1;32mIn[2], line 6\u001b[0m\n\u001b[0;32m      1\u001b[0m \u001b[38;5;66;03m# recording directory\u001b[39;00m\n\u001b[0;32m      2\u001b[0m \u001b[38;5;66;03m# assume all subdirectories are from the same session and to be concatenated\u001b[39;00m\n\u001b[0;32m      3\u001b[0m \u001b[38;5;66;03m# recording_dir = Path('Y:\\\\Sara\\\\in vivo phys\\\\open_ephys\\\\Mudd data\\\\awake\\\\oxt-cre_male_2505\\\\oxt-cre_m2505_2025-03-17_14-25-13')\u001b[39;00m\n\u001b[0;32m      4\u001b[0m recording_dir \u001b[38;5;241m=\u001b[39m \u001b[38;5;124m'\u001b[39m\u001b[38;5;124mY:\u001b[39m\u001b[38;5;130;01m\\\\\u001b[39;00m\u001b[38;5;124mSara\u001b[39m\u001b[38;5;130;01m\\\\\u001b[39;00m\u001b[38;5;124min vivo phys\u001b[39m\u001b[38;5;130;01m\\\\\u001b[39;00m\u001b[38;5;124mopen_ephys\u001b[39m\u001b[38;5;130;01m\\\\\u001b[39;00m\u001b[38;5;124mMudd data\u001b[39m\u001b[38;5;130;01m\\\\\u001b[39;00m\u001b[38;5;124mawake\u001b[39m\u001b[38;5;130;01m\\\\\u001b[39;00m\u001b[38;5;124moxt-cre_male_2506\u001b[39m\u001b[38;5;130;01m\\\\\u001b[39;00m\u001b[38;5;124moxt-cre_m2506_2025-03-20_14-18-47\u001b[39m\u001b[38;5;124m'\u001b[39m\n\u001b[1;32m----> 6\u001b[0m sig \u001b[38;5;241m=\u001b[39m \u001b[43mutility_functions\u001b[49m\u001b[38;5;241;43m.\u001b[39;49m\u001b[43mopen_raw\u001b[49m\u001b[43m(\u001b[49m\u001b[43mrecording_dir\u001b[49m\u001b[43m)\u001b[49m\n",
      "File \u001b[1;32m~\\Documents\\git\\Work_Tools\\Oxytocin\\utility_functions.py:87\u001b[0m, in \u001b[0;36mopen_raw\u001b[1;34m(directory, verbose)\u001b[0m\n\u001b[0;32m     84\u001b[0m timestamps \u001b[38;5;241m=\u001b[39m recording\u001b[38;5;241m.\u001b[39mtimestamps\u001b[38;5;241m/\u001b[39m\u001b[38;5;241m30000\u001b[39m \u001b[38;5;66;03m# hard coded because I'm not finding any info in the metadata. Maybe I need to open the settings file?\u001b[39;00m\n\u001b[0;32m     86\u001b[0m \u001b[38;5;66;03m# return it all\u001b[39;00m\n\u001b[1;32m---> 87\u001b[0m \u001b[38;5;28;01mreturn\u001b[39;00m \u001b[43msig\u001b[49m, timestamps\n",
      "\u001b[1;31mNameError\u001b[0m: name 'sig' is not defined"
     ]
    }
   ],
   "source": [
    "# recording directory\n",
    "# assume all subdirectories are from the same session and to be concatenated\n",
    "# recording_dir = Path('Y:\\\\Sara\\\\in vivo phys\\\\open_ephys\\\\Mudd data\\\\awake\\\\oxt-cre_male_2505\\\\oxt-cre_m2505_2025-03-17_14-25-13')\n",
    "recording_dir = 'Y:\\\\Sara\\\\in vivo phys\\\\open_ephys\\\\Mudd data\\\\awake\\\\oxt-cre_male_2506\\\\oxt-cre_m2506_2025-03-20_14-18-47'\n",
    "\n",
    "sig = utility_functions.open_raw(recording_dir)\n"
   ]
  },
  {
   "cell_type": "code",
   "execution_count": 3,
   "metadata": {},
   "outputs": [],
   "source": [
    "from open_ephys.analysis import Session\n",
    "\n",
    "session = Session(recording_dir)\n"
   ]
  },
  {
   "cell_type": "code",
   "execution_count": 17,
   "metadata": {},
   "outputs": [
    {
     "data": {
      "text/plain": [
       "count    4.320000e+04\n",
       "mean     1.288912e+08\n",
       "std      4.121014e+07\n",
       "min      6.269484e+07\n",
       "25%      9.477002e+07\n",
       "50%      1.308649e+08\n",
       "75%      1.640722e+08\n",
       "max      1.901784e+08\n",
       "Name: timestamp, dtype: float64"
      ]
     },
     "execution_count": 17,
     "metadata": {},
     "output_type": "execute_result"
    }
   ],
   "source": [
    "session.recordnodes[0].recordings[0].events.timestamp.describe()"
   ]
  },
  {
   "cell_type": "code",
   "execution_count": null,
   "metadata": {},
   "outputs": [],
   "source": [
    "# dir(session.recordnodes[0].recordings[0])\n",
    "# dir(session)\n",
    "# dir(session.recordnodes[0].recordings[0].continuous[0])\n",
    "session.recordnodes[0].recordings[0].continuous[0].metadata"
   ]
  },
  {
   "cell_type": "code",
   "execution_count": 65,
   "metadata": {},
   "outputs": [],
   "source": [
    "# from glob import glob\n",
    "\n",
    "\n",
    "settings_file = glob(f'{recording_dir}{path.sep}**{path.sep}*settings.xml',recursive=True)\n",
    "\n",
    "if len(settings_file)!=1:\n",
    "    print('Cannot find a single settings file')\n",
    "\n",
    "\n",
    "with open(settings_file[0],'r', encoding='utf8') as fid:\n",
    "#     # settings = fid.readlines()\n",
    "    settings = xmltodict.parse(fid.read())['SETTINGS']\n",
    "# settings = xmltodict.parse(settings_file[0])"
   ]
  },
  {
   "cell_type": "code",
   "execution_count": 67,
   "metadata": {},
   "outputs": [
    {
     "data": {
      "text/plain": [
       "dict_keys(['INFO', 'SIGNALCHAIN', 'AUDIO', 'GLOBAL_TIMESTAMP', 'CONTROLPANEL', 'AUDIOEDITOR', 'PROCESSORLIST', 'UICOMPONENT'])"
      ]
     },
     "execution_count": 67,
     "metadata": {},
     "output_type": "execute_result"
    }
   ],
   "source": [
    "settings."
   ]
  },
  {
   "cell_type": "code",
   "execution_count": 74,
   "metadata": {},
   "outputs": [
    {
     "data": {
      "text/html": [
       "<div>\n",
       "<style scoped>\n",
       "    .dataframe tbody tr th:only-of-type {\n",
       "        vertical-align: middle;\n",
       "    }\n",
       "\n",
       "    .dataframe tbody tr th {\n",
       "        vertical-align: top;\n",
       "    }\n",
       "\n",
       "    .dataframe thead th {\n",
       "        text-align: right;\n",
       "    }\n",
       "</style>\n",
       "<table border=\"1\" class=\"dataframe\">\n",
       "  <thead>\n",
       "    <tr style=\"text-align: right;\">\n",
       "      <th></th>\n",
       "      <th>PROCESSOR</th>\n",
       "    </tr>\n",
       "  </thead>\n",
       "  <tbody>\n",
       "    <tr>\n",
       "      <th>0</th>\n",
       "      <td>{'@name': 'Sources/Rhythm FPGA', '@insertionPo...</td>\n",
       "    </tr>\n",
       "    <tr>\n",
       "      <th>1</th>\n",
       "      <td>{'@name': 'Filters/Record Node', '@insertionPo...</td>\n",
       "    </tr>\n",
       "    <tr>\n",
       "      <th>2</th>\n",
       "      <td>{'@name': 'Sinks/LFP Viewer', '@insertionPoint...</td>\n",
       "    </tr>\n",
       "    <tr>\n",
       "      <th>3</th>\n",
       "      <td>{'@name': 'Sinks/Pulse Pal', '@insertionPoint'...</td>\n",
       "    </tr>\n",
       "  </tbody>\n",
       "</table>\n",
       "</div>"
      ],
      "text/plain": [
       "                                           PROCESSOR\n",
       "0  {'@name': 'Sources/Rhythm FPGA', '@insertionPo...\n",
       "1  {'@name': 'Filters/Record Node', '@insertionPo...\n",
       "2  {'@name': 'Sinks/LFP Viewer', '@insertionPoint...\n",
       "3  {'@name': 'Sinks/Pulse Pal', '@insertionPoint'..."
      ]
     },
     "execution_count": 74,
     "metadata": {},
     "output_type": "execute_result"
    }
   ],
   "source": [
    "pd.DataFrame(settings['SIGNALCHAIN'])"
   ]
  }
 ],
 "metadata": {
  "kernelspec": {
   "display_name": "Python 3 (ipykernel)",
   "language": "python",
   "name": "python3"
  },
  "language_info": {
   "codemirror_mode": {
    "name": "ipython",
    "version": 3
   },
   "file_extension": ".py",
   "mimetype": "text/x-python",
   "name": "python",
   "nbconvert_exporter": "python",
   "pygments_lexer": "ipython3",
   "version": "3.9.23"
  }
 },
 "nbformat": 4,
 "nbformat_minor": 4
}
