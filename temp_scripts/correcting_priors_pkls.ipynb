{
 "cells": [
  {
   "cell_type": "code",
   "execution_count": 3,
   "metadata": {},
   "outputs": [],
   "source": [
    "import pandas as pd\n",
    "import pickle\n",
    "import numpy as np\n",
    "import json"
   ]
  },
  {
   "cell_type": "code",
   "execution_count": 4,
   "metadata": {},
   "outputs": [],
   "source": [
    "with open('/home/klb807/MARS_project/MABe24/annotation_data/processed_keypoints.json', 'rb') as fid:\n",
    "    json_list = json.load(fid)"
   ]
  },
  {
   "cell_type": "code",
   "execution_count": 19,
   "metadata": {},
   "outputs": [
    {
     "data": {
      "text/plain": [
       "dict_keys(['X', 'Y', 'bbox', 'med', 'geom_med', 'mu', 'std', 'area'])"
      ]
     },
     "execution_count": 19,
     "metadata": {},
     "output_type": "execute_result"
    }
   ],
   "source": [
    "df['ann_black'].values[0].keys()\n",
    "# for value in df['ann_black'].values:\n",
    "    # print(value['area'])"
   ]
  },
  {
   "cell_type": "code",
   "execution_count": 54,
   "metadata": {},
   "outputs": [
    {
     "name": "stdout",
     "output_type": "stream",
     "text": [
      "[[array([0.03801714]) array([0.]) array([0.08698286]) array([0.125])]\n",
      " [array([0.03273959]) array([0.]) array([0.09226041]) array([0.125])]\n",
      " [array([0.0272818]) array([0.]) array([0.0977182]) array([0.125])]\n",
      " ...\n",
      " [array([0.5]) array([0.58667354]) array([1.]) array([0.91332646])]\n",
      " [array([0.5]) array([0.62632334]) array([1.]) array([0.87367666])]\n",
      " [0.025000000000000022 0.025000000000000022 0.975 0.975]]\n"
     ]
    },
    {
     "name": "stderr",
     "output_type": "stream",
     "text": [
      "/home/klb807/miniconda3/envs/mars_dev/lib/python3.7/site-packages/ipykernel_launcher.py:3: VisibleDeprecationWarning: Creating an ndarray from ragged nested sequences (which is a list-or-tuple of lists-or-tuples-or ndarrays with different lengths or shapes) is deprecated. If you meant to do this, you must specify 'dtype=object' when creating the ndarray\n",
      "  This is separate from the ipykernel package so we can avoid doing imports until\n"
     ]
    }
   ],
   "source": [
    "with open('/home/klb807/MARS_project/MABe24/detection/priors_brown_top.pkl', 'rb') as fid:\n",
    "    # df = pd.DataFrame(pickle.load(fid))\n",
    "    arr = np.array([item for item in pickle.load(fid)])\n",
    "\n",
    "print(arr)"
   ]
  },
  {
   "cell_type": "markdown",
   "metadata": {},
   "source": [
    "for some reason a lot of rows are arrays of arrays.\n",
    "I'm not sure whether that's a good thing or not..."
   ]
  },
  {
   "cell_type": "code",
   "execution_count": 57,
   "metadata": {},
   "outputs": [
    {
     "name": "stdout",
     "output_type": "stream",
     "text": [
      "[[array([0.03801714]) array([0.]) array([0.08698286]) array([0.125])]\n",
      " [array([0.03273959]) array([0.]) array([0.09226041]) array([0.125])]\n",
      " [array([0.0272818]) array([0.]) array([0.0977182]) array([0.125])]\n",
      " ...\n",
      " [array([0.5]) array([0.58667354]) array([1.]) array([0.91332646])]\n",
      " [array([0.5]) array([0.62632334]) array([1.]) array([0.87367666])]\n",
      " [array([[0.025]]) array([[0.025]]) array([[0.975]]) array([[0.975]])]]\n"
     ]
    }
   ],
   "source": [
    "# change every row to arrays of array\n",
    "arr_arr = arr.copy()\n",
    "\n",
    "for i_row in range(arr_arr.shape[0]):\n",
    "    for i_col in range(arr_arr.shape[1]):\n",
    "        if type(arr_arr[i_row,i_col]) is not np.ndarray:\n",
    "            arr_arr[i_row, i_col] = np.expand_dims(np.array([arr_arr[i_row, i_col]]),0)\n",
    "\n",
    "# for i_col in range(arr_arr.shape[1]):\n",
    "#     arr_arr[-1,i_col] = np.expand_dims(arr_arr[-1,i_col], 0)\n",
    "\n",
    "print(arr_arr)\n",
    "\n",
    "with open('/home/klb807/MARS_project/MABe24/detection/priors_black_top_all_array.pkl', 'wb') as fid:\n",
    "    pickle.dump(arr_arr, fid)"
   ]
  },
  {
   "cell_type": "code",
   "execution_count": 4,
   "metadata": {},
   "outputs": [
    {
     "name": "stdout",
     "output_type": "stream",
     "text": [
      "[[0.039795399061034575 0.0 0.08520460093896542 0.125]\n",
      " [0.032746697791163036 0.0 0.09225330220883697 0.12499999999999999]\n",
      " [0.025227506072559497 0.0 0.0997724939274405 0.125]\n",
      " ...\n",
      " [0.5 0.6197503458445962 1.0 0.8802496541554037]\n",
      " [0.5 0.6516498415045198 1.0 0.8483501584954802]\n",
      " [0.025000000000000022 0.025000000000000022 0.975 0.975]]\n"
     ]
    }
   ],
   "source": [
    "# now just pull all of the items out of lists\n",
    "arr_flat = arr.copy()\n",
    "\n",
    "for i_row in range(arr_flat.shape[0]):\n",
    "    for i_col in range(arr_flat.shape[1]):\n",
    "        if type(arr_flat[i_row,i_col]) is np.ndarray:\n",
    "            arr_flat[i_row, i_col] = arr_flat[i_row, i_col][0]\n",
    "\n",
    "print(arr_flat)\n",
    "\n",
    "with open('/home/klb807/MARS_project/MABe24/detection/priors_black_top_flat_arr.pkl', 'wb') as fid:\n",
    "    pickle.dump(arr_arr, fid)"
   ]
  },
  {
   "cell_type": "code",
   "execution_count": 21,
   "metadata": {},
   "outputs": [
    {
     "ename": "FileNotFoundError",
     "evalue": "[Errno 2] No such file or directory: '/home/klb807/Downloads/priors_black_top.pkl'",
     "output_type": "error",
     "traceback": [
      "\u001b[0;31m---------------------------------------------------------------------------\u001b[0m",
      "\u001b[0;31mFileNotFoundError\u001b[0m                         Traceback (most recent call last)",
      "\u001b[0;32m<ipython-input-21-ca2e1b73f0f1>\u001b[0m in \u001b[0;36m<module>\u001b[0;34m\u001b[0m\n\u001b[0;32m----> 1\u001b[0;31m \u001b[0;32mwith\u001b[0m \u001b[0mopen\u001b[0m\u001b[0;34m(\u001b[0m\u001b[0;34m'/home/klb807/Downloads/priors_black_top.pkl'\u001b[0m\u001b[0;34m,\u001b[0m \u001b[0;34m'rb'\u001b[0m\u001b[0;34m)\u001b[0m \u001b[0;32mas\u001b[0m \u001b[0mfid\u001b[0m\u001b[0;34m:\u001b[0m\u001b[0;34m\u001b[0m\u001b[0;34m\u001b[0m\u001b[0m\n\u001b[0m\u001b[1;32m      2\u001b[0m     \u001b[0marr\u001b[0m \u001b[0;34m=\u001b[0m \u001b[0mnp\u001b[0m\u001b[0;34m.\u001b[0m\u001b[0marray\u001b[0m\u001b[0;34m(\u001b[0m\u001b[0;34m[\u001b[0m\u001b[0mitem\u001b[0m \u001b[0;32mfor\u001b[0m \u001b[0mitem\u001b[0m \u001b[0;32min\u001b[0m \u001b[0mpickle\u001b[0m\u001b[0;34m.\u001b[0m\u001b[0mload\u001b[0m\u001b[0;34m(\u001b[0m\u001b[0mfid\u001b[0m\u001b[0;34m)\u001b[0m\u001b[0;34m]\u001b[0m\u001b[0;34m)\u001b[0m\u001b[0;34m\u001b[0m\u001b[0;34m\u001b[0m\u001b[0m\n\u001b[1;32m      3\u001b[0m \u001b[0;34m\u001b[0m\u001b[0m\n\u001b[1;32m      4\u001b[0m \u001b[0mprint\u001b[0m\u001b[0;34m(\u001b[0m\u001b[0marr\u001b[0m\u001b[0;34m)\u001b[0m\u001b[0;34m\u001b[0m\u001b[0;34m\u001b[0m\u001b[0m\n",
      "\u001b[0;31mFileNotFoundError\u001b[0m: [Errno 2] No such file or directory: '/home/klb807/Downloads/priors_black_top.pkl'"
     ]
    }
   ],
   "source": [
    "with open('/home/klb807/Downloads/priors_black_top.pkl', 'rb') as fid:\n",
    "    arr = np.array([item for item in pickle.load(fid)])\n",
    "\n",
    "print(arr)"
   ]
  }
 ],
 "metadata": {
  "kernelspec": {
   "display_name": "mars_dev",
   "language": "python",
   "name": "python3"
  },
  "language_info": {
   "codemirror_mode": {
    "name": "ipython",
    "version": 3
   },
   "file_extension": ".py",
   "mimetype": "text/x-python",
   "name": "python",
   "nbconvert_exporter": "python",
   "pygments_lexer": "ipython3",
   "version": "3.7.8"
  }
 },
 "nbformat": 4,
 "nbformat_minor": 2
}
