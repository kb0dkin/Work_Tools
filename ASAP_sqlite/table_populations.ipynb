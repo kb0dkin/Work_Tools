{
 "cells": [
  {
   "cell_type": "markdown",
   "metadata": {},
   "source": [
    "import everything"
   ]
  },
  {
   "cell_type": "code",
   "execution_count": 2,
   "metadata": {},
   "outputs": [],
   "source": [
    "import sqlite3\n",
    "import os\n",
    "import re\n",
    "from pprint import pprint\n",
    "# import dateutil"
   ]
  },
  {
   "cell_type": "markdown",
   "metadata": {},
   "source": [
    "Create a new database connection cursor"
   ]
  },
  {
   "cell_type": "code",
   "execution_count": 3,
   "metadata": {},
   "outputs": [],
   "source": [
    "sqlite_file = '/media/fsmresfiles/ASAP/iMCI-P60induction/iMCIP60.sqlite'\n",
    "project_dir = '/media/fsmresfiles/ASAP/iMCI-P60induction/'\n",
    "\n",
    "\n",
    "con = sqlite3.connect(sqlite_file)\n",
    "cur = con.cursor()\n",
    "\n",
    "\n",
    "# res = cur.execute('SELECT * FROM MOUSE;')\n",
    "# if res.fetchone() is None:\n",
    "#     print('Empty Table')"
   ]
  },
  {
   "cell_type": "markdown",
   "metadata": {},
   "source": [
    "# Create the tables\n",
    "\n",
    "\n",
    "---------------------------------\n",
    "\n",
    "## *Mouse*\n",
    "List of all mice recorded\n",
    "\n",
    "| Field | Datatype | Comments |\n",
    "| ---- | ---- | ---- |\n",
    "| id | text | combo of cage ID and ear tag |\n",
    "| injection date | text | YYYY-mm-ddTHH:MM |\n",
    "| injection type | text | No injection, THs-Cre, or just marker |\n",
    "| sex | text | self explanatory |\n",
    "\n",
    "\n",
    "\n",
    "---------------------------------\n",
    "\n",
    "## *Sessions*\n",
    "List of recording sessions. Typically three per day\n",
    "\n",
    "| Field | Datatype | Comments |\n",
    "| ---- | ---- | ---- |\n",
    "| mouse_id | text | foreign key from mouse table |\n",
    "| time | text | recording time |\n",
    "| task | text | chochip, openfield, sticker |\n",
    "| experimenter | text | usually Arin |\n",
    "| enclosure | text | openfield, new box, old box |\n",
    "| comments | text | anything to add ?|\n",
    "\n",
    "\n",
    "\n",
    "---------------------------------\n",
    "\n",
    "## *Videos*\n",
    "List of videos and their locations. Not just original recordings, but also \n",
    "includes the cropped and edited videos. \n",
    "\n",
    "| Field | Datatype | Comments |\n",
    "| ---- | ---- | ---- |\n",
    "| relative_path | text | path from the project base (iMCP_p60 etc) |\n",
    "| session_id | text | foreign key from Sessions table |\n",
    "| description | text | is this the original recording? A converted mp4? Cropped? |\n",
    "\n",
    "\n",
    "---------------------------------\n",
    "\n",
    "## *Calibrations*\n",
    "Intrinsic and Extrinsic matrices for multi-view, plus the bounding boxes for each view\n",
    "\n",
    "| Field | Datatype | Comments |\n",
    "| ---- | ---- | ---- |\n",
    "| relative_path | text | where is the recording for the associated calibration? |\n",
    "| boundary | blob | encoded dictionary of the boundary points for each view |\n",
    "| intrinsic | blob | encoded dictionary of camera calibration matrices |\n",
    "| extrinsic | blob | encoded dictionary of camera calibration matrices |\n",
    "\n"
   ]
  },
  {
   "cell_type": "code",
   "execution_count": null,
   "metadata": {},
   "outputs": [],
   "source": [
    "# create the mouse table\n",
    "mouse_creation = '''\n",
    "                    CREATE TABLE mouse \n",
    "                    (id text, injection_date text, injection_type text, sex text);\n",
    "                    '''\n",
    "\n",
    "cur.execute(mouse_creation)\n",
    "\n",
    "# create the recordings table\n",
    "session_creation = ''' \n",
    "                    CREATE TABLE session\n",
    "                    (mouse_id text, time text, task text, experimenter text,\n",
    "                    enclosure text, comments text,\n",
    "                    FOREIGN KEY (mouse_id) REFERENCES \"mouse\" ([id]));\n",
    "                    '''\n",
    "cur.execute(session_creation)\n",
    "\n",
    "\n",
    "# create the videos table\n",
    "videos_creation = ''' \n",
    "                    CREATE TABLE videos (\n",
    "                        relative_path text, \n",
    "                        session_id text,\n",
    "                        description text,\n",
    "                        FOREIGN KEY (session_id) REFERENCES \"session\" ([rowid])\n",
    "                    );'''\n",
    "\n",
    "cur.execute(videos_creation)\n",
    "\n",
    "\n",
    "# calibration table\n",
    "calibration_creation = ''' \n",
    "                    CREATE TABLE calibration (\n",
    "                        relative_path text,\n",
    "                        boundary blob,\n",
    "                        intrinsic blob,\n",
    "                        extrinsic blob\n",
    "                    );'''\n",
    "cur.execute(calibration_creation)"
   ]
  },
  {
   "cell_type": "markdown",
   "metadata": {},
   "source": [
    "Let's make sure that everything was created"
   ]
  },
  {
   "cell_type": "code",
   "execution_count": null,
   "metadata": {},
   "outputs": [],
   "source": [
    "# cur.execute('.headers on; .mode columns;')\n",
    "\n",
    "cur.execute(\"PRAGMA table_info('mouse')\")\n",
    "pprint(cur.fetchall())\n",
    "cur.execute(\"PRAGMA table_info('session')\")\n",
    "pprint(cur.fetchall())\n",
    "cur.execute(\"PRAGMA table_info('videos')\")\n",
    "pprint(cur.fetchall())\n",
    "cur.execute(\"PRAGMA table_info('calibration')\")\n",
    "pprint(cur.fetchall())"
   ]
  },
  {
   "cell_type": "markdown",
   "metadata": {},
   "source": [
    "# Insert the p60 mice into the tables"
   ]
  },
  {
   "cell_type": "code",
   "execution_count": null,
   "metadata": {},
   "outputs": [],
   "source": [
    "mouse_insert ='''   INSERT INTO mouse (id, sex, injection_date, injection_type) VALUES ('2596507_5674', 'M', '07/12/2023', 'no injection');\n",
    "                    INSERT INTO mouse (id, sex, injection_date, injection_type) VALUES ('2596507_5675', 'M', '07/12/2023', 'AAV9-THs-FusionRed-mWPRE-hGHpA');\n",
    "                    INSERT INTO mouse (id, sex, injection_date, injection_type) VALUES ('2596507_5676', 'M', '07/11/2023', 'AAV9-THs-Cre-2A-FusionRed-mWPRE-hGHpA ');\n",
    "                    INSERT INTO mouse (id, sex, injection_date, injection_type) VALUES ('2596507_5682', 'M', '07/11/2023', 'AAV9-THs-FusionRed-mWPRE-hGHpA');\n",
    "                    INSERT INTO mouse (id, sex, injection_date, injection_type) VALUES ('2596507_5683', 'M', '07/11/2023', 'AAV9-THs-Cre-2A-FusionRed-mWPRE-hGHpA ');\n",
    "                    INSERT INTO mouse (id, sex, injection_date, injection_type) VALUES ('2596506_5677', 'F', '07/12/2023', 'AAV9-THs-Cre-2A-FusionRed-mWPRE-hGHpA ');\n",
    "                    INSERT INTO mouse (id, sex, injection_date, injection_type) VALUES ('2596506_5678', 'F', '07/12/2023', 'AAV9-THs-FusionRed-mWPRE-hGHpA');\n",
    "                    INSERT INTO mouse (id, sex, injection_date, injection_type) VALUES ('2596506_5679', 'F', '07/11/2023', 'no injection');\n",
    "                    INSERT INTO mouse (id, sex, injection_date, injection_type) VALUES ('2596506_5680', 'F', '07/12/2023', 'AAV9-THs-Cre-2A-FusionRed-mWPRE-hGHpA ');\n",
    "                    INSERT INTO mouse (id, sex, injection_date, injection_type) VALUES ('2596506_5681', 'F', '07/11/2023', 'AAV9-THs-FusionRed-mWPRE-hGHpA');\n",
    "                    INSERT INTO mouse (id, sex, injection_date, injection_type) VALUES ('2605920_6285', 'M', '08/10/2023', 'no injection');\n",
    "                    INSERT INTO mouse (id, sex, injection_date, injection_type) VALUES ('2605920_6286', 'M', '08/10/2023', 'AV9-THs-Cre-2A-FusionRed-mWPRE-hGHpA ');\n",
    "                    INSERT INTO mouse (id, sex, injection_date, injection_type) VALUES ('2605920_6287', 'M', '08/09/2023', 'AV9-THs-FusionRed-mWPRE-hGHpA');\n",
    "                    INSERT INTO mouse (id, sex, injection_date, injection_type) VALUES ('2605920_6288', 'M', '08/10/2023', 'AV9-THs-FusionRed-mWPRE-hGHpA');\n",
    "                    INSERT INTO mouse (id, sex, injection_date, injection_type) VALUES ('2605920_6290', 'M', '08/09/2023', 'AV9-THs-Cre-2A-FusionRed-mWPRE-hGHpA ');\n",
    "                    INSERT INTO mouse (id, sex, injection_date, injection_type) VALUES ('2605373_6227', 'F', '08/08/2023', 'AV9-THs-FusionRed-mWPRE-hGHpA');\n",
    "                    INSERT INTO mouse (id, sex, injection_date, injection_type) VALUES ('2605373_6228', 'F', '08/10/2023', 'AV9-THs-Cre-2A-FusionRed-mWPRE-hGHpA');\n",
    "                    INSERT INTO mouse (id, sex, injection_date, injection_type) VALUES ('2605373_6229', 'F', '08/08/2023', 'AV9-THs-FusionRed-mWPRE-hGHpA');\n",
    "                    INSERT INTO mouse (id, sex, injection_date, injection_type) VALUES ('2605373_6230', 'F', '08/08/2023', '9-THs-Cre-2A-FusionRed-mWPRE-hGHpA');\n",
    "                    INSERT INTO mouse (id, sex, injection_date, injection_type) VALUES ('2605373_6231', 'F', '08/10/2023', 'no injection');'''\n",
    "\n",
    "\n",
    "cur.executescript(mouse_insert)"
   ]
  },
  {
   "cell_type": "code",
   "execution_count": null,
   "metadata": {},
   "outputs": [],
   "source": [
    "# and make sure that it actually stuck\n",
    "cur.execute('SELECT * FROM mouse;')\n",
    "pprint(cur.fetchall())"
   ]
  },
  {
   "cell_type": "markdown",
   "metadata": {},
   "source": [
    "Iterate through the directories to get the list of recordings, tiffs and the videos"
   ]
  },
  {
   "cell_type": "code",
   "execution_count": 7,
   "metadata": {},
   "outputs": [],
   "source": [
    "for root,dirs,files in os.walk('/mnt/Kennedy_SMB/ASAP/iMCI-P60induction/', topdown=False):\n",
    "    \n",
    "    # skip if there aren't any .tiff or .mp4\n",
    "    match_files = [file for file in files if '.tiff' in file or '.mp4' in file] \n",
    "\n",
    "    # skip if there aren't any tiffs or mp4s\n",
    "    if not match_files:\n",
    "        continue\n",
    "\n",
    "    # parsing the mouse id \n",
    "    mouse_id = re.search('(\\d{7}_\\d{4})', root).group(0)\n",
    "    \n",
    "    # parsing the recording date\n",
    "    rec_date = re.search('(2023\\d{4})_(\\d{9})', match_files[0])\n",
    "    parsed_recdate = f'{rec_date.group(1)[0:4]}-{rec_date.group(1)[4:6]}-{rec_date.group(1)[6:]}'\n",
    "    parsed_rectime = f'{rec_date.group(2)[0:2]}:{rec_date.group(2)[2:4]}:{rec_date.group(2)[4:6]}'\n",
    "    parsed_dt = parsed_recdate+'T'+parsed_rectime\n",
    "    \n",
    "    # parsing the task\n",
    "    task_id = re.search('(chochip|openfield|sticker)', root).group(0)\n",
    "\n",
    "    # enclosure type\n",
    "    enclosure = 'openfield' if task_id == 'openfield' else 'small_multiview'\n",
    "    \n",
    "    # session insert\n",
    "    rec_query = f'''INSERT INTO session (mouse_id, time, task, enclosure)\n",
    "        VALUES ('{mouse_id}', '{parsed_dt}', '{task_id}', '{enclosure}');'''\n",
    "    \n",
    "    # print(rec_query)\n",
    "    cur.execute(rec_query)\n",
    "    rec_id = cur.lastrowid\n",
    "\n",
    "    # insert vid\n",
    "\n",
    "    # mp4 file list\n",
    "    mp4_files = [os.path.join(root, file) for file in match_files if '.mp4' in file]\n",
    "\n",
    "    # sql query\n",
    "    for file in mp4_files:\n",
    "        cur.execute(f'''INSERT INTO videos (relative_path, session_id) VALUES ('{file}', '{rec_id}')''')\n",
    "        vid_id = cur.fetchone()\n",
    "\n",
    "    # print if we got it\n",
    "    if vid_id and rec_id:\n",
    "        print('Inserted session and videos')\n",
    "\n"
   ]
  },
  {
   "cell_type": "markdown",
   "metadata": {},
   "source": [
    "## Add calibration videos to the database\n",
    "\n",
    "For now we'll just grab the bounding boxes from the calibration videos since both AniPose and DANNCE have their own calibration software to handle that for us.\n",
    "\n",
    "This will be specifically for the multiview recordings, not needed for the open field stuff"
   ]
  },
  {
   "cell_type": "code",
   "execution_count": null,
   "metadata": {},
   "outputs": [],
   "source": [
    "from multiview_calibration_preparation import multiview_calibration_preparation\n",
    "\n",
    "multiview_calibration_preparation(project_dir = project_dir, sql_path=sqlite_file)"
   ]
  },
  {
   "cell_type": "markdown",
   "metadata": {},
   "source": [
    "## Connect each "
   ]
  }
 ],
 "metadata": {
  "kernelspec": {
   "display_name": "capstone",
   "language": "python",
   "name": "python3"
  },
  "language_info": {
   "codemirror_mode": {
    "name": "ipython",
    "version": 3
   },
   "file_extension": ".py",
   "mimetype": "text/x-python",
   "name": "python",
   "nbconvert_exporter": "python",
   "pygments_lexer": "ipython3",
   "version": "3.10.13"
  }
 },
 "nbformat": 4,
 "nbformat_minor": 2
}
