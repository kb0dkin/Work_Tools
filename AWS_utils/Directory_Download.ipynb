{
 "cells": [
  {
   "cell_type": "markdown",
   "metadata": {},
   "source": [
    "# Download files from AWS S3\n",
    "\n",
    "This seems to be the only way to download full directories from AWS, since the console only allows you to download one item at a time"
   ]
  },
  {
   "cell_type": "code",
   "execution_count": 3,
   "metadata": {},
   "outputs": [],
   "source": [
    "import boto3\n",
    "import os"
   ]
  },
  {
   "cell_type": "markdown",
   "metadata": {},
   "source": [
    "# define a little download function"
   ]
  },
  {
   "cell_type": "code",
   "execution_count": 9,
   "metadata": {},
   "outputs": [],
   "source": [
    "\n",
    "def download_s3_folder(bucket_name, s3_folder, local_dir=None, profile_name = None):\n",
    "    '''\n",
    "    Download the ocntents of s3 directory recursively\n",
    "    This relies on environment variables, so you'll need to have your \n",
    "    credentials set up:\n",
    "    https://boto3.amazonaws.com/v1/documentation/api/latest/guide/configuration.html\n",
    "\n",
    "    Args:\n",
    "        bucket_name: self explanatory\n",
    "        s3_folder: directory path within the bucket\n",
    "        local_dir: relative or absolute path in local file system. If None, will create \n",
    "                    directory of same name as s3_folder in current directory\n",
    "    '''\n",
    "    # s3 = boto3.resource('s3')\n",
    "    session = boto3.Session(profile_name) # profile from the .aws/config file\n",
    "    s3 = session.resource('s3')\n",
    "    bucket = s3.Bucket(bucket_name)\n",
    "\n",
    "    # for each object that matches the s3_folder name -- not sure why it's a for loop\n",
    "    for obj in bucket.objects.filter(Prefix=s3_folder):\n",
    "        # save target. create a new directory if needed\n",
    "        target = obj.key if local_dir is None else os.path.join(local_dir,os.path.relpath(obj.key, s3_folder))\n",
    "\n",
    "        if not os.path.exists(os.path.dirname(target)):\n",
    "            os.makedirs(os.path.dirname(target))\n",
    "        if obj.key[-1] == '/': # if it's a directory\n",
    "            continue\n",
    "\n",
    "        bucket.download_file(obj.key, target)\n",
    "\n",
    "\n",
    "\n"
   ]
  },
  {
   "cell_type": "markdown",
   "metadata": {},
   "source": [
    "now let's try it out"
   ]
  },
  {
   "cell_type": "code",
   "execution_count": 18,
   "metadata": {},
   "outputs": [],
   "source": [
    "bucket_name = 'shah-c57-129'\n",
    "s3_folder = ''\n",
    "local_dir = '/home/klb807/Downloads/shaw_aws/'\n",
    "profile_name = ''\n",
    "\n",
    "download_s3_folder(bucket_name, s3_folder, local_dir, profile_name)"
   ]
  }
 ],
 "metadata": {
  "kernelspec": {
   "display_name": "mars_dev",
   "language": "python",
   "name": "python3"
  },
  "language_info": {
   "codemirror_mode": {
    "name": "ipython",
    "version": 3
   },
   "file_extension": ".py",
   "mimetype": "text/x-python",
   "name": "python",
   "nbconvert_exporter": "python",
   "pygments_lexer": "ipython3",
   "version": "3.7.8"
  }
 },
 "nbformat": 4,
 "nbformat_minor": 2
}
