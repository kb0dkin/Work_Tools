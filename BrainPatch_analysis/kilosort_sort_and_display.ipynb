{
 "cells": [
  {
   "cell_type": "markdown",
   "metadata": {},
   "source": [
    "Kilosort sort and display\n",
    "\n",
    "runs some everything through kilosort, then do some plotting of the results"
   ]
  },
  {
   "cell_type": "code",
   "execution_count": 1,
   "metadata": {},
   "outputs": [],
   "source": [
    "import numpy as np\n",
    "import pandas as pd\n",
    "from kilosort import run_kilosort, io\n",
    "from matplotlib import pyplot as plt\n",
    "from matplotlib import rcParams, gridspec\n",
    "from os import sep, path\n",
    "\n",
    "from tkinter import Tk\n",
    "from tkinter import filedialog\n",
    "\n",
    "from spikeinterface.extractors import read_openephys\n",
    "from openephys_utils import open_sig_events, save_filt_signal\n",
    "\n",
    "%matplotlib qt"
   ]
  },
  {
   "cell_type": "markdown",
   "metadata": {},
   "source": [
    "Choose the probe and the data directory"
   ]
  },
  {
   "cell_type": "code",
   "execution_count": 3,
   "metadata": {},
   "outputs": [],
   "source": [
    "# open a file dialog for the probe\n",
    "if 'probe_fd' not in locals():\n",
    "    root = Tk()\n",
    "    probe_fd = filedialog.askopenfilename(master=root)\n",
    "    root.withdraw()\n",
    "\n",
    "    # FD for the recording folder\n",
    "    dd = filedialog.askdirectory(master=root, initialdir=probe_fd.split(sep))\n"
   ]
  },
  {
   "cell_type": "markdown",
   "metadata": {},
   "source": [
    "Load the probe, convert the openephys to binary"
   ]
  },
  {
   "cell_type": "code",
   "execution_count": 3,
   "metadata": {},
   "outputs": [],
   "source": [
    "\n",
    "# load a probe\n",
    "probe = io.load_probe(probe_fd)\n",
    "\n",
    "# read the openephys\n",
    "oeps = read_openephys(dd)\n",
    "\n",
    "# load it and convert it into binary\n",
    "filename, N, c, s, fs, probe_path = io.spikeinterface_to_binary(\n",
    "    oeps, dd, data_name = 'recording.bin', dtype = np.int16,\n",
    "    chunksize=60000\n",
    ")\n"
   ]
  },
  {
   "cell_type": "markdown",
   "metadata": {},
   "source": [
    "run kilosort"
   ]
  },
  {
   "cell_type": "code",
   "execution_count": null,
   "metadata": {},
   "outputs": [],
   "source": [
    "\n",
    "# put together some settings\n",
    "# 64 channels, save the cleaned data to compare\n",
    "# no drift correction (apparantly the electrodes are too sparse)\n",
    "# \n",
    "settings = {'filename':filename, 'probe_path':probe_fd, 'n_chan_bin': 64, 'nblocks':0,\n",
    "            'save_preprocessed_blocks': True}\n",
    "\n",
    "\n",
    "# # \n",
    "results = run_kilosort(settings=settings)"
   ]
  },
  {
   "cell_type": "markdown",
   "metadata": {},
   "source": [
    "Load all of the saved files for plotting purposes"
   ]
  },
  {
   "cell_type": "code",
   "execution_count": 4,
   "metadata": {},
   "outputs": [],
   "source": [
    "# outputs saved to results_dir\n",
    "results_dir = path.join(dd, 'kilosort4')\n",
    "ops = io.load_ops(path.join(results_dir, 'ops.npy'))\n",
    "\n",
    "# cluster amplitudes\n",
    "camps = pd.read_csv(path.join(results_dir, 'cluster_Amplitude.tsv'), sep='\\t')['Amplitude'].values\n",
    "\n",
    "# contamination percentage for each cluster\n",
    "contam_pct = pd.read_csv(path.join(results_dir, 'cluster_ContamPct.tsv'), sep='\\t')['ContamPct'].values\n",
    "\n",
    "# channel map -- this will be helpful\n",
    "chan_map =  np.load(path.join(results_dir , 'channel_map.npy'))\n",
    "\n",
    "# template for each unit. worth taking a look at\n",
    "templates =  np.load(path.join(results_dir , 'templates.npy'))\n",
    "\n",
    "# the \"best\" spike per channel -- spike with the largest amplitude, for each channel\n",
    "chan_best = (templates**2).sum(axis=1).argmax(axis=-1)\n",
    "chan_best = chan_map[chan_best]\n",
    "\n",
    "# amplitudes, spike times, and clusters\n",
    "amplitudes = np.load(path.join(results_dir , 'amplitudes.npy'))\n",
    "st = np.load(path.join(results_dir , 'spike_times.npy'))\n",
    "clu = np.load(path.join(results_dir , 'spike_clusters.npy'))\n",
    "\n",
    "# average firing rates\n",
    "firing_rates = np.unique(clu, return_counts=True)[1] * 30000 / st.max()\n"
   ]
  },
  {
   "cell_type": "code",
   "execution_count": 4,
   "metadata": {},
   "outputs": [],
   "source": [
    "# load original signals and filter them\n",
    "oeps = read_openephys(dd)"
   ]
  },
  {
   "cell_type": "markdown",
   "metadata": {},
   "source": [
    "Show the plots -- first with just the method from the kilosort"
   ]
  },
  {
   "cell_type": "code",
   "execution_count": 5,
   "metadata": {},
   "outputs": [],
   "source": [
    "from matplotlib import gridspec, rcParams\n",
    "rcParams['axes.spines.top'] = False\n",
    "rcParams['axes.spines.right'] = False\n",
    "gray = .5*np.ones(3)\n",
    "\n",
    "# set up a big canvas to work with\n",
    "fig = plt.figure(figsize=(10,10), dpi=100)\n",
    "grid = gridspec.GridSpec(3, 3, figure=fig, hspace=0.5, wspace=0.5)\n",
    "\n",
    "# # first plot -- drift over time as defined by \n",
    "# ax = fig.add_subplot(grid[0,0])\n",
    "# ax.plot(np.arange(0, ops['Nbatches'])*2, dshift)\n",
    "# ax.set_xlabel('time (sec.)')\n",
    "# ax.set_ylabel('drift (um)')\n",
    "\n",
    "# highest magnitude spike per channel for the first 5 seconds\n",
    "ax = fig.add_subplot(grid[0,1:])\n",
    "t0 = 0 \n",
    "t1 = np.nonzero(st > ops['fs']*5)[0][0]\n",
    "ax.scatter(st[t0:t1]/30000., chan_best[clu[t0:t1]], s=0.5, color='k', alpha=0.25)\n",
    "ax.set_xlim([0, 5])\n",
    "ax.set_ylim([chan_map.max(), 0])\n",
    "ax.set_xlabel('time (sec.)')\n",
    "ax.set_ylabel('channel')\n",
    "ax.set_title('spikes from units')\n",
    "\n",
    "ax = fig.add_subplot(grid[1,0])\n",
    "nb=ax.hist(firing_rates, 20, color=gray)\n",
    "ax.set_xlabel('firing rate (Hz)')\n",
    "ax.set_ylabel('# of units')\n",
    "\n",
    "ax = fig.add_subplot(grid[1,1])\n",
    "nb=ax.hist(camps, 20, color=gray)\n",
    "ax.set_xlabel('amplitude')\n",
    "ax.set_ylabel('# of units')\n",
    "\n",
    "ax = fig.add_subplot(grid[1,2])\n",
    "nb=ax.hist(np.minimum(100, contam_pct), np.arange(0,105,5), color=gray)\n",
    "ax.plot([10, 10], [0, nb[0].max()], 'k--')\n",
    "ax.set_xlabel('% contamination')\n",
    "ax.set_ylabel('# of units')\n",
    "ax.set_title('< 10% = good units')\n",
    "\n",
    "for k in range(2):\n",
    "    ax = fig.add_subplot(grid[2,k])\n",
    "    is_ref = contam_pct<10.\n",
    "    ax.scatter(firing_rates[~is_ref], camps[~is_ref], s=3, color='r', label='mua', alpha=0.25)\n",
    "    ax.scatter(firing_rates[is_ref], camps[is_ref], s=3, color='b', label='good', alpha=0.25)\n",
    "    ax.set_ylabel('amplitude (a.u.)')\n",
    "    ax.set_xlabel('firing rate (Hz)')\n",
    "    ax.legend()\n",
    "    if k==1:\n",
    "        ax.set_xscale('log')\n",
    "        ax.set_yscale('log')\n",
    "        ax.set_title('loglog')"
   ]
  },
  {
   "cell_type": "markdown",
   "metadata": {},
   "source": [
    "Look at the units vs the whitened recordings"
   ]
  },
  {
   "cell_type": "code",
   "execution_count": null,
   "metadata": {},
   "outputs": [],
   "source": [
    "probe = ops['probe']\n",
    "# x and y position of probe sites\n",
    "xc, yc = probe['xc'], probe['yc']\n",
    "nc = 16 # number of channels to show\n",
    "good_units = np.nonzero(contam_pct <= 0.1)[0]\n",
    "\n",
    "\n",
    "# pull out the templates for the \"good\" units\n",
    "good_temp = templates[good_units]\n",
    "cb = chan_best[good_units]"
   ]
  },
  {
   "cell_type": "code",
   "execution_count": 6,
   "metadata": {},
   "outputs": [],
   "source": [
    "probe = ops['probe']\n",
    "# x and y position of probe sites\n",
    "xc, yc = probe['xc'], probe['yc']\n",
    "nc = 16 # number of channels to show\n",
    "good_units = np.nonzero(contam_pct <= 0.1)[0]\n",
    "mua_units = np.nonzero(contam_pct > 0.1)[0]\n",
    "\n",
    "\n",
    "gstr = ['good', 'mua']\n",
    "for j,g in enumerate(gstr):\n",
    "    units = good_units if j==0 else mua_units \n",
    "    fig = plt.figure(figsize=(12,3), dpi=150)\n",
    "    grid = gridspec.GridSpec(2,20, figure=fig, hspace=0.25, wspace=0.5)\n",
    "\n",
    "    for k in range(40):\n",
    "        wi = units[np.random.randint(len(units))]\n",
    "        wv = templates[wi].copy()  \n",
    "        cb = chan_best[wi]\n",
    "        nsp = (clu==wi).sum()\n",
    "        \n",
    "        ax = fig.add_subplot(grid[k//20, k%20])\n",
    "        n_chan = wv.shape[-1]\n",
    "        ic0 = max(0, cb-nc//2)\n",
    "        ic1 = min(n_chan, cb+nc//2)\n",
    "        wv = wv[:, ic0:ic1]\n",
    "        x0, y0 = xc[ic0:ic1], yc[ic0:ic1]\n",
    "\n",
    "        amp = 4\n",
    "        for ii, (xi,yi) in enumerate(zip(x0,y0)):\n",
    "            t = np.arange(-wv.shape[0]//2,wv.shape[0]//2,1,'float32')\n",
    "            t /= wv.shape[0] / 20\n",
    "            ax.plot(xi + t, yi + wv[:,ii]*amp, lw=0.5, color='k')\n",
    "\n",
    "        ax.set_title(f'{nsp}', fontsize='small')\n",
    "        ax.axis('off')\n",
    "    plt.show()"
   ]
  }
 ],
 "metadata": {
  "kernelspec": {
   "display_name": "s_interface",
   "language": "python",
   "name": "python3"
  },
  "language_info": {
   "codemirror_mode": {
    "name": "ipython",
    "version": 3
   },
   "file_extension": ".py",
   "mimetype": "text/x-python",
   "name": "python",
   "nbconvert_exporter": "python",
   "pygments_lexer": "ipython3",
   "version": "3.9.19"
  }
 },
 "nbformat": 4,
 "nbformat_minor": 2
}
