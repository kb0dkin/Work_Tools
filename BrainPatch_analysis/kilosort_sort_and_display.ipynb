{
 "cells": [
  {
   "cell_type": "markdown",
   "metadata": {},
   "source": [
    "Kilosort sort and display\n",
    "\n",
    "runs some everything through kilosort, then do some plotting of the results"
   ]
  },
  {
   "cell_type": "code",
   "execution_count": 1,
   "metadata": {},
   "outputs": [],
   "source": [
    "import numpy as np\n",
    "# from kilosort import run_kilosort, io\n",
    "from matplotlib import pyplot as plt\n",
    "from os import sep\n",
    "\n",
    "from tkinter import Tk\n",
    "from tkinter import filedialog\n",
    "\n",
    "from spikeinterface.extractors import read_openephys"
   ]
  },
  {
   "cell_type": "markdown",
   "metadata": {},
   "source": [
    "Load in the probe settings"
   ]
  },
  {
   "cell_type": "code",
   "execution_count": 5,
   "metadata": {},
   "outputs": [],
   "source": [
    "# open a file dialog for the probe\n",
    "root = Tk()\n",
    "fd = filedialog.askopenfilename(master=root)\n",
    "root.withdraw()\n",
    "\n",
    "# load a probe\n",
    "# probe = io.load_probe(fd)\n",
    "\n",
    "# FD for the recording folder\n",
    "dd = filedialog.askdirectory(master=root)\n",
    "# oeps = read_openephys(dd, experiment_names = 'experiment1')\n",
    "oeps = read_openephys(dd, load_sync_channel = False)\n",
    "\n",
    "\n",
    "# put together some settings\n",
    "settings = {'data_dir': dd, 'n_chan_bin': 64}\n",
    "\n",
    "\n",
    "# \n",
    "# results = run_kilosort(probe = probe)"
   ]
  }
 ],
 "metadata": {
  "kernelspec": {
   "display_name": "s_interface",
   "language": "python",
   "name": "python3"
  },
  "language_info": {
   "codemirror_mode": {
    "name": "ipython",
    "version": 3
   },
   "file_extension": ".py",
   "mimetype": "text/x-python",
   "name": "python",
   "nbconvert_exporter": "python",
   "pygments_lexer": "ipython3",
   "version": "3.12.4"
  }
 },
 "nbformat": 4,
 "nbformat_minor": 2
}
