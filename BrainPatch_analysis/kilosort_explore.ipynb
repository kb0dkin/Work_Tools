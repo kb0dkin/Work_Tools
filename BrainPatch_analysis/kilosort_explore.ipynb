{
 "cells": [
  {
   "cell_type": "markdown",
   "metadata": {},
   "source": [
    "Look through the numpy files from kilosort"
   ]
  },
  {
   "cell_type": "code",
   "execution_count": 12,
   "metadata": {},
   "outputs": [],
   "source": [
    "import numpy as np\n",
    "from matplotlib import pyplot as plt\n",
    "import os\n"
   ]
  },
  {
   "cell_type": "code",
   "execution_count": 72,
   "metadata": {},
   "outputs": [
    {
     "name": "stdout",
     "output_type": "stream",
     "text": [
      "amplitudes.npy: (161698,)\n",
      "channel_map.npy: (64,)\n",
      "channel_positions.npy: (64, 2)\n",
      "channel_shanks.npy: (64,)\n",
      "kept_spikes.npy: (179677,)\n",
      "ops.npy: ()\n",
      "pc_features.npy: (161698, 6, 10)\n",
      "pc_feature_ind.npy: (216, 10)\n",
      "similar_templates.npy: (216, 216)\n",
      "spike_clusters.npy: (161698,)\n",
      "spike_detection_templates.npy: (161698,)\n",
      "spike_positions.npy: (161698, 2)\n",
      "spike_templates.npy: (161698,)\n",
      "spike_times.npy: (161698,)\n",
      "templates.npy: (216, 61, 64)\n",
      "templates_ind.npy: (216, 64)\n",
      "whitening_mat.npy: (64, 64)\n",
      "whitening_mat_dat.npy: (64, 64)\n",
      "whitening_mat_inv.npy: (64, 64)\n"
     ]
    }
   ],
   "source": [
    "directory = 'Z:\\\\BrainPatch\\\\20240806\\\\Spontaneous_test__2024-08-06_13-58-38__Barrel_cable2\\\\Record Node 101\\\\experiment1\\\\recording1\\\\kilosort4\\\\'\n",
    "\n",
    "files = {}\n",
    "for file in os.listdir(directory) :\n",
    "    if '.npy' not in file:\n",
    "        continue\n",
    "\n",
    "    files[file] = np.load(os.path.join(directory, file), allow_pickle=True)\n",
    "    \n",
    "    # if 'ops' in file: # for some reason it loads a 0-dim array for ops\n",
    "    #     files[file] = np.expand_dims(files[file], 0) \n",
    "\n",
    "    print(f'{file}: {files[file].shape}')\n",
    "\n",
    "\n"
   ]
  },
  {
   "cell_type": "code",
   "execution_count": 79,
   "metadata": {},
   "outputs": [
    {
     "name": "stdout",
     "output_type": "stream",
     "text": [
      "data_file_path\n",
      "results_dir\n",
      "probe\n",
      "probe_name\n",
      "data_dtype\n",
      "n_chan_bin\n",
      "fs\n",
      "batch_size\n",
      "nblocks\n",
      "Th_universal\n",
      "Th_learned\n",
      "tmin\n",
      "tmax\n",
      "nt\n",
      "shift\n",
      "scale\n",
      "artifact_threshold\n",
      "nskip\n",
      "whitening_range\n",
      "highpass_cutoff\n",
      "binning_depth\n",
      "sig_interp\n",
      "drift_smoothing\n",
      "nt0min\n",
      "dmin\n",
      "dminx\n",
      "min_template_size\n",
      "template_sizes\n",
      "nearest_chans\n",
      "nearest_templates\n",
      "max_channel_distance\n",
      "templates_from_data\n",
      "n_templates\n",
      "n_pcs\n",
      "Th_single_ch\n",
      "acg_threshold\n",
      "ccg_threshold\n",
      "cluster_downsampling\n",
      "x_centers\n",
      "duplicate_spike_ms\n",
      "save_preprocessed_copy\n",
      "data_dir\n",
      "filename\n",
      "settings\n",
      "do_CAR\n",
      "invert_sign\n",
      "NTbuff\n",
      "Nchan\n",
      "duplicate_spike_bins\n",
      "torch_device\n",
      "chanMap\n",
      "xc\n",
      "yc\n",
      "kcoords\n",
      "n_chan\n",
      "Nbatches\n",
      "preprocessing\n",
      "Wrot\n",
      "fwav\n",
      "wPCA\n",
      "wTEMP\n",
      "yup\n",
      "xup\n",
      "ycup\n",
      "xcup\n",
      "iC\n",
      "iC2\n",
      "weigh\n",
      "yblk\n",
      "dshift\n",
      "iKxx\n",
      "iCC\n",
      "iU\n",
      "runtime\n",
      "is_tensor\n"
     ]
    }
   ],
   "source": [
    "for key,value in files['ops.npy'][()].items():\n",
    "    print(key)\n",
    "\n",
    "# print(files['ops.npy'][()]['nt'])"
   ]
  },
  {
   "cell_type": "code",
   "execution_count": 14,
   "metadata": {},
   "outputs": [
    {
     "data": {
      "text/plain": [
       "['amplitudes.npy',\n",
       " 'channel_map.npy',\n",
       " 'channel_positions.npy',\n",
       " 'channel_shanks.npy',\n",
       " 'cluster_Amplitude.tsv',\n",
       " 'cluster_ContamPct.tsv',\n",
       " 'cluster_group.tsv',\n",
       " 'cluster_KSLabel.tsv',\n",
       " 'diagnostics.png',\n",
       " 'drift_amount.png',\n",
       " 'drift_scatter.png',\n",
       " 'kept_spikes.npy',\n",
       " 'kilosort4.log',\n",
       " 'ops.npy',\n",
       " 'params.py',\n",
       " 'pc_features.npy',\n",
       " 'pc_feature_ind.npy',\n",
       " 'similar_templates.npy',\n",
       " 'spike_clusters.npy',\n",
       " 'spike_detection_templates.npy',\n",
       " 'spike_positions.npy',\n",
       " 'spike_positions.png',\n",
       " 'spike_templates.npy',\n",
       " 'spike_times.npy',\n",
       " 'templates.npy',\n",
       " 'templates_ind.npy',\n",
       " 'Thumbs.db',\n",
       " 'whitening_mat.npy',\n",
       " 'whitening_mat_dat.npy',\n",
       " 'whitening_mat_inv.npy']"
      ]
     },
     "execution_count": 14,
     "metadata": {},
     "output_type": "execute_result"
    }
   ],
   "source": [
    "directory = 'Z:\\\\BrainPatch\\\\20240806\\\\Spontaneous_test__2024-08-06_13-58-38__Barrel_cable2\\\\Record Node 101\\\\experiment1\\\\recording1\\\\kilosort4\\\\'\n",
    "os.listdir(directory)"
   ]
  },
  {
   "cell_type": "code",
   "execution_count": 38,
   "metadata": {},
   "outputs": [],
   "source": [
    "aa = files['ops.npy']"
   ]
  },
  {
   "cell_type": "code",
   "execution_count": 67,
   "metadata": {},
   "outputs": [],
   "source": [
    "cc = np.expand_dims(aa,0)"
   ]
  },
  {
   "cell_type": "code",
   "execution_count": 42,
   "metadata": {},
   "outputs": [
    {
     "data": {
      "text/plain": [
       "['T',\n",
       " '__abs__',\n",
       " '__add__',\n",
       " '__and__',\n",
       " '__array__',\n",
       " '__array_finalize__',\n",
       " '__array_function__',\n",
       " '__array_interface__',\n",
       " '__array_prepare__',\n",
       " '__array_priority__',\n",
       " '__array_struct__',\n",
       " '__array_ufunc__',\n",
       " '__array_wrap__',\n",
       " '__bool__',\n",
       " '__class__',\n",
       " '__class_getitem__',\n",
       " '__complex__',\n",
       " '__contains__',\n",
       " '__copy__',\n",
       " '__deepcopy__',\n",
       " '__delattr__',\n",
       " '__delitem__',\n",
       " '__dir__',\n",
       " '__divmod__',\n",
       " '__dlpack__',\n",
       " '__dlpack_device__',\n",
       " '__doc__',\n",
       " '__eq__',\n",
       " '__float__',\n",
       " '__floordiv__',\n",
       " '__format__',\n",
       " '__ge__',\n",
       " '__getattribute__',\n",
       " '__getitem__',\n",
       " '__gt__',\n",
       " '__hash__',\n",
       " '__iadd__',\n",
       " '__iand__',\n",
       " '__ifloordiv__',\n",
       " '__ilshift__',\n",
       " '__imatmul__',\n",
       " '__imod__',\n",
       " '__imul__',\n",
       " '__index__',\n",
       " '__init__',\n",
       " '__init_subclass__',\n",
       " '__int__',\n",
       " '__invert__',\n",
       " '__ior__',\n",
       " '__ipow__',\n",
       " '__irshift__',\n",
       " '__isub__',\n",
       " '__iter__',\n",
       " '__itruediv__',\n",
       " '__ixor__',\n",
       " '__le__',\n",
       " '__len__',\n",
       " '__lshift__',\n",
       " '__lt__',\n",
       " '__matmul__',\n",
       " '__mod__',\n",
       " '__mul__',\n",
       " '__ne__',\n",
       " '__neg__',\n",
       " '__new__',\n",
       " '__or__',\n",
       " '__pos__',\n",
       " '__pow__',\n",
       " '__radd__',\n",
       " '__rand__',\n",
       " '__rdivmod__',\n",
       " '__reduce__',\n",
       " '__reduce_ex__',\n",
       " '__repr__',\n",
       " '__rfloordiv__',\n",
       " '__rlshift__',\n",
       " '__rmatmul__',\n",
       " '__rmod__',\n",
       " '__rmul__',\n",
       " '__ror__',\n",
       " '__rpow__',\n",
       " '__rrshift__',\n",
       " '__rshift__',\n",
       " '__rsub__',\n",
       " '__rtruediv__',\n",
       " '__rxor__',\n",
       " '__setattr__',\n",
       " '__setitem__',\n",
       " '__setstate__',\n",
       " '__sizeof__',\n",
       " '__str__',\n",
       " '__sub__',\n",
       " '__subclasshook__',\n",
       " '__truediv__',\n",
       " '__xor__',\n",
       " 'all',\n",
       " 'any',\n",
       " 'argmax',\n",
       " 'argmin',\n",
       " 'argpartition',\n",
       " 'argsort',\n",
       " 'astype',\n",
       " 'base',\n",
       " 'byteswap',\n",
       " 'choose',\n",
       " 'clip',\n",
       " 'compress',\n",
       " 'conj',\n",
       " 'conjugate',\n",
       " 'copy',\n",
       " 'ctypes',\n",
       " 'cumprod',\n",
       " 'cumsum',\n",
       " 'data',\n",
       " 'diagonal',\n",
       " 'dot',\n",
       " 'dtype',\n",
       " 'dump',\n",
       " 'dumps',\n",
       " 'fill',\n",
       " 'flags',\n",
       " 'flat',\n",
       " 'flatten',\n",
       " 'getfield',\n",
       " 'imag',\n",
       " 'item',\n",
       " 'itemset',\n",
       " 'itemsize',\n",
       " 'max',\n",
       " 'mean',\n",
       " 'min',\n",
       " 'nbytes',\n",
       " 'ndim',\n",
       " 'newbyteorder',\n",
       " 'nonzero',\n",
       " 'partition',\n",
       " 'prod',\n",
       " 'ptp',\n",
       " 'put',\n",
       " 'ravel',\n",
       " 'real',\n",
       " 'repeat',\n",
       " 'reshape',\n",
       " 'resize',\n",
       " 'round',\n",
       " 'searchsorted',\n",
       " 'setfield',\n",
       " 'setflags',\n",
       " 'shape',\n",
       " 'size',\n",
       " 'sort',\n",
       " 'squeeze',\n",
       " 'std',\n",
       " 'strides',\n",
       " 'sum',\n",
       " 'swapaxes',\n",
       " 'take',\n",
       " 'tobytes',\n",
       " 'tofile',\n",
       " 'tolist',\n",
       " 'tostring',\n",
       " 'trace',\n",
       " 'transpose',\n",
       " 'var',\n",
       " 'view']"
      ]
     },
     "execution_count": 42,
     "metadata": {},
     "output_type": "execute_result"
    }
   ],
   "source": [
    "dir(aa)"
   ]
  },
  {
   "cell_type": "code",
   "execution_count": 46,
   "metadata": {},
   "outputs": [],
   "source": [
    "bb = aa.tolist()"
   ]
  },
  {
   "cell_type": "code",
   "execution_count": 48,
   "metadata": {},
   "outputs": [
    {
     "data": {
      "text/plain": [
       "WindowsPath('Z:/BrainPatch/20240806/Spontaneous_test__2024-08-06_13-58-38__Barrel_cable2/Record Node 101/experiment1/recording1/kilosort_conversion.bin')"
      ]
     },
     "execution_count": 48,
     "metadata": {},
     "output_type": "execute_result"
    }
   ],
   "source": [
    "bb['data_file_path']"
   ]
  },
  {
   "cell_type": "code",
   "execution_count": 71,
   "metadata": {},
   "outputs": [
    {
     "data": {
      "text/plain": [
       "(1,)"
      ]
     },
     "execution_count": 71,
     "metadata": {},
     "output_type": "execute_result"
    }
   ],
   "source": []
  }
 ],
 "metadata": {
  "kernelspec": {
   "display_name": "generic",
   "language": "python",
   "name": "python3"
  },
  "language_info": {
   "codemirror_mode": {
    "name": "ipython",
    "version": 3
   },
   "file_extension": ".py",
   "mimetype": "text/x-python",
   "name": "python",
   "nbconvert_exporter": "python",
   "pygments_lexer": "ipython3",
   "version": "3.10.14"
  }
 },
 "nbformat": 4,
 "nbformat_minor": 2
}
