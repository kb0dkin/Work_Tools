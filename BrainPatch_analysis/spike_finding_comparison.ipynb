{
 "cells": [
  {
   "cell_type": "markdown",
   "metadata": {},
   "source": [
    "# Spike-finding comparison\n"
   ]
  },
  {
   "cell_type": "code",
   "execution_count": 1,
   "metadata": {},
   "outputs": [],
   "source": [
    "from matplotlib import pyplot as plt\n",
    "from matplotlib.patches import Polygon\n",
    "import numpy as np\n",
    "\n",
    "import os\n",
    "import openephys_utils\n",
    "\n",
    "from scipy import signal\n",
    "\n",
    "%matplotlib qt\n",
    "\n",
    "from tqdm.notebook import tqdm\n",
    "\n",
    "import kilosort"
   ]
  },
  {
   "cell_type": "markdown",
   "metadata": {},
   "source": [
    "Pop out the threshold crossings from each channel for a particular directory"
   ]
  },
  {
   "cell_type": "code",
   "execution_count": 2,
   "metadata": {},
   "outputs": [],
   "source": [
    "directory = 'Z:\\\\BrainPatch\\\\20241002\\\\lateral\\\\Crimson__2024-10-02_12-21-01__20mA_2ms_400um'\n",
    "filename = os.path.join(directory, 'sig_eraasr.npy')\n",
    "\n",
    "if not os.path.exists(os.path.join(directory, 'sig_eraasr.npy')):\n",
    "    # read everything\n",
    "    sig, timestamps, stims, stim_ts = openephys_utils.open_sig_stims(directory)\n",
    "\n",
    "    # clean, pull out threshold crossings, get firing rates\n",
    "    sig_eraasr = openephys_utils.ERAASR(sig)\n",
    "    spike_dict = openephys_utils.threshold_crossings(sig_eraasr, multi_rejection=None, low_cutoff=-20)\n",
    "\n",
    "    filename = os.path.join(directory, 'sig_eraasr.npy')\n",
    "    np.save(filename, sig_eraasr.astype(np.float32))\n",
    "\n",
    "else:\n",
    "    sig_eraasr = np.load(filename)\n",
    "    spike_dict = openephys_utils.threshold_crossings(sig_eraasr, multi_rejection=None, low_cutoff=-20)"
   ]
  },
  {
   "cell_type": "markdown",
   "metadata": {},
   "source": [
    "kilosort"
   ]
  },
  {
   "cell_type": "code",
   "execution_count": 3,
   "metadata": {},
   "outputs": [
    {
     "name": "stderr",
     "output_type": "stream",
     "text": [
      "kilosort.run_kilosort: Kilosort version 4.0.17\n",
      "kilosort.run_kilosort: Sorting Z:\\BrainPatch\\20241002\\lateral\\Crimson__2024-10-02_12-21-01__20mA_2ms_400um\\sig_eraasr.npy\n",
      "kilosort.run_kilosort: ----------------------------------------\n",
      "kilosort.run_kilosort: Using GPU for PyTorch computations. Specify `device` to change this.\n",
      "kilosort.run_kilosort:  \n",
      "kilosort.run_kilosort: Computing preprocessing variables.\n",
      "kilosort.run_kilosort: ----------------------------------------\n",
      "kilosort.run_kilosort: N samples: 2164480\n",
      "kilosort.run_kilosort: N seconds: 72.14933333333333\n",
      "kilosort.run_kilosort: N batches: 37\n",
      "kilosort.run_kilosort: Preprocessing filters computed in  3.06s; total  3.07s\n",
      "kilosort.run_kilosort:  \n",
      "kilosort.run_kilosort: Computing drift correction.\n",
      "kilosort.run_kilosort: ----------------------------------------\n",
      "kilosort.spikedetect: Re-computing universal templates from data.\n",
      "100%|██████████| 37/37 [00:16<00:00,  2.25it/s]\n",
      "kilosort.run_kilosort: drift computed in  17.49s; total  20.60s\n",
      "kilosort.run_kilosort:  \n",
      "kilosort.run_kilosort: Extracting spikes using templates\n",
      "kilosort.run_kilosort: ----------------------------------------\n",
      "kilosort.spikedetect: Re-computing universal templates from data.\n",
      "100%|██████████| 37/37 [00:16<00:00,  2.25it/s]\n",
      "kilosort.run_kilosort: 88532 spikes extracted in  17.11s; total  37.75s\n",
      "kilosort.run_kilosort:  \n",
      "kilosort.run_kilosort: First clustering\n",
      "kilosort.run_kilosort: ----------------------------------------\n",
      " 25%|██▌       | 2/8 [00:02<00:08,  1.37s/it]e:\\Kevin\\Anaconda\\kilosort\\lib\\site-packages\\scipy\\sparse\\_index.py:151: SparseEfficiencyWarning: Changing the sparsity structure of a csr_matrix is expensive. lil_matrix is more efficient.\n",
      "  self._set_arrayXarray(i, j, x)\n",
      "100%|██████████| 8/8 [00:15<00:00,  1.96s/it]\n",
      "kilosort.run_kilosort: 151 clusters found, in  15.90s; total  53.65s\n",
      "kilosort.run_kilosort:  \n",
      "kilosort.run_kilosort: Extracting spikes using cluster waveforms\n",
      "kilosort.run_kilosort: ----------------------------------------\n",
      "100%|██████████| 37/37 [00:11<00:00,  3.28it/s]\n",
      "kilosort.run_kilosort: 32459 spikes extracted in  11.31s; total  64.97s\n",
      "kilosort.run_kilosort:  \n",
      "kilosort.run_kilosort: Final clustering\n",
      "kilosort.run_kilosort: ----------------------------------------\n",
      "100%|██████████| 8/8 [00:10<00:00,  1.32s/it]\n",
      "kilosort.run_kilosort: 71 clusters found, in  10.59s; total  75.56s\n",
      "kilosort.run_kilosort:  \n",
      "kilosort.run_kilosort: Merging clusters\n",
      "kilosort.run_kilosort: ----------------------------------------\n",
      "kilosort.run_kilosort: 71 units found, in  0.05s; total  75.61s\n",
      "kilosort.run_kilosort:  \n",
      "kilosort.run_kilosort: Saving to phy and computing refractory periods\n",
      "kilosort.run_kilosort: ----------------------------------------\n",
      "kilosort.run_kilosort: 3 units found with good refractory periods\n",
      "kilosort.run_kilosort: Total runtime: 76.42s = 00:01:16 h:m:s\n",
      "kilosort.run_kilosort: Sorting output saved in: \\\\striatum\\shared\\BrainPatch\\20241002\\lateral\\Crimson__2024-10-02_12-21-01__20mA_2ms_400um\\kilosort4_unfiltered.\n"
     ]
    }
   ],
   "source": [
    "settings = {'filename':filename,\n",
    "            'probe_name':'Z:\\\\BrainPatch\\\\20241002\\\\64-4shank-poly-brainpatch-chanMap.mat',\n",
    "            'n_chan_bin':64,\n",
    "            'nearest_chans':1}\n",
    "\n",
    "kilosort.run_kilosort(settings, file_object= sig_eraasr.astype(np.float32), data_dtype='float32', results_dir=os.path.join(directory, 'kilosort4_unfiltered'))\n",
    "\n",
    "# load spike times, template shape, and channel number\n",
    "spike_times = np.load(os.path.join(directory, 'kilosort4_unfiltered\\\\spike_times.npy'))\n",
    "channel_map = np.load(os.path.join(directory, 'kilosort4_unfiltered\\\\channel_map.npy'))\n",
    "templates = np.load(os.path.join(directory, 'kilosort4_unfiltered\\\\templates.npy'))\n",
    "spike_templates = np.load(os.path.join(directory, 'kilosort4_unfiltered\\\\spike_templates.npy'))\n",
    "\n",
    "# \"best channel\" for each template -- based on the greatest variance\n",
    "channel_best = (templates**2).sum(axis=1).argmax(axis=-1)"
   ]
  },
  {
   "cell_type": "code",
   "execution_count": 4,
   "metadata": {},
   "outputs": [],
   "source": [
    "num_matches = np.empty_like(channel_best)\n",
    "\n",
    "aligned_unfiltered = []\n",
    "for i_channel, channel in enumerate(channel_best):\n",
    "    # find the times of a particular template\n",
    "    same_template = spike_templates == i_channel\n",
    "    same_ts = spike_times[same_template]\n",
    "\n",
    "    # find the closest timestamp \n",
    "    aligned_unfiltered.extend([np.abs(spike_dict[channel]['sample_no'] - ts).min() for ts in same_ts])\n"
   ]
  },
  {
   "cell_type": "markdown",
   "metadata": {},
   "source": [
    "kilosort on filtered data"
   ]
  },
  {
   "cell_type": "code",
   "execution_count": 5,
   "metadata": {},
   "outputs": [],
   "source": [
    "# sos = signal.butter(8, [300, 6000], 'bandpass', output='sos', fs=30000)\n",
    "# sig_filter = signal.sosfiltfilt(sos, sig_eraasr, axis=0)\n",
    "\n",
    "# filename = os.path.join(directory, 'sig_filter.npy')\n",
    "# np.save(filename, sig_filter)\n",
    "\n",
    "# settings = {'filename':filename,\n",
    "#             'probe_name':'Z:\\\\BrainPatch\\\\20241002\\\\64-4shank-poly-brainpatch-chanMap.mat',\n",
    "#             'n_chan_bin':64,\n",
    "#             'nearest_chans':1}\n",
    "\n",
    "# kilosort.run_kilosort(settings, file_object= sig_filter.astype(np.float32), data_dtype='float32', results_dir=os.path.join(directory, 'kilosort4_filter'))\n",
    "\n",
    "# load spike times, template shape, and channel number\n",
    "spike_times = np.load(os.path.join(directory, 'kilosort4_filter\\\\spike_times.npy'))\n",
    "channel_map = np.load(os.path.join(directory, 'kilosort4_filter\\\\channel_map.npy'))\n",
    "templates = np.load(os.path.join(directory, 'kilosort4_filter\\\\templates.npy'))\n",
    "spike_templates = np.load(os.path.join(directory, 'kilosort4_filter\\\\spike_templates.npy'))\n",
    "\n",
    "# \"best channel\" for each template -- based on the greatest variance\n",
    "channel_best = (templates**2).sum(axis=1).argmax(axis=-1)"
   ]
  },
  {
   "cell_type": "code",
   "execution_count": 6,
   "metadata": {},
   "outputs": [],
   "source": [
    "num_matches = np.empty_like(channel_best)\n",
    "\n",
    "aligned_filtered = []\n",
    "for i_channel, channel in enumerate(channel_best):\n",
    "    # find the times of a particular template\n",
    "    same_template = spike_templates == i_channel\n",
    "    same_ts = spike_times[same_template]\n",
    "\n",
    "    # find the closest timestamp \n",
    "    aligned_filtered.extend([np.abs(spike_dict[channel]['sample_no'] - ts).min() for ts in same_ts])\n"
   ]
  },
  {
   "cell_type": "markdown",
   "metadata": {},
   "source": [
    "Plot the filtered and unfiltered"
   ]
  },
  {
   "cell_type": "code",
   "execution_count": 7,
   "metadata": {},
   "outputs": [],
   "source": [
    "fig,ax = plt.subplots()\n",
    "\n",
    "ax.hist(aligned_unfiltered, bins=np.arange(50), label='Unfiltered', histtype='step')\n",
    "ax.hist(aligned_filtered, bins=np.arange(50), label='Filtered', histtype='step')\n",
    "\n",
    "ax.legend()\n",
    "ax.set_xlabel('Closest spike on channel (samples)')\n",
    "ax.set_ylabel('Number of spikes')\n",
    "\n",
    "for spine in ax.spines:\n",
    "    # ax.spines[spine].set(['visible',False])\n",
    "    ax.spines[spine].set_visible(False)"
   ]
  },
  {
   "cell_type": "code",
   "execution_count": 10,
   "metadata": {},
   "outputs": [
    {
     "data": {
      "text/plain": [
       "31954"
      ]
     },
     "execution_count": 10,
     "metadata": {},
     "output_type": "execute_result"
    }
   ],
   "source": [
    "len(aligned_unfiltered)"
   ]
  }
 ],
 "metadata": {
  "kernelspec": {
   "display_name": "kilosort",
   "language": "python",
   "name": "python3"
  },
  "language_info": {
   "codemirror_mode": {
    "name": "ipython",
    "version": 3
   },
   "file_extension": ".py",
   "mimetype": "text/x-python",
   "name": "python",
   "nbconvert_exporter": "python",
   "pygments_lexer": "ipython3",
   "version": "3.9.19"
  }
 },
 "nbformat": 4,
 "nbformat_minor": 2
}
