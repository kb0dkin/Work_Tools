{
 "cells": [
  {
   "cell_type": "markdown",
   "metadata": {},
   "source": [
    "# Crimson Responses - kilosort\n",
    "\n",
    "basically the same thing as the other crimson response stuff, except we're working with kilosort stuff"
   ]
  },
  {
   "cell_type": "code",
   "execution_count": null,
   "metadata": {},
   "outputs": [],
   "source": [
    "from matplotlib import pyplot as plt\n",
    "import numpy as np\n",
    "import pandas as pd\n",
    "from scipy import signal\n",
    "from sklearn.decomposition import PCA\n",
    "import os, glob, re\n",
    "import openephys_utils \n",
    "from tqdm.notebook import tqdm\n",
    "import kilosort\n",
    "\n",
    "%matplotlib qt\n"
   ]
  },
  {
   "cell_type": "markdown",
   "metadata": {},
   "source": [
    "Get firing rates from kilosort data -- since this will need to work differently from the version I did with the \"spike dictionary\""
   ]
  },
  {
   "cell_type": "code",
   "execution_count": null,
   "metadata": {},
   "outputs": [],
   "source": [
    "def kilosort_FR(kilosort_dir:str, bin_sec:float = .01, fs:int = 30000):\n",
    "    '''\n",
    "    Return the firing rates for each template\n",
    "\n",
    "    inputs:\n",
    "        kilosort_dir:str        - directory where the kilosort results were stored\n",
    "        bin_sec:float           - bin length in seconds [.01]\n",
    "        fs:int                  - sampling rate [30000]\n",
    "\n",
    "    outputs:\n",
    "        firing_rates:np.array   - TxN array of firing rates of N templates\n",
    "    '''\n",
    "    spike_times = np.load(os.path.join(kilosort_dir, 'spike_times.npy'))\n",
    "    spike_templates = np.load(os.path.join(kilosort_dir, 'spike_templates.npy'))\n",
    "\n",
    "    bin_times = np.arange(np.ceil(spike_times[-1]/fs), step=bin_sec)\n",
    "    firing_rates = np.ndarray((spike_templates.unique().shape[0], bin_times.shape[0]))\n",
    "    for template in np.unique(spike_templates):\n",
    "        firing_rates[:,template] = np.hist(spike_times[spike_templates == template], bins=bin_times)\n",
    "\n",
    "    return firing_rates, bin_times[:-1]\n",
    "\n",
    "\n",
    "\n",
    "\n",
    "    "
   ]
  },
  {
   "cell_type": "code",
   "execution_count": null,
   "metadata": {},
   "outputs": [],
   "source": [
    "# np.arange(np.ceil(spike_times[-1]/(30000)), step=.01)\n",
    "aa = np.arange(np.ceil(spike_times[-1]/(30000*.01)))\n",
    "bb = np.arange(np.ceil(spike_times[-1]/(30000)), step=.01)\n",
    "cc = np.arange(np.ceil(spike_times[-1]), step=(30000*.01))\n",
    "\n",
    "print(f'aa:{aa.shape}, bb:{bb.shape}, cc:{cc.shape}')\n",
    "print(f'aa:{aa[-1]}, bb:{bb[-1]}, cc:{cc[-1]}')"
   ]
  },
  {
   "cell_type": "markdown",
   "metadata": {},
   "source": [
    "batch run through kilosort on filtered data\n",
    "\n",
    "october 2nd"
   ]
  },
  {
   "cell_type": "code",
   "execution_count": null,
   "metadata": {},
   "outputs": [],
   "source": [
    "# get a list of directories\n",
    "base_dir = 'Z:\\\\BrainPatch\\\\20241002\\\\lateral\\\\'\n",
    "directories = [directory for directory in os.listdir(base_dir) if '2ms' in directory]\n",
    "\n",
    "# probe and settings\n",
    "probe_name = 'Z:\\\\BrainPatch\\\\20241002\\\\64-4shank-poly-brainpatch-chanMap.mat'\n",
    "settings = {'probe_name':probe_name,\n",
    "            'n_chan_bin':64,\n",
    "            'nearest_chans':1}\n",
    "\n",
    "# sos for a BPF\n",
    "filtered = True # should we filter the data?\n",
    "sos = signal.butter(N = 8, Wn = [300, 6000], btype='bandpass', fs=30000, output='sos') if filtered else None\n",
    "\n",
    "# for directory in tqdm(directories):\n",
    "for i_directory,directory in enumerate(directories):\n",
    "    if i_directory > 0:\n",
    "        continue\n",
    "\n",
    "    # pull out the current and distance\n",
    "    current = int(re.search('(\\d{1,2})mA', directory)[1])\n",
    "    distance = int(re.search('(\\d{3,4})um', directory)[1])\n",
    "\n",
    "    # print it all out\n",
    "    print(f'{current}mA {distance}mm')\n",
    "\n",
    "    # get sig_eraasr if it doesn't exist already\n",
    "    if not os.path.exists(os.path.join(directory, 'sig_eraasr.npy')):\n",
    "        sig, timestamps, stims, stim_ts = openephys_utils.open_sig_stims(os.path.join(base_dir,directory))\n",
    "\n",
    "        # clean, pull out threshold crossings, get firing rates\n",
    "        sig_eraasr = openephys_utils.ERAASR(sig, save_dir=directory)\n",
    "        # spike_dict = openephys_utils.threshold_crossings(sig_eraasr, multi_rejection=None, low_cutoff=-20)\n",
    "        # fr, bins = openephys_utils.calc_FR(spike_dict, max_samp = sig_eraasr.shape[0], min_samp = 0, bin_sec = bin_sec)\n",
    "    else:\n",
    "        sig_eraasr = np.load(os.path.join(directory, 'sig_eraasr.npy'))\n",
    "\n",
    "    # filter at 300, 6000\n",
    "    if filtered:\n",
    "        sig_filter = signal.sosfiltfilt(sos, sig_eraasr, axis=0)\n",
    "        np.save(os.path.join(directory, 'sig_filter.npy'))\n",
    "\n",
    "\n",
    "    # kilosort\n",
    "    if not filtered:\n",
    "        settings['filename'] = os.path.join(directory,'sig_eraasr.npy')\n",
    "        print('kilosort on unfiltered')\n",
    "        results_dir=os.path.join(directory, 'kilosort4_unfiltered')\n",
    "        kilosort.run_kilosort(settings, file_object=sig_eraasr.astype(np.float32), data_dtype='float32', results_dir=results_dir)\n",
    "    else:\n",
    "        settings['filename'] = os.path.join(directory,'sig_filter.npy')\n",
    "        print('kilosort on filtered')\n",
    "        results_dir=os.path.join(directory, 'kilosort4_filtered')\n",
    "        kilosort.run_kilosort(settings, file_object=sig_eraasr.astype(np.float32), data_dtype='float32', results_dir=results_dir)\n",
    "\n",
    "    # firing rates from kilosort\n",
    "    firing_rate, bins = kilosort_FR(results_dir)\n",
    "    \n",
    "\n"
   ]
  },
  {
   "cell_type": "code",
   "execution_count": null,
   "metadata": {},
   "outputs": [],
   "source": [
    "spike_times = np.load('Z:\\\\BrainPatch\\\\20241002\\\\lateral\\\\Crimson__2024-10-02_12-21-01__20mA_2ms_400um\\\\kilosort4_filter\\\\spike_times.npy')\n",
    "spike_templates = np.load('Z:\\\\BrainPatch\\\\20241002\\\\lateral\\\\Crimson__2024-10-02_12-21-01__20mA_2ms_400um\\\\kilosort4_filter\\\\spike_templates.npy')"
   ]
  }
 ],
 "metadata": {
  "kernelspec": {
   "display_name": "kilosort",
   "language": "python",
   "name": "python3"
  },
  "language_info": {
   "codemirror_mode": {
    "name": "ipython",
    "version": 3
   },
   "file_extension": ".py",
   "mimetype": "text/x-python",
   "name": "python",
   "nbconvert_exporter": "python",
   "pygments_lexer": "ipython3",
   "version": "3.9.19"
  }
 },
 "nbformat": 4,
 "nbformat_minor": 2
}
