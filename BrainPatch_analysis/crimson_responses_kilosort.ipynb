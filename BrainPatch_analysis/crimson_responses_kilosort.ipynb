{
 "cells": [
  {
   "cell_type": "markdown",
   "metadata": {},
   "source": [
    "# Crimson Responses - kilosort\n",
    "\n",
    "basically the same thing as the other crimson response stuff, except we're working with kilosort stuff"
   ]
  },
  {
   "cell_type": "code",
   "execution_count": 2,
   "metadata": {},
   "outputs": [],
   "source": [
    "from matplotlib import pyplot as plt\n",
    "import numpy as np\n",
    "import pandas as pd\n",
    "from scipy import signal\n",
    "from sklearn.decomposition import PCA\n",
    "import os, glob, re\n",
    "import openephys_utils \n",
    "from tqdm.notebook import tqdm\n",
    "import kilosort\n",
    "\n",
    "%matplotlib qt\n"
   ]
  },
  {
   "cell_type": "markdown",
   "metadata": {},
   "source": [
    "batch run through kilosort on filtered data\n",
    "\n",
    "october 2nd"
   ]
  },
  {
   "cell_type": "code",
   "execution_count": null,
   "metadata": {},
   "outputs": [],
   "source": [
    "# get a list of directories\n",
    "base_dir = 'Z:\\\\BrainPatch\\\\20241002\\\\lateral\\\\'\n",
    "directories = [directory for directory in os.listdir() if '2ms' in directory]\n",
    "\n",
    "# probe and settings\n",
    "probe_name = 'Z:\\\\BrainPatch\\\\20241002\\\\64-4shank-poly-brainpatch-chanMap.mat'\n",
    "settings = {'probe_name':probe_name,\n",
    "            'n_chan_bin':64,\n",
    "            'nearest_chans':1}\n",
    "\n",
    "# sos for a BPF\n",
    "sos = signal.butter(N = 8, Wn = [300, 6000], btype='bandpass', fs=30000, output='sos')\n",
    "\n",
    "for directory in tqdm(directories):\n",
    "    # pull out the current and distance\n",
    "    current = int(re.search('(\\d{1,2})mA', directory)[1])\n",
    "    distance = int(re.search('(\\d{3,4})um', directory)[1])\n",
    "\n",
    "    # print it all out\n",
    "    print(f'{current}mA {distance}mm')\n",
    "\n",
    "    # get sig_eraasr if it doesn't exist already\n",
    "    if not os.path.exists(directory, 'sig_eraasr.npy'):\n",
    "        sig, timestamps, stims, stim_ts = openephys_utils.open_sig_stims(os.path.join(base_dir,directory))\n",
    "\n",
    "        # clean, pull out threshold crossings, get firing rates\n",
    "        sig_eraasr = openephys_utils.ERAASR(sig, save_dir=directory)\n",
    "        # spike_dict = openephys_utils.threshold_crossings(sig_eraasr, multi_rejection=None, low_cutoff=-20)\n",
    "        # fr, bins = openephys_utils.calc_FR(spike_dict, max_samp = sig_eraasr.shape[0], min_samp = 0, bin_sec = bin_sec)\n",
    "    else:\n",
    "        sig_eraasr = np.load(os.path.join(directory, 'sig_eraasr.npy'))\n",
    "\n",
    "    # filter at 300, 6000\n",
    "    sig_filter = signal.sosfiltfilt(sos, sig_eraasr, axis=0)\n",
    "    np.save(os.path.join(directory, 'sig_filter.npy'))\n",
    "\n",
    "\n",
    "    # kilosort\n",
    "    settings['filename'] = os.path.join(directory,'sig_eraasr.npy')\n",
    "    print('kilosort on unfiltered')\n",
    "    kilosort.run_kilosort(settings, file_object=sig_eraasr.astype(np.float32), data_dtype='float32', results_dir=os.path.join(directory, 'kilosort4_unfiltered'))\n",
    "    settings['filename'] = os.path.join(directory,'sig_filter.npy')\n",
    "    print('kilosort on filtered')\n",
    "    kilosort.run_kilosort(settings, file_object=sig_eraasr.astype(np.float32), data_dtype='float32', results_dir=os.path.join(directory, 'kilosort4_filtered'))\n",
    "\n",
    "\n",
    "    # spike_times = np.load(os.path.join(directory, 'sig_'))"
   ]
  }
 ],
 "metadata": {
  "kernelspec": {
   "display_name": "kilosort",
   "language": "python",
   "name": "python3"
  },
  "language_info": {
   "codemirror_mode": {
    "name": "ipython",
    "version": 3
   },
   "file_extension": ".py",
   "mimetype": "text/x-python",
   "name": "python",
   "nbconvert_exporter": "python",
   "pygments_lexer": "ipython3",
   "version": "3.9.19"
  }
 },
 "nbformat": 4,
 "nbformat_minor": 2
}
