{
 "cells": [
  {
   "cell_type": "markdown",
   "metadata": {},
   "source": [
    "# Huang analysis code\n",
    "\n",
    "Experimental confirmation of theoretical light propogation through the cortex. Using data recorded by MZW"
   ]
  },
  {
   "cell_type": "code",
   "execution_count": 1,
   "metadata": {},
   "outputs": [],
   "source": [
    "import numpy as np\n",
    "from matplotlib import pyplot as plt\n",
    "import os, glob, re\n",
    "from open_ephys.analysis import Session\n",
    "\n",
    "\n",
    "import openephys_utils\n",
    "%matplotlib qt"
   ]
  },
  {
   "cell_type": "markdown",
   "metadata": {},
   "source": [
    "Collect the files that we have"
   ]
  },
  {
   "cell_type": "code",
   "execution_count": 2,
   "metadata": {},
   "outputs": [
    {
     "name": "stdout",
     "output_type": "stream",
     "text": [
      "Found 30 recordings in Z:\\Kevin\\Huang\\\n",
      "11 unique current values and 6 unique distances\n"
     ]
    },
    {
     "data": {
      "application/vnd.jupyter.widget-view+json": {
       "model_id": "48c1cd7d8f524f51821acaafeacfbf9a",
       "version_major": 2,
       "version_minor": 0
      },
      "text/plain": [
       "  0%|          | 0/30 [00:00<?, ?it/s]"
      ]
     },
     "metadata": {},
     "output_type": "display_data"
    },
    {
     "name": "stdout",
     "output_type": "stream",
     "text": [
      "loading previously converted file Z:\\Kevin\\Huang\\Crimson__2024-10-10_19-33-47_1mm_02mA\\raw_signal.pkl\n",
      "Crimson__2024-10-10_19-33-47_1mm_02mA: (379, 2)\n",
      "loading previously converted file Z:\\Kevin\\Huang\\Crimson__2024-10-10_19-35-16_1mm_1mA\\raw_signal.pkl\n"
     ]
    },
    {
     "name": "stderr",
     "output_type": "stream",
     "text": [
      "c:\\Users\\Kevin\\Documents\\git\\Work_Tools\\BrainPatch_analysis\\openephys_utils.py:528: RuntimeWarning: Mean of empty slice\n",
      "  art_means = np.nanmean(sig[stim[0]+4:stim[1]-4]) # center the during-stimulation to 0\n"
     ]
    },
    {
     "name": "stdout",
     "output_type": "stream",
     "text": [
      "Crimson__2024-10-10_19-35-16_1mm_1mA: (60, 2)\n",
      "loading previously converted file Z:\\Kevin\\Huang\\Crimson__2024-10-10_19-37-10_1mm_5mA\\raw_signal.pkl\n",
      "Crimson__2024-10-10_19-37-10_1mm_5mA: (60, 2)\n",
      "loading previously converted file Z:\\Kevin\\Huang\\Crimson__2024-10-10_19-38-38_1mm_25mA\\raw_signal.pkl\n",
      "Crimson__2024-10-10_19-38-38_1mm_25mA: (60, 2)\n",
      "loading previously converted file Z:\\Kevin\\Huang\\Crimson__2024-10-10_19-42-41_1.5mm_02mA\\raw_signal.pkl\n",
      "Crimson__2024-10-10_19-42-41_1.5mm_02mA: (336, 2)\n",
      "loading previously converted file Z:\\Kevin\\Huang\\Crimson__2024-10-10_19-44-22_1.5mm_05mA\\raw_signal.pkl\n",
      "Crimson__2024-10-10_19-44-22_1.5mm_05mA: (60, 2)\n",
      "loading previously converted file Z:\\Kevin\\Huang\\Crimson__2024-10-10_19-45-53_1.5mm_03mA\\raw_signal.pkl\n",
      "Crimson__2024-10-10_19-45-53_1.5mm_03mA: (91, 2)\n",
      "loading previously converted file Z:\\Kevin\\Huang\\Crimson__2024-10-10_19-47-19_1.5mm_04mA\\raw_signal.pkl\n",
      "Crimson__2024-10-10_19-47-19_1.5mm_04mA: (65, 2)\n",
      "loading previously converted file Z:\\Kevin\\Huang\\Crimson__2024-10-10_19-50-01_1.5mm_1mA\\raw_signal.pkl\n",
      "Crimson__2024-10-10_19-50-01_1.5mm_1mA: (60, 2)\n",
      "loading previously converted file Z:\\Kevin\\Huang\\Crimson__2024-10-10_19-55-31_15mm_5mA\\raw_signal.pkl\n",
      "Crimson__2024-10-10_19-55-31_15mm_5mA: (60, 2)\n",
      "loading previously converted file Z:\\Kevin\\Huang\\Crimson__2024-10-10_19-57-40_15mm_25mA\\raw_signal.pkl\n",
      "Crimson__2024-10-10_19-57-40_15mm_25mA: (60, 2)\n",
      "loading previously converted file Z:\\Kevin\\Huang\\Crimson__2024-10-10_20-09-06_25mm_2mA\\raw_signal.pkl\n",
      "Crimson__2024-10-10_20-09-06_25mm_2mA: (60, 2)\n",
      "loading previously converted file Z:\\Kevin\\Huang\\Crimson__2024-10-10_20-10-47_25mm_3mA\\raw_signal.pkl\n",
      "Crimson__2024-10-10_20-10-47_25mm_3mA: (59, 2)\n",
      "loading previously converted file Z:\\Kevin\\Huang\\Crimson__2024-10-10_20-12-08_25mm_4mA\\raw_signal.pkl\n",
      "Crimson__2024-10-10_20-12-08_25mm_4mA: (60, 2)\n",
      "loading previously converted file Z:\\Kevin\\Huang\\Crimson__2024-10-10_20-13-37_25mm_02mA\\raw_signal.pkl\n",
      "Crimson__2024-10-10_20-13-37_25mm_02mA: (1, 2)\n",
      "loading previously converted file Z:\\Kevin\\Huang\\Crimson__2024-10-10_20-14-57_25mm_1mA\\raw_signal.pkl\n"
     ]
    },
    {
     "name": "stderr",
     "output_type": "stream",
     "text": [
      "c:\\Users\\Kevin\\Documents\\git\\Work_Tools\\BrainPatch_analysis\\openephys_utils.py:533: RuntimeWarning: Mean of empty slice\n",
      "  means = np.nanmean(responses, axis=0)\n"
     ]
    },
    {
     "name": "stdout",
     "output_type": "stream",
     "text": [
      "Crimson__2024-10-10_20-14-57_25mm_1mA: (60, 2)\n",
      "loading previously converted file Z:\\Kevin\\Huang\\Crimson__2024-10-10_20-16-19_25mm_5mA\\raw_signal.pkl\n",
      "Crimson__2024-10-10_20-16-19_25mm_5mA: (60, 2)\n",
      "loading previously converted file Z:\\Kevin\\Huang\\Crimson__2024-10-10_20-17-57_25mm_25mA\\raw_signal.pkl\n",
      "Crimson__2024-10-10_20-17-57_25mm_25mA: (60, 2)\n",
      "loading previously converted file Z:\\Kevin\\Huang\\Crimson__2024-10-10_20-20-55_35mm_02mA\\raw_signal.pkl\n",
      "Crimson__2024-10-10_20-20-55_35mm_02mA: (480, 2)\n",
      "loading previously converted file Z:\\Kevin\\Huang\\Crimson__2024-10-10_20-22-34_35mm_1mA\\raw_signal.pkl\n",
      "Crimson__2024-10-10_20-22-34_35mm_1mA: (60, 2)\n",
      "loading previously converted file Z:\\Kevin\\Huang\\Crimson__2024-10-10_20-25-33_35mm_5mA\\raw_signal.pkl\n",
      "Crimson__2024-10-10_20-25-33_35mm_5mA: (60, 2)\n",
      "loading previously converted file Z:\\Kevin\\Huang\\Crimson__2024-10-10_20-27-08_35mm_25mA\\raw_signal.pkl\n",
      "Crimson__2024-10-10_20-27-08_35mm_25mA: (60, 2)\n",
      "loading previously converted file Z:\\Kevin\\Huang\\Crimson__2024-10-10_20-28-39_35mm_10mA\\raw_signal.pkl\n",
      "Crimson__2024-10-10_20-28-39_35mm_10mA: (60, 2)\n",
      "loading previously converted file Z:\\Kevin\\Huang\\Crimson__2024-10-10_20-30-12_35mm_8mA\\raw_signal.pkl\n",
      "Crimson__2024-10-10_20-30-12_35mm_8mA: (60, 2)\n",
      "loading previously converted file Z:\\Kevin\\Huang\\Crimson__2024-10-10_20-31-32_35mm_6mA\\raw_signal.pkl\n",
      "Crimson__2024-10-10_20-31-32_35mm_6mA: (60, 2)\n",
      "loading previously converted file Z:\\Kevin\\Huang\\Crimson__2024-10-10_20-32-51_35mm_7mA\\raw_signal.pkl\n",
      "Crimson__2024-10-10_20-32-51_35mm_7mA: (60, 2)\n",
      "loading previously converted file Z:\\Kevin\\Huang\\Crimson__2024-10-10_20-34-09_35mm_9mA\\raw_signal.pkl\n",
      "Crimson__2024-10-10_20-34-09_35mm_9mA: (60, 2)\n",
      "loading previously converted file Z:\\Kevin\\Huang\\Crimson__2024-10-10_20-37-53_45mm_02mA\\raw_signal.pkl\n",
      "Crimson__2024-10-10_20-37-53_45mm_02mA: (407, 2)\n",
      "loading previously converted file Z:\\Kevin\\Huang\\Crimson__2024-10-10_20-39-18_45mm_1mA\\raw_signal.pkl\n",
      "Crimson__2024-10-10_20-39-18_45mm_1mA: (60, 2)\n",
      "loading previously converted file Z:\\Kevin\\Huang\\Crimson__2024-10-10_20-40-42_45mm_5mA\\raw_signal.pkl\n",
      "Crimson__2024-10-10_20-40-42_45mm_5mA: (60, 2)\n"
     ]
    }
   ],
   "source": [
    "base_dir = 'Z:\\\\Kevin\\\\Huang\\\\'\n",
    "\n",
    "openephys_utils.LFP_stim_bulk(base_dir, reconvert=False)"
   ]
  },
  {
   "cell_type": "markdown",
   "metadata": {},
   "source": [
    "Loop through each directory"
   ]
  },
  {
   "cell_type": "code",
   "execution_count": null,
   "metadata": {},
   "outputs": [],
   "source": [
    "base_dir = 'Z:\\\\Kevin\\\\Huang'\n",
    "# directory = 'Z:\\\\Kevin\\\\Huang\\\\Crimson__2024-10-10_19-44-09_1.5mm_05mA'\n",
    "# directory = 'Z:\\\\Kevin\\\\Huang\\\\Crimson__2024-10-10_19-37-10_1mm_5mA'\n",
    "# directory = 'Z:\\\\Kevin\\\\Huang\\\\Crimson__2024-10-10_19-57-40_15mm_25mA'\n",
    "# directory = 'Z:\\\\Kevin\\\\Huang\\\\Crimson__2024-10-10_19-55-31_15mm_5mA'\n",
    "\n",
    "directory = os.path.join(base_dir, os.listdir(base_dir)[1])\n",
    "\n",
    "sig,timestamps,stims,stim_ts = openephys_utils.open_sig_stims(directory, reconvert=True)\n",
    "# sig,timestamps,stims,stim_ts = openephys_utils.open_sig_stims(directory)\n",
    "\n",
    "# session = Session(directory)\n",
    "\n",
    "# openephys_utils.plot_avg_LFP(sig, stims)\n",
    "# mins,min_samp =  openephys_utils.LFP_responses(sig, stims)\n"
   ]
  },
  {
   "cell_type": "code",
   "execution_count": null,
   "metadata": {},
   "outputs": [],
   "source": [
    "openephys_utils.plot_avg_LFP(sig, stims)"
   ]
  },
  {
   "cell_type": "code",
   "execution_count": null,
   "metadata": {},
   "outputs": [],
   "source": [
    "stims"
   ]
  },
  {
   "cell_type": "code",
   "execution_count": null,
   "metadata": {},
   "outputs": [],
   "source": [
    "session = Session(directory)\n",
    "fig,ax = plt.subplots()\n",
    "\n",
    "ax.plot(session.recordnodes[0].recordings[0].continuous[0].samples[:,64])\n",
    "ax.plot(session.recordnodes[0].recordings[0].continuous[0].samples[:,64] - session.recordnodes[0].recordings[0].continuous[0].samples[:,64].mean())\n",
    "ax.hlines(session.recordnodes[0].recordings[0].continuous[0].samples[:,64].max() * .9, 0, 2.5e6)"
   ]
  },
  {
   "cell_type": "code",
   "execution_count": 3,
   "metadata": {},
   "outputs": [],
   "source": [
    "import pandas as pd\n",
    "\n",
    "pickly = pd.read_pickle(\"Z:\\\\Kevin\\\\Huang\\\\LFP_resp.pkl\")\n",
    "\n",
    "pickly.to_csv(\"Z:\\\\Kevin\\\\Huang\\\\LFP_resp.csv\")"
   ]
  },
  {
   "cell_type": "code",
   "execution_count": 38,
   "metadata": {},
   "outputs": [],
   "source": [
    "import csv"
   ]
  },
  {
   "cell_type": "code",
   "execution_count": 49,
   "metadata": {},
   "outputs": [],
   "source": [
    "ff = plt.gcf()\n",
    "\n",
    "\n",
    "with open('Z:\\\\Kevin\\\\Huang\\\\Avg_Waveform_Data.csv','w') as fid:\n",
    "    csv_writer = csv.writer(fid)\n",
    "    csv_writer.writerow(['Distance','Current','(XY)'])\n",
    "    for i_child, child in enumerate(ff.get_children()):\n",
    "        if type(child) == plt.Axes:\n",
    "            for line in child.lines:\n",
    "                write_list = [re.search('\\d+\\.\\d mm', child.get_title())[0]] +[line.get_label()] + [point for point in zip(line.get_xdata(), line.get_ydata())]\n",
    "                csv_writer.writerow(write_list)\n",
    "                # print(write_list)"
   ]
  },
  {
   "cell_type": "code",
   "execution_count": 46,
   "metadata": {},
   "outputs": [
    {
     "data": {
      "text/plain": [
       "'25.0 mm'"
      ]
     },
     "execution_count": 46,
     "metadata": {},
     "output_type": "execute_result"
    }
   ],
   "source": [
    "# print(f'{line_dict[4].lines[0].get_label()}, {[point for point in zip(line_dict[4].lines[0].get_xdata(), line_dict[4].lines[0].get_ydata())]} ')\n",
    "re.search('(\\d+\\.\\d) mm',line_dict[4].get_title())[0]"
   ]
  }
 ],
 "metadata": {
  "kernelspec": {
   "display_name": "kilosort",
   "language": "python",
   "name": "python3"
  },
  "language_info": {
   "codemirror_mode": {
    "name": "ipython",
    "version": 3
   },
   "file_extension": ".py",
   "mimetype": "text/x-python",
   "name": "python",
   "nbconvert_exporter": "python",
   "pygments_lexer": "ipython3",
   "version": "3.9.19"
  }
 },
 "nbformat": 4,
 "nbformat_minor": 2
}
