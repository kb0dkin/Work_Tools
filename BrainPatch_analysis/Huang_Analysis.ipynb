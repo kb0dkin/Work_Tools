{
 "cells": [
  {
   "cell_type": "markdown",
   "metadata": {},
   "source": [
    "# Huang analysis code\n",
    "\n",
    "Experimental confirmation of theoretical light propogation through the cortex. Using data recorded by MZW"
   ]
  },
  {
   "cell_type": "code",
   "execution_count": 1,
   "metadata": {},
   "outputs": [],
   "source": [
    "import numpy as np\n",
    "from matplotlib import pyplot as plt\n",
    "import os, glob, re\n",
    "from open_ephys.analysis import Session\n",
    "\n",
    "\n",
    "import openephys_utils\n",
    "%matplotlib qt"
   ]
  },
  {
   "cell_type": "markdown",
   "metadata": {},
   "source": [
    "Collect the files that we have"
   ]
  },
  {
   "cell_type": "code",
   "execution_count": 2,
   "metadata": {},
   "outputs": [
    {
     "name": "stdout",
     "output_type": "stream",
     "text": [
      "Found 30 recordings in Z:\\Kevin\\Huang\\\n",
      "11 unique current values and 6 unique distances\n"
     ]
    },
    {
     "data": {
      "application/vnd.jupyter.widget-view+json": {
       "model_id": "348af87c9e464d058c88a32e7eb8583a",
       "version_major": 2,
       "version_minor": 0
      },
      "text/plain": [
       "  0%|          | 0/30 [00:00<?, ?it/s]"
      ]
     },
     "metadata": {},
     "output_type": "display_data"
    },
    {
     "name": "stdout",
     "output_type": "stream",
     "text": [
      "saving data to Z:\\Kevin\\Huang\\Crimson__2024-10-10_19-33-47_1mm_02mA\\raw_signal.pkl\n",
      "Crimson__2024-10-10_19-33-47_1mm_02mA: (60, 2)\n"
     ]
    },
    {
     "name": "stderr",
     "output_type": "stream",
     "text": [
      "c:\\Users\\Kevin\\Documents\\git\\Work_Tools\\BrainPatch_analysis\\openephys_utils.py:422: FutureWarning: The behavior of DataFrame concatenation with empty or all-NA entries is deprecated. In a future version, this will no longer exclude empty or all-NA columns when determining the result dtypes. To retain the old behavior, exclude the relevant entries before the concat operation.\n",
      "  resp_df = pd.concat([resp_df, t_df], ignore_index=True)\n"
     ]
    },
    {
     "name": "stdout",
     "output_type": "stream",
     "text": [
      "saving data to Z:\\Kevin\\Huang\\Crimson__2024-10-10_19-35-16_1mm_1mA\\raw_signal.pkl\n",
      "Crimson__2024-10-10_19-35-16_1mm_1mA: (60, 2)\n",
      "saving data to Z:\\Kevin\\Huang\\Crimson__2024-10-10_19-37-10_1mm_5mA\\raw_signal.pkl\n",
      "Crimson__2024-10-10_19-37-10_1mm_5mA: (61, 2)\n"
     ]
    },
    {
     "name": "stderr",
     "output_type": "stream",
     "text": [
      "c:\\Users\\Kevin\\Documents\\git\\Work_Tools\\BrainPatch_analysis\\openephys_utils.py:473: RuntimeWarning: Mean of empty slice\n",
      "  art_means = np.nanmean(sig[stim[0]+4:stim[1]-4]) # center the during-stimulation to 0\n",
      "e:\\Kevin\\Anaconda\\kilosort\\lib\\site-packages\\numpy\\core\\fromnumeric.py:3504: RuntimeWarning: Mean of empty slice.\n",
      "  return _methods._mean(a, axis=axis, dtype=dtype,\n",
      "e:\\Kevin\\Anaconda\\kilosort\\lib\\site-packages\\numpy\\core\\_methods.py:121: RuntimeWarning: invalid value encountered in divide\n",
      "  ret = um.true_divide(\n"
     ]
    },
    {
     "name": "stdout",
     "output_type": "stream",
     "text": [
      "saving data to Z:\\Kevin\\Huang\\Crimson__2024-10-10_19-38-38_1mm_25mA\\raw_signal.pkl\n",
      "Crimson__2024-10-10_19-38-38_1mm_25mA: (60, 2)\n",
      "saving data to Z:\\Kevin\\Huang\\Crimson__2024-10-10_19-42-41_1.5mm_02mA\\raw_signal.pkl\n",
      "Crimson__2024-10-10_19-42-41_1.5mm_02mA: (60, 2)\n",
      "saving data to Z:\\Kevin\\Huang\\Crimson__2024-10-10_19-44-22_1.5mm_05mA\\raw_signal.pkl\n",
      "Crimson__2024-10-10_19-44-22_1.5mm_05mA: (60, 2)\n",
      "saving data to Z:\\Kevin\\Huang\\Crimson__2024-10-10_19-45-53_1.5mm_03mA\\raw_signal.pkl\n",
      "Crimson__2024-10-10_19-45-53_1.5mm_03mA: (60, 2)\n",
      "saving data to Z:\\Kevin\\Huang\\Crimson__2024-10-10_19-47-19_1.5mm_04mA\\raw_signal.pkl\n",
      "Crimson__2024-10-10_19-47-19_1.5mm_04mA: (60, 2)\n",
      "saving data to Z:\\Kevin\\Huang\\Crimson__2024-10-10_19-50-01_1.5mm_1mA\\raw_signal.pkl\n",
      "Crimson__2024-10-10_19-50-01_1.5mm_1mA: (60, 2)\n",
      "saving data to Z:\\Kevin\\Huang\\Crimson__2024-10-10_19-55-31_15mm_5mA\\raw_signal.pkl\n",
      "Crimson__2024-10-10_19-55-31_15mm_5mA: (60, 2)\n",
      "saving data to Z:\\Kevin\\Huang\\Crimson__2024-10-10_19-57-40_15mm_25mA\\raw_signal.pkl\n",
      "Crimson__2024-10-10_19-57-40_15mm_25mA: (60, 2)\n",
      "saving data to Z:\\Kevin\\Huang\\Crimson__2024-10-10_20-09-06_25mm_2mA\\raw_signal.pkl\n",
      "Crimson__2024-10-10_20-09-06_25mm_2mA: (60, 2)\n",
      "saving data to Z:\\Kevin\\Huang\\Crimson__2024-10-10_20-10-47_25mm_3mA\\raw_signal.pkl\n",
      "Crimson__2024-10-10_20-10-47_25mm_3mA: (59, 2)\n",
      "saving data to Z:\\Kevin\\Huang\\Crimson__2024-10-10_20-12-08_25mm_4mA\\raw_signal.pkl\n",
      "Crimson__2024-10-10_20-12-08_25mm_4mA: (60, 2)\n",
      "saving data to Z:\\Kevin\\Huang\\Crimson__2024-10-10_20-13-37_25mm_02mA\\raw_signal.pkl\n",
      "Crimson__2024-10-10_20-13-37_25mm_02mA: (89, 2)\n"
     ]
    },
    {
     "name": "stderr",
     "output_type": "stream",
     "text": [
      "c:\\Users\\Kevin\\Documents\\git\\Work_Tools\\BrainPatch_analysis\\openephys_utils.py:473: RuntimeWarning: Mean of empty slice\n",
      "  art_means = np.nanmean(sig[stim[0]+4:stim[1]-4]) # center the during-stimulation to 0\n",
      "e:\\Kevin\\Anaconda\\kilosort\\lib\\site-packages\\numpy\\core\\fromnumeric.py:3504: RuntimeWarning: Mean of empty slice.\n",
      "  return _methods._mean(a, axis=axis, dtype=dtype,\n",
      "e:\\Kevin\\Anaconda\\kilosort\\lib\\site-packages\\numpy\\core\\_methods.py:121: RuntimeWarning: invalid value encountered in divide\n",
      "  ret = um.true_divide(\n"
     ]
    },
    {
     "name": "stdout",
     "output_type": "stream",
     "text": [
      "saving data to Z:\\Kevin\\Huang\\Crimson__2024-10-10_20-14-57_25mm_1mA\\raw_signal.pkl\n",
      "Crimson__2024-10-10_20-14-57_25mm_1mA: (61, 2)\n"
     ]
    },
    {
     "name": "stderr",
     "output_type": "stream",
     "text": [
      "c:\\Users\\Kevin\\Documents\\git\\Work_Tools\\BrainPatch_analysis\\openephys_utils.py:473: RuntimeWarning: Mean of empty slice\n",
      "  art_means = np.nanmean(sig[stim[0]+4:stim[1]-4]) # center the during-stimulation to 0\n",
      "e:\\Kevin\\Anaconda\\kilosort\\lib\\site-packages\\numpy\\core\\fromnumeric.py:3504: RuntimeWarning: Mean of empty slice.\n",
      "  return _methods._mean(a, axis=axis, dtype=dtype,\n",
      "e:\\Kevin\\Anaconda\\kilosort\\lib\\site-packages\\numpy\\core\\_methods.py:121: RuntimeWarning: invalid value encountered in divide\n",
      "  ret = um.true_divide(\n"
     ]
    },
    {
     "name": "stdout",
     "output_type": "stream",
     "text": [
      "saving data to Z:\\Kevin\\Huang\\Crimson__2024-10-10_20-16-19_25mm_5mA\\raw_signal.pkl\n",
      "Crimson__2024-10-10_20-16-19_25mm_5mA: (60, 2)\n",
      "saving data to Z:\\Kevin\\Huang\\Crimson__2024-10-10_20-17-57_25mm_25mA\\raw_signal.pkl\n",
      "Crimson__2024-10-10_20-17-57_25mm_25mA: (60, 2)\n",
      "saving data to Z:\\Kevin\\Huang\\Crimson__2024-10-10_20-20-55_35mm_02mA\\raw_signal.pkl\n",
      "Crimson__2024-10-10_20-20-55_35mm_02mA: (60, 2)\n",
      "saving data to Z:\\Kevin\\Huang\\Crimson__2024-10-10_20-22-34_35mm_1mA\\raw_signal.pkl\n",
      "Crimson__2024-10-10_20-22-34_35mm_1mA: (60, 2)\n",
      "saving data to Z:\\Kevin\\Huang\\Crimson__2024-10-10_20-25-33_35mm_5mA\\raw_signal.pkl\n",
      "Crimson__2024-10-10_20-25-33_35mm_5mA: (60, 2)\n",
      "saving data to Z:\\Kevin\\Huang\\Crimson__2024-10-10_20-27-08_35mm_25mA\\raw_signal.pkl\n",
      "Crimson__2024-10-10_20-27-08_35mm_25mA: (60, 2)\n",
      "saving data to Z:\\Kevin\\Huang\\Crimson__2024-10-10_20-28-39_35mm_10mA\\raw_signal.pkl\n",
      "Crimson__2024-10-10_20-28-39_35mm_10mA: (322, 2)\n"
     ]
    },
    {
     "name": "stderr",
     "output_type": "stream",
     "text": [
      "c:\\Users\\Kevin\\Documents\\git\\Work_Tools\\BrainPatch_analysis\\openephys_utils.py:473: RuntimeWarning: Mean of empty slice\n",
      "  art_means = np.nanmean(sig[stim[0]+4:stim[1]-4]) # center the during-stimulation to 0\n",
      "e:\\Kevin\\Anaconda\\kilosort\\lib\\site-packages\\numpy\\core\\fromnumeric.py:3504: RuntimeWarning: Mean of empty slice.\n",
      "  return _methods._mean(a, axis=axis, dtype=dtype,\n",
      "e:\\Kevin\\Anaconda\\kilosort\\lib\\site-packages\\numpy\\core\\_methods.py:121: RuntimeWarning: invalid value encountered in divide\n",
      "  ret = um.true_divide(\n"
     ]
    },
    {
     "name": "stdout",
     "output_type": "stream",
     "text": [
      "saving data to Z:\\Kevin\\Huang\\Crimson__2024-10-10_20-30-12_35mm_8mA\\raw_signal.pkl\n",
      "Crimson__2024-10-10_20-30-12_35mm_8mA: (414, 2)\n"
     ]
    },
    {
     "name": "stderr",
     "output_type": "stream",
     "text": [
      "c:\\Users\\Kevin\\Documents\\git\\Work_Tools\\BrainPatch_analysis\\openephys_utils.py:473: RuntimeWarning: Mean of empty slice\n",
      "  art_means = np.nanmean(sig[stim[0]+4:stim[1]-4]) # center the during-stimulation to 0\n",
      "e:\\Kevin\\Anaconda\\kilosort\\lib\\site-packages\\numpy\\core\\fromnumeric.py:3504: RuntimeWarning: Mean of empty slice.\n",
      "  return _methods._mean(a, axis=axis, dtype=dtype,\n",
      "e:\\Kevin\\Anaconda\\kilosort\\lib\\site-packages\\numpy\\core\\_methods.py:121: RuntimeWarning: invalid value encountered in divide\n",
      "  ret = um.true_divide(\n"
     ]
    },
    {
     "name": "stdout",
     "output_type": "stream",
     "text": [
      "saving data to Z:\\Kevin\\Huang\\Crimson__2024-10-10_20-31-32_35mm_6mA\\raw_signal.pkl\n",
      "Crimson__2024-10-10_20-31-32_35mm_6mA: (226, 2)\n"
     ]
    },
    {
     "name": "stderr",
     "output_type": "stream",
     "text": [
      "c:\\Users\\Kevin\\Documents\\git\\Work_Tools\\BrainPatch_analysis\\openephys_utils.py:473: RuntimeWarning: Mean of empty slice\n",
      "  art_means = np.nanmean(sig[stim[0]+4:stim[1]-4]) # center the during-stimulation to 0\n",
      "e:\\Kevin\\Anaconda\\kilosort\\lib\\site-packages\\numpy\\core\\fromnumeric.py:3504: RuntimeWarning: Mean of empty slice.\n",
      "  return _methods._mean(a, axis=axis, dtype=dtype,\n",
      "e:\\Kevin\\Anaconda\\kilosort\\lib\\site-packages\\numpy\\core\\_methods.py:121: RuntimeWarning: invalid value encountered in divide\n",
      "  ret = um.true_divide(\n"
     ]
    },
    {
     "name": "stdout",
     "output_type": "stream",
     "text": [
      "saving data to Z:\\Kevin\\Huang\\Crimson__2024-10-10_20-32-51_35mm_7mA\\raw_signal.pkl\n",
      "Crimson__2024-10-10_20-32-51_35mm_7mA: (202, 2)\n"
     ]
    },
    {
     "name": "stderr",
     "output_type": "stream",
     "text": [
      "c:\\Users\\Kevin\\Documents\\git\\Work_Tools\\BrainPatch_analysis\\openephys_utils.py:473: RuntimeWarning: Mean of empty slice\n",
      "  art_means = np.nanmean(sig[stim[0]+4:stim[1]-4]) # center the during-stimulation to 0\n",
      "e:\\Kevin\\Anaconda\\kilosort\\lib\\site-packages\\numpy\\core\\fromnumeric.py:3504: RuntimeWarning: Mean of empty slice.\n",
      "  return _methods._mean(a, axis=axis, dtype=dtype,\n",
      "e:\\Kevin\\Anaconda\\kilosort\\lib\\site-packages\\numpy\\core\\_methods.py:121: RuntimeWarning: invalid value encountered in divide\n",
      "  ret = um.true_divide(\n"
     ]
    },
    {
     "name": "stdout",
     "output_type": "stream",
     "text": [
      "saving data to Z:\\Kevin\\Huang\\Crimson__2024-10-10_20-34-09_35mm_9mA\\raw_signal.pkl\n",
      "Crimson__2024-10-10_20-34-09_35mm_9mA: (194, 2)\n"
     ]
    },
    {
     "name": "stderr",
     "output_type": "stream",
     "text": [
      "c:\\Users\\Kevin\\Documents\\git\\Work_Tools\\BrainPatch_analysis\\openephys_utils.py:473: RuntimeWarning: Mean of empty slice\n",
      "  art_means = np.nanmean(sig[stim[0]+4:stim[1]-4]) # center the during-stimulation to 0\n",
      "e:\\Kevin\\Anaconda\\kilosort\\lib\\site-packages\\numpy\\core\\fromnumeric.py:3504: RuntimeWarning: Mean of empty slice.\n",
      "  return _methods._mean(a, axis=axis, dtype=dtype,\n",
      "e:\\Kevin\\Anaconda\\kilosort\\lib\\site-packages\\numpy\\core\\_methods.py:121: RuntimeWarning: invalid value encountered in divide\n",
      "  ret = um.true_divide(\n"
     ]
    },
    {
     "name": "stdout",
     "output_type": "stream",
     "text": [
      "saving data to Z:\\Kevin\\Huang\\Crimson__2024-10-10_20-37-53_45mm_02mA\\raw_signal.pkl\n",
      "Crimson__2024-10-10_20-37-53_45mm_02mA: (60, 2)\n",
      "saving data to Z:\\Kevin\\Huang\\Crimson__2024-10-10_20-39-18_45mm_1mA\\raw_signal.pkl\n",
      "Crimson__2024-10-10_20-39-18_45mm_1mA: (60, 2)\n",
      "saving data to Z:\\Kevin\\Huang\\Crimson__2024-10-10_20-40-42_45mm_5mA\\raw_signal.pkl\n",
      "Crimson__2024-10-10_20-40-42_45mm_5mA: (60, 2)\n",
      "Unexpected exception formatting exception. Falling back to standard exception\n"
     ]
    },
    {
     "name": "stderr",
     "output_type": "stream",
     "text": [
      "Traceback (most recent call last):\n",
      "  File \"e:\\Kevin\\Anaconda\\kilosort\\lib\\site-packages\\IPython\\core\\interactiveshell.py\", line 3550, in run_code\n",
      "    exec(code_obj, self.user_global_ns, self.user_ns)\n",
      "  File \"C:\\Users\\Kevin\\AppData\\Local\\Temp\\2\\ipykernel_27088\\4069994540.py\", line 3, in <module>\n",
      "    openephys_utils.LFP_stim_bulk(base_dir, reconvert=True)\n",
      "  File \"c:\\Users\\Kevin\\Documents\\git\\Work_Tools\\BrainPatch_analysis\\openephys_utils.py\", line 433, in LFP_stim_bulk\n",
      "    plot_LFP_min_times(resp_df, fig_time)\n",
      "  File \"c:\\Users\\Kevin\\Documents\\git\\Work_Tools\\BrainPatch_analysis\\openephys_utils.py\", line 545, in plot_LFP_min_times\n",
      "AttributeError: 'Figure' object has no attribute 'shape'\n",
      "\n",
      "During handling of the above exception, another exception occurred:\n",
      "\n",
      "Traceback (most recent call last):\n",
      "  File \"e:\\Kevin\\Anaconda\\kilosort\\lib\\site-packages\\IPython\\core\\interactiveshell.py\", line 2144, in showtraceback\n",
      "    stb = self.InteractiveTB.structured_traceback(\n",
      "  File \"e:\\Kevin\\Anaconda\\kilosort\\lib\\site-packages\\IPython\\core\\ultratb.py\", line 1435, in structured_traceback\n",
      "    return FormattedTB.structured_traceback(\n",
      "  File \"e:\\Kevin\\Anaconda\\kilosort\\lib\\site-packages\\IPython\\core\\ultratb.py\", line 1326, in structured_traceback\n",
      "    return VerboseTB.structured_traceback(\n",
      "  File \"e:\\Kevin\\Anaconda\\kilosort\\lib\\site-packages\\IPython\\core\\ultratb.py\", line 1173, in structured_traceback\n",
      "    formatted_exception = self.format_exception_as_a_whole(etype, evalue, etb, number_of_lines_of_context,\n",
      "  File \"e:\\Kevin\\Anaconda\\kilosort\\lib\\site-packages\\IPython\\core\\ultratb.py\", line 1088, in format_exception_as_a_whole\n",
      "    frames.append(self.format_record(record))\n",
      "  File \"e:\\Kevin\\Anaconda\\kilosort\\lib\\site-packages\\IPython\\core\\ultratb.py\", line 970, in format_record\n",
      "    frame_info.lines, Colors, self.has_colors, lvals\n",
      "  File \"e:\\Kevin\\Anaconda\\kilosort\\lib\\site-packages\\IPython\\core\\ultratb.py\", line 792, in lines\n",
      "    return self._sd.lines\n",
      "  File \"e:\\Kevin\\Anaconda\\kilosort\\lib\\site-packages\\stack_data\\utils.py\", line 144, in cached_property_wrapper\n",
      "    value = obj.__dict__[self.func.__name__] = self.func(obj)\n",
      "  File \"e:\\Kevin\\Anaconda\\kilosort\\lib\\site-packages\\stack_data\\core.py\", line 734, in lines\n",
      "    pieces = self.included_pieces\n",
      "  File \"e:\\Kevin\\Anaconda\\kilosort\\lib\\site-packages\\stack_data\\utils.py\", line 144, in cached_property_wrapper\n",
      "    value = obj.__dict__[self.func.__name__] = self.func(obj)\n",
      "  File \"e:\\Kevin\\Anaconda\\kilosort\\lib\\site-packages\\stack_data\\core.py\", line 681, in included_pieces\n",
      "    pos = scope_pieces.index(self.executing_piece)\n",
      "  File \"e:\\Kevin\\Anaconda\\kilosort\\lib\\site-packages\\stack_data\\utils.py\", line 144, in cached_property_wrapper\n",
      "    value = obj.__dict__[self.func.__name__] = self.func(obj)\n",
      "  File \"e:\\Kevin\\Anaconda\\kilosort\\lib\\site-packages\\stack_data\\core.py\", line 660, in executing_piece\n",
      "    return only(\n",
      "  File \"e:\\Kevin\\Anaconda\\kilosort\\lib\\site-packages\\executing\\executing.py\", line 116, in only\n",
      "    raise NotOneValueFound('Expected one value, found 0')\n",
      "executing.executing.NotOneValueFound: Expected one value, found 0\n"
     ]
    }
   ],
   "source": [
    "base_dir = 'Z:\\\\Kevin\\\\Huang\\\\'\n",
    "\n",
    "openephys_utils.LFP_stim_bulk(base_dir, reconvert=True)"
   ]
  },
  {
   "cell_type": "markdown",
   "metadata": {},
   "source": [
    "Loop through each directory"
   ]
  },
  {
   "cell_type": "code",
   "execution_count": null,
   "metadata": {},
   "outputs": [],
   "source": [
    "# base_dir = 'Z:\\\\Kevin\\\\Huang'\n",
    "# directory = 'Z:\\\\Kevin\\\\Huang\\\\Crimson__2024-10-10_19-44-09_1.5mm_05mA'\n",
    "directory = 'Z:\\\\Kevin\\\\Huang\\\\Crimson__2024-10-10_19-37-10_1mm_5mA'\n",
    "\n",
    "# directory = os.path.join(base_dir, os.listdir(base_dir)[1])\n",
    "\n",
    "sig,timestamps,stims,stim_ts = openephys_utils.open_sig_stims(directory, reconvert=True)\n",
    "\n",
    "# session = Session(directory)\n",
    "\n",
    "openephys_utils.plot_avg_LFP(sig, stims)\n"
   ]
  },
  {
   "cell_type": "code",
   "execution_count": null,
   "metadata": {},
   "outputs": [],
   "source": [
    "Crimson__2024-10-10_19-33-47_1mm_02mA\n",
    "directory"
   ]
  },
  {
   "cell_type": "code",
   "execution_count": null,
   "metadata": {},
   "outputs": [],
   "source": [
    "fig,ax = plt.subplots()\n",
    "\n",
    "ax.plot(timestamps, sig[:,64])"
   ]
  },
  {
   "cell_type": "code",
   "execution_count": null,
   "metadata": {},
   "outputs": [],
   "source": [
    "fig,ax = plt.subplots()\n",
    "\n",
    "stim_stream = session.recordnodes[0].recordings[0].continuous[0].samples[:,1]\n",
    "stim_stream = stim_stream - stim_stream.mean()\n",
    "ax.plot(stim_stream)"
   ]
  },
  {
   "cell_type": "code",
   "execution_count": null,
   "metadata": {},
   "outputs": [],
   "source": [
    "test = np.arange(30)"
   ]
  },
  {
   "cell_type": "code",
   "execution_count": null,
   "metadata": {},
   "outputs": [],
   "source": [
    "test2 = np.array([test,test])"
   ]
  },
  {
   "cell_type": "code",
   "execution_count": null,
   "metadata": {},
   "outputs": [],
   "source": [
    "np.logical_not(np.isnan(test2))"
   ]
  }
 ],
 "metadata": {
  "kernelspec": {
   "display_name": "kilosort",
   "language": "python",
   "name": "python3"
  },
  "language_info": {
   "codemirror_mode": {
    "name": "ipython",
    "version": 3
   },
   "file_extension": ".py",
   "mimetype": "text/x-python",
   "name": "python",
   "nbconvert_exporter": "python",
   "pygments_lexer": "ipython3",
   "version": "3.9.19"
  }
 },
 "nbformat": 4,
 "nbformat_minor": 2
}
