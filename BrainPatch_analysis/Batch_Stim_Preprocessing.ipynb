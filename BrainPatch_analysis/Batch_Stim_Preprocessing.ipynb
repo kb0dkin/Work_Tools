{
 "cells": [
  {
   "cell_type": "markdown",
   "metadata": {},
   "source": [
    "# Batch stimulus response pre-processing\n",
    "\n",
    "\n",
    "Cleaning up some of the code from the crimson responses and saving all of the results of the different pieces of work as npy files so that we can easily bulk process and compare things through kilosort etc.\n",
    "\n",
    "The goal is to make it so that we don't have to repeatedly convert the data\n",
    "\n",
    "This will convert the data for all folders, but will not do any of the analysis plots etc."
   ]
  },
  {
   "cell_type": "code",
   "execution_count": 1,
   "metadata": {},
   "outputs": [],
   "source": [
    "import numpy as numpy\n",
    "import pandas as pd\n",
    "import os, re\n",
    "\n",
    "import openephys_utils\n",
    "\n",
    "from tqdm.notebook import tqdm"
   ]
  }
 ],
 "metadata": {
  "kernelspec": {
   "display_name": "kilosort",
   "language": "python",
   "name": "python3"
  },
  "language_info": {
   "codemirror_mode": {
    "name": "ipython",
    "version": 3
   },
   "file_extension": ".py",
   "mimetype": "text/x-python",
   "name": "python",
   "nbconvert_exporter": "python",
   "pygments_lexer": "ipython3",
   "version": "3.9.19"
  }
 },
 "nbformat": 4,
 "nbformat_minor": 2
}
