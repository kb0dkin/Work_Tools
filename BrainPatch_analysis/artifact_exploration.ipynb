{
 "cells": [
  {
   "cell_type": "markdown",
   "metadata": {},
   "source": [
    "# Artifact_Exploration\n",
    "Looking at LED artifacts (are they electrical? photonic stimulation?) seen on Neuronexus recordings while shining an LED stimulus on an anesthetized, non-injected mouse.\n",
    "\n",
    "\n",
    "Goal is to isolate potential artifacts so that we can find any *actual* spikes evoked in an injected mouse."
   ]
  },
  {
   "cell_type": "code",
   "execution_count": 1,
   "metadata": {},
   "outputs": [],
   "source": [
    "from matplotlib import pyplot as plt\n",
    "from matplotlib.patches import Rectangle\n",
    "import numpy as np\n",
    "from open_ephys.analysis import Session\n",
    "from scipy import signal\n",
    "from scipy.fft import fft, fftfreq\n",
    "from scipy.signal.windows import gaussian\n",
    "import time\n",
    "import ipympl\n",
    "import os\n",
    "from sklearn.decomposition import PCA\n",
    "%matplotlib ipympl\n",
    "# from matplotlib_scalebar.scalebar import ScaleBar"
   ]
  },
  {
   "cell_type": "code",
   "execution_count": null,
   "metadata": {},
   "outputs": [],
   "source": [
    "os.listdir('C:\\\\Users\\\\Kevin\\\\Documents\\\\data')"
   ]
  },
  {
   "cell_type": "markdown",
   "metadata": {},
   "source": [
    "Load the data"
   ]
  },
  {
   "cell_type": "code",
   "execution_count": 2,
   "metadata": {},
   "outputs": [
    {
     "name": "stdout",
     "output_type": "stream",
     "text": [
      "\n",
      "Open Ephys Recording Session Object\n",
      "Directory: Z:\\BrainPatch\\20240806\\Spontaneous_test__2024-08-06_13-58-38__Barrel_cable2\n",
      "\n",
      "<object>.recordnodes:\n",
      "  Index 0: Record Node 101 (binary format)\n",
      "\n"
     ]
    }
   ],
   "source": [
    "# go through each directory\n",
    "# directory = 'Z:\\\\BrainPatch\\\\20240821\\\\Crimson__2024-08-21_13-29-59__20mA_MinOil_2ms'\n",
    "# directory = 'Z:\\\\BrainPatch\\\\20240821\\\\Crimson__2024-08-21_16-33-23__spontaneous_touching_newprobe'\n",
    "\n",
    "session = Session(directory)\n",
    "print(session)"
   ]
  },
  {
   "cell_type": "markdown",
   "metadata": {},
   "source": [
    "Give an overview of the session -- recursively look through each of the sub-pieces"
   ]
  },
  {
   "cell_type": "code",
   "execution_count": 3,
   "metadata": {},
   "outputs": [
    {
     "name": "stdout",
     "output_type": "stream",
     "text": [
      "recording contains recordnodes\n",
      "1 recording(s) in session \"Z:\\BrainPatch\\20240806\\Spontaneous_test__2024-08-06_13-58-38__Barrel_cable2\\Record Node 101\"\n",
      "\n",
      "Recording 0 has:\n",
      "\t1 continuous streams\n",
      "\t0 spike streams\n",
      "\t0 event streams\n",
      "\n",
      "\n"
     ]
    }
   ],
   "source": [
    "if session.recordnodes:\n",
    "    print(f'recording contains recordnodes')\n",
    "    for i_rec in range(len(session.recordnodes)):\n",
    "        print(f'{len(session.recordnodes[i_rec].recordings)} recording(s) in session \"{session.recordnodes[i_rec].directory}\"\\n')\n",
    "        recordings = session.recordnodes[i_rec].recordings\n",
    "        \n",
    "        for i_rec,recording in enumerate(recordings):\n",
    "            recording.load_continuous()\n",
    "            recording.load_spikes()\n",
    "            recording.load_events()\n",
    "            recording.load_messages()\n",
    "\n",
    "            print(f'Recording {i_rec} has:')\n",
    "            print(f'\\t{len(recording.continuous)} continuous streams')\n",
    "            print(f'\\t{len(recording.spikes)} spike streams')\n",
    "            print(f'\\t{len(recording.events)} event streams')\n",
    "        \n",
    "        print('\\n')\n",
    "\n",
    "else:\n",
    "    print(f'recording does not contain recordnodes')\n",
    "    print(f'{len(session.recordings)} recording(s) in session \"{session.directory}\"\\n\\n')\n",
    "    recordings = session.recordings\n",
    "\n",
    "    for i_rec,recording in enumerate(recordings):\n",
    "        recording.load_continuous()\n",
    "        recording.load_spikes()\n",
    "        recording.load_events()\n",
    "        recording.load_messages()\n",
    "\n",
    "        print(f'Recording {i_rec} has:')\n",
    "        print(f'\\t{len(recording.continuous)} continuous streams')\n",
    "        print(f'\\t{len(recording.spikes)} spike streams')\n",
    "        print(f'\\t{len(recording.events)} event streams')\n",
    "\n"
   ]
  },
  {
   "cell_type": "markdown",
   "metadata": {},
   "source": [
    "# Plotting\n",
    "\n",
    "Take a look at continuous streams without the events on top -- this is primarily for the \"no stim\" situation"
   ]
  },
  {
   "cell_type": "markdown",
   "metadata": {},
   "source": [
    "take a look at the stimulation artifacts"
   ]
  },
  {
   "cell_type": "code",
   "execution_count": null,
   "metadata": {},
   "outputs": [],
   "source": [
    "if session.recordnodes:\n",
    "    recording = session.recordnodes[0].recordings[0]\n",
    "else:\n",
    "    recording = session.recordings[0]\n",
    "\n",
    "max_cont = 2\n",
    "n_cont = recording.continuous[0].samples.shape[1] \n",
    "n_cont = n_cont if n_cont < max_cont else max_cont\n",
    "\n",
    "fig_event, ax_event = plt.subplots(nrows=n_cont, sharex=True, sharey=True)\n",
    "\n",
    "# set up the events to plot patches\n",
    "events = recording.events.sample_number.values - recording.continuous[0].sample_numbers[0] # to make sure we're starting at the same point\n",
    "events = events/recording.info['events'][0]['sample_rate']\n",
    "events = events.reshape([int(events.shape[0]/2),2])\n",
    "# event_vertical = [recording.continuous[0].samples.max()* recording.continuous[0].metadata['bit_volts'][i_cont], recording.continuous[0].samples.min()* recording.continuous[0].metadata['bit_volts'][i_cont]] \n",
    "\n",
    "timestamps = recording.continuous[0].sample_numbers - recording.continuous[0].sample_numbers[0]\n",
    "timestamps = timestamps/recording.continuous[0].metadata['sample_rate']\n",
    "for i_cont in range(n_cont):\n",
    "    # plot in volts\n",
    "    values = recording.continuous[0].samples[:,i_cont]*recording.continuous[0].metadata['bit_volts'][i_cont]\n",
    "    ax_event[i_cont].plot(timestamps, values)\n",
    "\n",
    "    # plot the event times\n",
    "    for i_event,event in enumerate(events):\n",
    "        # print(f'{i_event}:{event}')\n",
    "        ax_event[i_cont].axvspan(event[0], event[1], color='k', alpha=.1)\n",
    "\n",
    "    # remove the outer boxes\n",
    "    for spine in ['top','bottom','right','left']:\n",
    "        ax_event[i_cont].spines[spine].set_visible(False)\n",
    "\n",
    "    # make only bottom ticks visible\n",
    "    if i_cont < (n_cont-1):\n",
    "        ax_event[i_cont].xaxis.set_visible(False)\n",
    "    \n",
    "    ax_event[i_cont].set_ylabel('uV')\n",
    "\n",
    "fig_event.suptitle(os.path.split(directory)[-1])\n",
    "ax_event[-1].set_xlabel('Time (s)')"
   ]
  },
  {
   "cell_type": "code",
   "execution_count": null,
   "metadata": {},
   "outputs": [],
   "source": [
    "recording.continuous[0].samples.shape"
   ]
  },
  {
   "cell_type": "code",
   "execution_count": null,
   "metadata": {},
   "outputs": [],
   "source": [
    "fig,ax = plt.subplots(nrows = 8, sharex=True)\n",
    "\n",
    "for i, elec in enumerate([64,65,66,67,68,69,70,71]):\n",
    "    ax[i].plot(recording.continuous[0].samples[:,elec])\n",
    "\n"
   ]
  },
  {
   "cell_type": "markdown",
   "metadata": {},
   "source": [
    "Let's look at the spectrogram and the power spectrum for the signal"
   ]
  },
  {
   "cell_type": "code",
   "execution_count": null,
   "metadata": {},
   "outputs": [],
   "source": [
    "# len_gauss = 1024\n",
    "# std = 128\n",
    "# hop=128\n",
    "len_gauss = 30000\n",
    "std = 300\n",
    "hop = 300\n",
    "\n",
    "window = gaussian(len_gauss, std, sym=True)\n",
    "fs = recording.continuous[0].metadata['sample_rate']\n",
    "sft = signal.ShortTimeFFT(window, hop=hop, fs=fs, scale_to='magnitude')\n",
    "\n",
    "if session.recordnodes:\n",
    "    recording = session.recordnodes[0].recordings[0]\n",
    "else:\n",
    "    recording = session.recordings[0]\n",
    "\n",
    "# number of signals etc\n",
    "max_cont = 6\n",
    "n_cont = recording.continuous[0].samples.shape[1] \n",
    "n_cont = n_cont if n_cont <= max_cont else max_cont\n",
    "\n",
    "# length of the recording -- cleans up the code\n",
    "n_samples = recording.continuous[0].samples.shape[0] \n",
    "\n",
    "# start a sft with a subplot for each continuous signal plotted\n",
    "fig_sft, ax_sft = plt.subplots(nrows=n_cont, sharex=True, sharey=True)\n",
    "\n",
    "fig_sft.suptitle(rf\"sft ({sft.m_num*sft.T:g}$\\,s$ Gaussian window, \" +\n",
    "                 rf\"$\\sigma_t={std*sft.T}\\,$s)\")\n",
    "\n",
    "for i_cont in range(n_cont):\n",
    "    values = recording.continuous[0].samples[:,i_cont]*recording.continuous[0].metadata['bit_volts'][i_cont]\n",
    "    Sx = sft.stft(values)\n",
    "    \n",
    "    # time range of the plot\n",
    "    t_lo, t_hi = sft.extent(n_samples)[:2]\n",
    "\n",
    "    # plot the spectrogram\n",
    "    ax_sft[i_cont].imshow(abs(Sx[:]), origin='lower', aspect='auto',\n",
    "                          extent=sft.extent(n_samples), cmap='viridis')\n",
    "    \n",
    "    # shade areas where slice stick outside of the signal\n",
    "    for t0_, t1_ in [(t_lo, sft.lower_border_end[0] * sft.T), (sft.upper_border_begin(n_samples)[0] * sft.T, t_hi)]:\n",
    "        ax_sft[i_cont].axvspan(t0_, t1_, color='w', linewidth=0, alpha=.2)\n",
    "\n",
    "    # and mark the borders with a vertical line:\n",
    "    for t_ in [0, n_samples*sft.T]:\n",
    "        ax_sft[i_cont].axvline(t_, color='y', linestyle='--', alpha=0.5)\n",
    "\n",
    "    # make only bottom ticks visible\n",
    "    if i_cont < (n_cont-1):\n",
    "        ax_sft[i_cont].xaxis.set_visible(False)\n",
    "\n",
    "    # clean everything out\n",
    "    ax_sft[i_cont].set(xlim=(t_lo, t_hi))\n",
    "    ax_sft[i_cont].set(ylim=(0,300))\n",
    "\n",
    "    \n",
    "    # remove the outer boxes\n",
    "    for spine in ['top','bottom','right','left']:\n",
    "        ax_sft[i_cont].spines[spine].set_visible(False)\n",
    "\n",
    "# set up the labels on the bottom axis\n",
    "ax_sft[-1].set_xlabel(f'Time $t$ in seconds')\n"
   ]
  },
  {
   "cell_type": "markdown",
   "metadata": {},
   "source": [
    "welch's power spectrum"
   ]
  },
  {
   "cell_type": "code",
   "execution_count": null,
   "metadata": {},
   "outputs": [],
   "source": [
    "# number of signals etc\n",
    "max_cont = 6\n",
    "n_cont = recording.continuous[0].samples.shape[1] \n",
    "n_cont = n_cont if n_cont <= max_cont else max_cont\n",
    "\n",
    "fig_pow, ax_pow = plt.subplots(nrows=max_cont, sharex=True, sharey=True)\n",
    "\n",
    "for i_cont in range(n_cont):\n",
    "    values = recording.continuous[0].samples[:,i_cont]*recording.continuous[0].metadata['bit_volts'][i_cont]\n",
    "    val_f = signal.welch(values, fs=30000, nperseg=30000)\n",
    "    \n",
    "    # plot the spectrogram\n",
    "    ax_pow[i_cont].loglog(val_f[0], np.abs(val_f[1]))\n",
    "    \n",
    "    # remove the outer boxes\n",
    "    for spine in ['top','bottom','right','left']:\n",
    "        ax_pow[i_cont].spines[spine].set_visible(False)\n",
    "\n",
    "# set up the labels on the bottom axis\n",
    "# ax_pow[-1].set_xlabel(f'Time $t$ in seconds')\n",
    "\n"
   ]
  },
  {
   "cell_type": "markdown",
   "metadata": {},
   "source": [
    "Find the mean and variance of the stimulus artifacts.\n",
    "\n",
    "To do this, we'll take the difference between the maximum value and the mean value during the stimulation period"
   ]
  },
  {
   "cell_type": "code",
   "execution_count": null,
   "metadata": {},
   "outputs": [],
   "source": [
    "# number of signals etc\n",
    "max_cont = 6\n",
    "n_cont = recording.continuous[0].samples.shape[1] \n",
    "n_cont = n_cont if n_cont <= max_cont else max_cont\n",
    "\n",
    "# set up the events to plot patches\n",
    "events = recording.events.sample_number.values - recording.continuous[0].sample_numbers[0] # to make sure we're starting at the same point\n",
    "events = events/recording.info['events'][0]['sample_rate']\n",
    "events = events.reshape([int(events.shape[0]/2),2])\n",
    "\n",
    "for i_cont in range(n_cont):\n",
    "    values = recording.continuous[0].samples[:,i_cont]*recording.continuous[0].metadata['bit_volts'][i_cont]\n",
    "\n",
    "    for event in \n",
    "\n",
    "\n",
    "# for event in events:"
   ]
  },
  {
   "cell_type": "markdown",
   "metadata": {},
   "source": [
    "# Clean the signal\n",
    "\n",
    "CAR and filter"
   ]
  },
  {
   "cell_type": "code",
   "execution_count": null,
   "metadata": {},
   "outputs": [],
   "source": [
    "# we'll start by removing the common average\n",
    "\n",
    "# pull out the recordings\n",
    "if session.recordnodes:\n",
    "    continuous = session.recordnodes[0].recordings[0].continuous[0].samples[:,:64]\n",
    "else:\n",
    "    continuous = session.recordings[0].continuous[0].samples[:,:64]\n",
    "\n",
    "# get the mean and subtract it\n",
    "mean_sig = np.mean(continuous, axis=1)\n",
    "cont_CAR = continuous - np.tile(mean_sig, (continuous.shape[1], 1)).T\n",
    "\n",
    "# And filter them\n",
    "sos = signal.butter(8, [300, 6000], btype='bandpass', fs=30000, output='sos')\n",
    "CAR_filt = signal.sosfilt(sos, cont_CAR, axis=0)\n",
    "cont_filt = signal.sosfilt(sos, continuous, axis=0)\n",
    "\n",
    "# FIR filter\n",
    "# filt = signal.firwin2(73, [0, 250, 350, 6000, 10000, 15000], [0, 0, 1, 1, 0, 0], fs=30000)\n",
    "# CAR_filt = np.array([signal.convolve(cont, filt) for cont in cont_CAR.T]).T\n",
    "# cont_filt = np.array([signal.convolve(cont, filt) for cont in continuous.T]).T"
   ]
  },
  {
   "cell_type": "code",
   "execution_count": null,
   "metadata": {},
   "outputs": [],
   "source": [
    "fig,ax = plt.subplots()\n",
    "\n",
    "mean_sig = np.mean(continuous, axis=1)\n",
    "mode_sig = np.mode\n",
    "ax.plot(mean_sig)\n",
    "\n",
    "events = np.argwhere(np.diff(recording.continuous[0].samples[:,64]>5000) == 1)\n",
    "events = events.reshape([int(events.shape[0]/2),2])\n",
    "\n",
    "\n",
    "for i_event,event in enumerate(events):\n",
    "    # print(f'{i_event}:{event}')\n",
    "    ax.axvspan(event[0], event[1], color='k', alpha=.1)"
   ]
  },
  {
   "cell_type": "code",
   "execution_count": null,
   "metadata": {},
   "outputs": [],
   "source": [
    "max_cont = 2\n",
    "n_cont = recording.continuous[0].samples.shape[1] \n",
    "n_cont = n_cont if n_cont <= max_cont else max_cont\n",
    "\n",
    "fig_clean, ax_clean = plt.subplots(nrows=max_cont, sharex=True, sharey=True)\n",
    "\n",
    "# events = np.argwhere(np.diff(recording.continuous[0].samples[:,64]>5000) == 1)\n",
    "# events = events/recording.continuous[0].metadata['sample_rate']\n",
    "# events = events.reshape([int(events.shape[0]/2),2])\n",
    "\n",
    "timestamps = recording.continuous[0].sample_numbers - recording.continuous[0].sample_numbers[0]\n",
    "timestamps = timestamps/recording.continuous[0].metadata['sample_rate']\n",
    "for i_cont in range(n_cont):\n",
    "    ax_clean[i_cont].plot(timestamps, continuous[:,i_cont])\n",
    "    ax_clean[i_cont].plot(timestamps, cont_CAR[:,i_cont])\n",
    "    ax_clean[i_cont].plot(timestamps, CAR_filt[:len(timestamps),i_cont])\n",
    "    ax_clean[i_cont].plot(timestamps, cont_filt[:len(timestamps),i_cont])\n",
    "\n",
    "    # add a legend\n",
    "    ax_clean[i_cont].legend(('Raw','CAR','CAR_filt', 'Raw Filtered'))\n",
    "    \n",
    "    # plot the event times\n",
    "    # for i_event,event in enumerate(events):\n",
    "    #     # print(f'{i_event}:{event}')\n",
    "    #     ax_clean[i_cont].axvspan(event[0], event[1], color='k', alpha=.1)\n",
    "    \n",
    "    # remove the outer boxes\n",
    "    for spine in ['top','bottom','right','left']:\n",
    "        ax_clean[i_cont].spines[spine].set_visible(False)"
   ]
  },
  {
   "cell_type": "markdown",
   "metadata": {},
   "source": [
    "For the recordings with the precision current source I didn't record the stimulation times as \"events\" so instead I'm looking at the continuous signal from the auxiliary port and using a threshold to find the stimulation times instead"
   ]
  },
  {
   "cell_type": "code",
   "execution_count": null,
   "metadata": {},
   "outputs": [],
   "source": [
    "if session.recordnodes:\n",
    "    recording = session.recordnodes[0].recordings[0]\n",
    "else:\n",
    "    recording = session.recordings[0]\n",
    "\n",
    "electrodes = [30, 31, 32, 33]\n",
    "n_cont = len(electrodes)\n",
    "# max_cont = 6\n",
    "# n_cont = recording.continuous[0].samples.shape[1] \n",
    "# n_cont = n_cont if n_cont < max_cont else max_cont\n",
    "\n",
    "fig_event, ax_event = plt.subplots(nrows=n_cont, sharex=True, sharey=True)\n",
    "\n",
    "# set up the events to plot patches\n",
    "events = np.argwhere(np.diff(recording.continuous[0].samples[:,64]>5000) == 1)\n",
    "events = events/recording.continuous[0].metadata['sample_rate']\n",
    "events = events.reshape([int(events.shape[0]/2),2])\n",
    "\n",
    "timestamps = recording.continuous[0].sample_numbers - recording.continuous[0].sample_numbers[0]\n",
    "timestamps = timestamps/recording.continuous[0].metadata['sample_rate']\n",
    "# for i_cont in range(n_cont):\n",
    "for i_cont,cont in enumerate(electrodes):\n",
    "    # plot in volts\n",
    "    values = recording.continuous[0].samples[:,cont]*recording.continuous[0].metadata['bit_volts'][cont]\n",
    "    ax_event[i_cont].plot(timestamps, values)\n",
    "\n",
    "    # plot the event times\n",
    "    for i_event,event in enumerate(events):\n",
    "        # print(f'{i_event}:{event}')\n",
    "        ax_event[i_cont].axvspan(event[0], event[1], color='k', alpha=.1)\n",
    "\n",
    "    # remove the outer boxes\n",
    "    for spine in ['top','bottom','right','left']:\n",
    "        ax_event[i_cont].spines[spine].set_visible(False)\n",
    "\n",
    "    # make only bottom ticks visible\n",
    "    if i_cont < (n_cont-1):\n",
    "        ax_event[i_cont].xaxis.set_visible(False)\n",
    "    \n",
    "    ax_event[i_cont].set_ylabel('uV')\n",
    "    ax_event[i_cont].set_title(f'Electrode {cont}')\n",
    "\n",
    "fig_event.suptitle(os.path.split(directory)[-1])\n",
    "ax_event[-1].set_xlabel('Time (s)')"
   ]
  },
  {
   "cell_type": "markdown",
   "metadata": {},
   "source": [
    "Try it with PCA"
   ]
  },
  {
   "cell_type": "code",
   "execution_count": null,
   "metadata": {},
   "outputs": [],
   "source": [
    "pca = PCA()\n",
    "pca.fit(continuous[:,:64])\n",
    "\n",
    "pca"
   ]
  },
  {
   "cell_type": "code",
   "execution_count": null,
   "metadata": {},
   "outputs": [],
   "source": [
    "fig_pca, ax_pca = plt.subplots()\n",
    "\n",
    "pcs = np.matmul(continuous[:,:64],pca.components_)\n",
    "\n",
    "ax_pca.plot(pcs[:,0])\n",
    "ax_pca.plot(pcs[:,1])"
   ]
  }
 ],
 "metadata": {
  "kernelspec": {
   "display_name": "generic",
   "language": "python",
   "name": "python3"
  },
  "language_info": {
   "codemirror_mode": {
    "name": "ipython",
    "version": 3
   },
   "file_extension": ".py",
   "mimetype": "text/x-python",
   "name": "python",
   "nbconvert_exporter": "python",
   "pygments_lexer": "ipython3",
   "version": "3.10.14"
  }
 },
 "nbformat": 4,
 "nbformat_minor": 2
}
