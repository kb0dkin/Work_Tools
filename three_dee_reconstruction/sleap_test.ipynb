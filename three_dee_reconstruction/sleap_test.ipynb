{
 "cells": [
  {
   "cell_type": "code",
   "execution_count": 1,
   "metadata": {},
   "outputs": [],
   "source": [
    "# import opencv-python \n",
    "# import sleap\n",
    "import json\n",
    "import os\n",
    "from pprint import pprint"
   ]
  },
  {
   "cell_type": "code",
   "execution_count": 2,
   "metadata": {},
   "outputs": [
    {
     "name": "stdout",
     "output_type": "stream",
     "text": [
      "GPUs: 1/1 available\n",
      "  Device: /physical_device:GPU:0\n",
      "         Available: True\n",
      "        Initalized: False\n",
      "     Memory growth: True\n",
      "SLEAP: 1.3.3\n",
      "TensorFlow: 2.7.0\n",
      "Numpy: 1.19.5\n",
      "Python: 3.7.12\n",
      "OS: Linux-5.15.0-101-generic-x86_64-with-debian-bullseye-sid\n"
     ]
    },
    {
     "name": "stderr",
     "output_type": "stream",
     "text": [
      "2024-04-01 10:44:39.572601: I tensorflow/stream_executor/cuda/cuda_gpu_executor.cc:939] successful NUMA node read from SysFS had negative value (-1), but there must be at least one NUMA node, so returning NUMA node zero\n",
      "2024-04-01 10:44:39.576450: I tensorflow/stream_executor/cuda/cuda_gpu_executor.cc:939] successful NUMA node read from SysFS had negative value (-1), but there must be at least one NUMA node, so returning NUMA node zero\n",
      "2024-04-01 10:44:39.576547: I tensorflow/stream_executor/cuda/cuda_gpu_executor.cc:939] successful NUMA node read from SysFS had negative value (-1), but there must be at least one NUMA node, so returning NUMA node zero\n"
     ]
    }
   ],
   "source": [
    "sleap.disable_preallocation()\n",
    "sleap.system_summary()\n",
    "sleap.versions()"
   ]
  },
  {
   "cell_type": "markdown",
   "metadata": {},
   "source": [
    "## Load MARS data\n",
    "First, we'll need to convert the manifest files into something that SLEAP can read -- easiest is probably COCO\n"
   ]
  },
  {
   "cell_type": "code",
   "execution_count": 2,
   "metadata": {},
   "outputs": [],
   "source": [
    "# label_manifest = '/home/kevin/Downloads/OpenField_Data/output_open_paws.manifest'\n",
    "label_json = '/home/klb807/MARS_project/3d/annotation_data/processed_keypoints.json'\n"
   ]
  },
  {
   "cell_type": "code",
   "execution_count": 5,
   "metadata": {},
   "outputs": [],
   "source": [
    "# # manifest version\n",
    "# # open and start parsing file\n",
    "# with open(label_manifest) as fid:\n",
    "#     anns = []\n",
    "#     for line in fid:\n",
    "#         anns.append(json.loads(line))\n",
    "# nodes = [result['label'].lstrip() for result in eval(anns[0]['annotatedResult']['annotationsFromAllWorkers'][0]['annotationData']['content'])['annotatedResult']['keypoints']]\n",
    "\n",
    "\n",
    "# json version\n",
    "with open(label_json, 'r') as fid:\n",
    "    anns = json.load(fid)\n",
    "    # print(tt)\n",
    "#     anns = eval(fid.read())\n",
    "# nodes = anns[0]['ann_label']\n",
    "\n",
    "nodes = [label for ann in anns for label in ann['ann_label']]\n",
    "\n",
    "# initialize the skeleton\n",
    "# skeleton = sleap.Skeleton()\n",
    "# skeleton.add_nodes(nodes)\n",
    "\n"
   ]
  },
  {
   "cell_type": "code",
   "execution_count": 5,
   "metadata": {},
   "outputs": [],
   "source": [
    "# connect some stuff. probably not necessary\n",
    "# skeleton.add_edge('nose','throat')\n",
    "# skeleton.add_edge('throat','body center')\n",
    "# skeleton.add_edge('body center','right hip')\n",
    "# skeleton.add_edge('body center','left hip')\n",
    "# skeleton.add_edge('right hip','tail base')\n",
    "# skeleton.add_edge('left hip','tail base')\n",
    "# skeleton.add_edge('tail base','tail mid')\n",
    "# skeleton.add_edge('tail mid','tail tip')\n",
    "\n",
    "# for the multiview 3d tracking\n",
    "# skeleton.add_edge('Nose','Right Ear')\n",
    "# skeleton.add_edge('Nose','Left Ear')\n",
    "skeleton.add_edge('Nose','Throat')\n",
    "skeleton.add_edge('Throat','Right Ear')\n",
    "skeleton.add_edge('Throat','Left Ear')\n",
    "skeleton.add_edge('Throat','Spine Center')\n",
    "skeleton.add_edge('Spine Center','Tail Base')\n",
    "skeleton.add_edge('Tail Base','Tail Middle')\n",
    "skeleton.add_edge('Tail Middle','Tail Tip')\n",
    "skeleton.add_edge('Tail Base','Right Knee')\n",
    "skeleton.add_edge('Tail Base','Left Knee')\n",
    "skeleton.add_edge('Right Knee','Right Rear Paw')\n",
    "skeleton.add_edge('Left Knee','Left Rear Paw')\n",
    "skeleton.add_edge('Spine Center','Right Front Paw')\n",
    "skeleton.add_edge('Spine Center','Left Front Paw')"
   ]
  },
  {
   "cell_type": "code",
   "execution_count": null,
   "metadata": {},
   "outputs": [],
   "source": [
    "\n",
    "data_path = '/home/klb807/MARS_project/3d/annotation_data/raw_images/pad/'\n",
    "# manifest version\n",
    "# frame_names = [data_path + os.path.split(ann['source-ref'])[-1] for ann in anns if 'annotatedResult' in ann.keys()]\n",
    "# # json version\n",
    "frame_names = [data_path + os.path.split(ann['image'])[-1] for ann in anns]\n",
    "\n",
    "video = sleap.Video.from_image_filenames(filenames=frame_names)\n"
   ]
  },
  {
   "cell_type": "code",
   "execution_count": null,
   "metadata": {},
   "outputs": [],
   "source": [
    "# manifest version\n",
    "\n",
    "# create a labeled frame iterator\n",
    "lab_frame = []\n",
    "img_id = 0\n",
    "# iterate through the images\n",
    "for ann in anns:\n",
    "\n",
    "    # if the file wasn't annotated, skip\n",
    "    if 'annotatedResult' not in ann.keys():\n",
    "        continue\n",
    "\n",
    "    # get the image name\n",
    "    img_name = os.path.split(ann['source-ref'])[-1]\n",
    "    img_id = video.get_idx_from_filename(data_path+img_name)\n",
    "    \n",
    "    instances = []\n",
    "    for w, worker_result in enumerate(ann['annotatedResult']['annotationsFromAllWorkers']):\n",
    "        # results for each worker are embeded as a string\n",
    "        annot = eval(worker_result['annotationData']['content'])['annotatedResult']\n",
    "\n",
    "        keypoint_dict = {item['label'].lstrip():sleap.instance.Point(x=item['x'], y=item['y'])\n",
    "                         for item in annot['keypoints']}\n",
    "        \n",
    "        # append the list\n",
    "        instance = sleap.Instance(skeleton=skeleton, points=keypoint_dict)\n",
    "        instances.append(instance)\n",
    "\n",
    "        labeled_frame = sleap.LabeledFrame(video=video, frame_idx = img_id, instances=instances)\n",
    "\n",
    "    # put the instances into the labeled frame list\n",
    "    lab_frame.append(labeled_frame)"
   ]
  },
  {
   "cell_type": "code",
   "execution_count": 7,
   "metadata": {},
   "outputs": [],
   "source": [
    "# json version\n",
    "\n",
    "# create a labeled frame iterator\n",
    "lab_frame = []\n",
    "# iterate through the images\n",
    "for ann in anns:\n",
    "\n",
    "    height = ann['height']\n",
    "    width = ann['width']\n",
    "\n",
    "    # get the image name\n",
    "    img_name = os.path.split(ann['image'])[-1]\n",
    "    img_id = video.get_idx_from_filename(data_path+img_name)\n",
    "    \n",
    "    instances = []\n",
    "    keypoint_dict = {ann_label:sleap.instance.Point(x=ann['ann_black']['X'][0][ii]*width,y=ann['ann_black']['Y'][0][ii]*height)\n",
    "                     for ii,ann_label in enumerate(ann['ann_label'])}\n",
    "    instance = sleap.Instance(skeleton=skeleton, points=keypoint_dict)\n",
    "    instances.append(instance)\n",
    "\n",
    "    labeled_frame = sleap.LabeledFrame(video=video, frame_idx=img_id, instances=instances)\n",
    "\n",
    "    # put the instances into the labeled frame list\n",
    "    lab_frame.append(labeled_frame)"
   ]
  },
  {
   "cell_type": "code",
   "execution_count": 8,
   "metadata": {},
   "outputs": [],
   "source": [
    "output_labels = sleap.Labels(lab_frame)"
   ]
  },
  {
   "cell_type": "code",
   "execution_count": 10,
   "metadata": {},
   "outputs": [
    {
     "data": {
      "text/plain": [
       "array([[[[36, 36, 36],\n",
       "         [36, 36, 36],\n",
       "         [36, 36, 36],\n",
       "         ...,\n",
       "         [38, 38, 38],\n",
       "         [38, 38, 38],\n",
       "         [36, 36, 36]],\n",
       "\n",
       "        [[36, 36, 36],\n",
       "         [36, 36, 36],\n",
       "         [36, 36, 36],\n",
       "         ...,\n",
       "         [31, 31, 31],\n",
       "         [31, 31, 31],\n",
       "         [31, 31, 31]],\n",
       "\n",
       "        [[34, 34, 34],\n",
       "         [34, 34, 34],\n",
       "         [34, 34, 34],\n",
       "         ...,\n",
       "         [31, 31, 31],\n",
       "         [31, 31, 31],\n",
       "         [31, 31, 31]],\n",
       "\n",
       "        ...,\n",
       "\n",
       "        [[93, 93, 93],\n",
       "         [92, 92, 92],\n",
       "         [91, 91, 91],\n",
       "         ...,\n",
       "         [73, 73, 73],\n",
       "         [73, 73, 73],\n",
       "         [74, 74, 74]],\n",
       "\n",
       "        [[88, 88, 88],\n",
       "         [88, 88, 88],\n",
       "         [85, 85, 85],\n",
       "         ...,\n",
       "         [72, 72, 72],\n",
       "         [73, 73, 73],\n",
       "         [73, 73, 73]],\n",
       "\n",
       "        [[85, 85, 85],\n",
       "         [85, 85, 85],\n",
       "         [85, 85, 85],\n",
       "         ...,\n",
       "         [70, 70, 70],\n",
       "         [74, 74, 74],\n",
       "         [72, 72, 72]]]], dtype=uint8)"
      ]
     },
     "execution_count": 10,
     "metadata": {},
     "output_type": "execute_result"
    }
   ],
   "source": [
    "video[1000]"
   ]
  },
  {
   "cell_type": "code",
   "execution_count": 32,
   "metadata": {},
   "outputs": [
    {
     "data": {
      "text/plain": [
       "LabeledFrame(video=SingleImageVideo('/home/klb807/MARS_project/3d/annotation_data/raw_images/Basler_acA1300-60gm__24254439__20231101_114651285_00001655_West.png'), frame_idx=8, instances=1)"
      ]
     },
     "execution_count": 32,
     "metadata": {},
     "output_type": "execute_result"
    }
   ],
   "source": [
    "output_labels[8]"
   ]
  },
  {
   "cell_type": "code",
   "execution_count": 61,
   "metadata": {},
   "outputs": [
    {
     "name": "stdout",
     "output_type": "stream",
     "text": [
      "['Nose', 'Right Ear', 'Left Ear', 'Throat', 'Spine Center', 'Right Knee', 'Left Knee', 'Right Front Paw', 'Left Front Paw', 'Right Rear Paw', 'Left Rear Paw', 'Tail Base', 'Tail Middle', 'Tail Tip']\n"
     ]
    },
    {
     "data": {
      "image/png": "[encoded data removed]",
      "text/plain": [
       "<Figure size 238x202 with 1 Axes>"
      ]
     },
     "metadata": {},
     "output_type": "display_data"
    }
   ],
   "source": [
    "import random\n",
    "\n",
    "for labeled in random.choices(output_labels, k = 1):\n",
    "    labeled.plot()\n",
    "    names = [node_point[0].name for node_point in labeled.instances[0].nodes_points]\n",
    "    print(names)\n"
   ]
  },
  {
   "cell_type": "code",
   "execution_count": 12,
   "metadata": {},
   "outputs": [
    {
     "data": {
      "text/plain": [
       "dict_items([(Node(name='Nose', weight=1.0), Point(x=213.0, y=189.0, visible=True, complete=False)), (Node(name='Right Ear', weight=1.0), Point(x=161.0, y=164.0, visible=True, complete=False)), (Node(name='Left Ear', weight=1.0), Point(x=185.0, y=143.0, visible=True, complete=False)), (Node(name='Throat', weight=1.0), Point(x=177.0, y=188.0, visible=True, complete=False)), (Node(name='Spine Center', weight=1.0), Point(x=123.0, y=139.0, visible=True, complete=False)), (Node(name='Right Knee', weight=1.0), Point(x=125.0, y=176.0, visible=True, complete=False)), (Node(name='Left Knee', weight=1.0), Point(x=129.0, y=159.0, visible=True, complete=False)), (Node(name='Right Front Paw', weight=1.0), Point(x=162.0, y=191.0, visible=True, complete=False)), (Node(name='Left Front Paw', weight=1.0), Point(x=167.0, y=184.0, visible=True, complete=False)), (Node(name='Right Rear Paw', weight=1.0), Point(x=111.00000000000001, y=185.0, visible=True, complete=False)), (Node(name='Left Rear Paw', weight=1.0), Point(x=119.0, y=176.0, visible=True, complete=False)), (Node(name='Tail Base', weight=1.0), Point(x=102.0, y=175.0, visible=True, complete=False)), (Node(name='Tail Middle', weight=1.0), Point(x=53.0, y=177.0, visible=True, complete=False)), (Node(name='Tail Tip', weight=1.0), Point(x=34.0, y=191.0, visible=True, complete=False))])"
      ]
     },
     "execution_count": 12,
     "metadata": {},
     "output_type": "execute_result"
    }
   ],
   "source": [
    "labeled.instances[0].nodes_points"
   ]
  },
  {
   "cell_type": "code",
   "execution_count": 27,
   "metadata": {},
   "outputs": [],
   "source": [
    "missing_frames = []\n",
    "\n",
    "\n",
    "for labeled_frame in output_labels:\n",
    "    names = [node_point[0].name for node_point in labeled_frame.instances[0].nodes_points]\n",
    "    if len(names) < len(nodes):\n",
    "        missing_frames.append(labeled_frame.video.backend.filename)\n"
   ]
  },
  {
   "cell_type": "code",
   "execution_count": null,
   "metadata": {},
   "outputs": [],
   "source": [
    "output_labels[1000]"
   ]
  },
  {
   "cell_type": "code",
   "execution_count": 62,
   "metadata": {},
   "outputs": [],
   "source": [
    "output_labels.save('processed_open_combined.slp',with_images=False)"
   ]
  },
  {
   "cell_type": "code",
   "execution_count": null,
   "metadata": {},
   "outputs": [],
   "source": [
    "!sleep-train '~/Downloads/baseline_large_rf.single.json' processed_open_combined.slp"
   ]
  },
  {
   "cell_type": "code",
   "execution_count": null,
   "metadata": {},
   "outputs": [],
   "source": [
    "os.getcwd()"
   ]
  },
  {
   "cell_type": "code",
   "execution_count": 29,
   "metadata": {},
   "outputs": [],
   "source": [
    "#json version\n",
    "missing_dict = {}\n",
    "missing_count = 0\n",
    "\n",
    "for ann in anns:\n",
    "\n",
    "    height = ann['height']\n",
    "    width = ann['width']\n",
    "\n",
    "    missing_list = [ann_label for ii,ann_label in enumerate(ann['ann_label'])\n",
    "                    if (ann['ann_black']['X'][0][ii] == 0) and (ann['ann_black']['Y'][0][ii] == 0)]\n",
    "\n",
    "    if len(missing_list) > 0:\n",
    "        missing_dict[ann['image']] = missing_list \n",
    "    missing_count += len(missing_list)\n",
    "\n",
    "    \n",
    "    "
   ]
  },
  {
   "cell_type": "code",
   "execution_count": null,
   "metadata": {},
   "outputs": [],
   "source": [
    "anns[490]"
   ]
  },
  {
   "cell_type": "code",
   "execution_count": null,
   "metadata": {},
   "outputs": [],
   "source": [
    "# manifest version\n",
    "missing_count = 0\n",
    "missing_dict = dict()\n",
    "\n",
    "nodes = [result['label'].lstrip() for result in eval(anns[0]['annotatedResult']['annotationsFromAllWorkers'][0]['annotationData']['content'])['annotatedResult']['keypoints']]\n",
    "\n",
    "for ann in anns:\n",
    "    # keypoints\n",
    "    keypoints = eval(ann['annotatedResult']['annotationsFromAllWorkers'][0]['annotationData']['content'])['annotatedResult']['keypoints']\n",
    "    \n",
    "    missing_list = [keypoint['label'].lstrip() for keypoint in keypoints if (keypoint['x'] == 0) and (keypoint['y'] == 0)]\n",
    "\n",
    "    if len(missing_list) > 0:\n",
    "        missing_dict[ann['image']] = missing_list \n",
    "    missing_count += len(missing_list)\n",
    "\n"
   ]
  },
  {
   "cell_type": "code",
   "execution_count": null,
   "metadata": {},
   "outputs": [],
   "source": [
    "import pandas as pd\n",
    "import numpy as np"
   ]
  },
  {
   "cell_type": "code",
   "execution_count": null,
   "metadata": {},
   "outputs": [],
   "source": [
    "keypoint_pd = pd.DataFrame()\n",
    "for ii_ann,ann in enumerate(anns):\n",
    "    # skip anything without annotations\n",
    "    # if 'annotatedResult' not in ann.keys():\n",
    "    #     continue\n",
    "\n",
    "    # keypoints = eval(ann['annotatedResult']['annotationsFromAllWorkers'][0]['annotationData']['content'])['annotatedResult']['keypoints']\n",
    "    # kp_dict = {kp['label'].lstrip():[[kp['x'],kp['y']]] for kp in keypoints}\n",
    "\n",
    "    kp_dict = {label:[[ann['ann_black']['X'][0][ii],ann['ann_black']['Y'][0][ii]]] for ii,label in enumerate(ann['ann_label'])}\n",
    "    kp_dict['filename'] = ann['image'].split('/')[-1]\n",
    "    keypoint_pd = pd.concat([keypoint_pd, pd.DataFrame.from_dict(kp_dict)], ignore_index=True)\n",
    "\n"
   ]
  },
  {
   "cell_type": "code",
   "execution_count": null,
   "metadata": {},
   "outputs": [],
   "source": [
    "print([file[-50:] for file in keypoint_pd.loc[keypoint_pd.isna().any(axis=1)]['filename'][:5]])"
   ]
  },
  {
   "cell_type": "code",
   "execution_count": null,
   "metadata": {},
   "outputs": [],
   "source": [
    "sleap.nn.training.CentroidConfmapsModelTrainer()"
   ]
  }
 ],
 "metadata": {
  "kernelspec": {
   "display_name": "sleap",
   "language": "python",
   "name": "python3"
  },
  "language_info": {
   "codemirror_mode": {
    "name": "ipython",
    "version": 3
   },
   "file_extension": ".py",
   "mimetype": "text/x-python",
   "name": "python",
   "nbconvert_exporter": "python",
   "pygments_lexer": "ipython3",
   "version": "3.7.8"
  }
 },
 "nbformat": 4,
 "nbformat_minor": 2
}
