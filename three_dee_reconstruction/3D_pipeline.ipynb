{
 "cells": [
  {
   "cell_type": "markdown",
   "metadata": {},
   "source": [
    "3D pipeline breakdown\n",
    "\n",
    "First we're going to start by creating a labeling job for AWS"
   ]
  },
  {
   "cell_type": "markdown",
   "metadata": {},
   "source": [
    "# Add recording to sql\n",
    "\n",
    "table_populations.ipynb -- run the second to last cell\n",
    "\n",
    "\n",
    "# add calibration to sql\n",
    "``` python ./multiview_calibration_preparation.py ```\n",
    "\n",
    "# split videos into segments for predictions"
   ]
  },
  {
   "cell_type": "code",
   "execution_count": 3,
   "metadata": {},
   "outputs": [],
   "source": [
    "from glob import glob\n",
    "from multiview_utils import video_split_sql\n",
    "\n",
    "videos = glob('/media/fsmresfiles/ASAP/MCI/2703915_3361/20240521/*/*.mp4')\n",
    "\n",
    "for video in videos:\n",
    "    video_split_sql('/media/fsmresfiles/ASAP/iMCI-P60/iMCIP60.sqlite', video, '/home/klb807/sleap_projects')"
   ]
  },
  {
   "cell_type": "markdown",
   "metadata": {},
   "source": [
    "# Predict with Sleap\n",
    "\n",
    "and export"
   ]
  },
  {
   "cell_type": "markdown",
   "metadata": {},
   "source": [
    "# Convert to Anipose"
   ]
  },
  {
   "cell_type": "markdown",
   "metadata": {},
   "source": [
    "# Put into anipose directory, \n",
    "\n",
    "put calibration videos in the anipose directory, then put the predications and the videos"
   ]
  },
  {
   "cell_type": "markdown",
   "metadata": {},
   "source": [
    "Anipose commands\n",
    "\n",
    "1. anipose filter\n",
    "1. anipose label-2d\n",
    "1. anipose triangulate\n",
    "1. anipose label-3d\n",
    "1. anipose project-2d\n",
    "1. anipose label-2d-proj"
   ]
  }
 ],
 "metadata": {
  "kernelspec": {
   "display_name": "capstone",
   "language": "python",
   "name": "python3"
  },
  "language_info": {
   "codemirror_mode": {
    "name": "ipython",
    "version": 3
   },
   "file_extension": ".py",
   "mimetype": "text/x-python",
   "name": "python",
   "nbconvert_exporter": "python",
   "pygments_lexer": "ipython3",
   "version": "3.10.13"
  }
 },
 "nbformat": 4,
 "nbformat_minor": 2
}
